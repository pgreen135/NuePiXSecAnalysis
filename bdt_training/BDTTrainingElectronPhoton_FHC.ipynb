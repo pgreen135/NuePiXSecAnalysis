{
 "cells": [
  {
   "cell_type": "code",
   "execution_count": 2,
   "id": "9ff74bf7",
   "metadata": {},
   "outputs": [],
   "source": [
    "import sys\n",
    "import uproot3 as uproot\n",
    "import numpy as np\n",
    "import pandas as pd\n",
    "import matplotlib.pyplot as plt\n",
    "\n",
    "from sklearn.model_selection import train_test_split\n",
    "from sklearn.metrics import accuracy_score, mean_squared_error, log_loss\n",
    "import pickle\n",
    "import xgboost as xgb\n",
    "\n",
    "from hyperopt import hp, fmin, tpe, Trials\n",
    "from hyperopt.pyll.base import scope\n",
    "from tqdm import tqdm"
   ]
  },
  {
   "cell_type": "code",
   "execution_count": 3,
   "id": "71717848",
   "metadata": {},
   "outputs": [
    {
     "data": {
      "text/plain": [
       "<matplotlib.pyplot._IonContext at 0x103e4abc0>"
      ]
     },
     "execution_count": 3,
     "metadata": {},
     "output_type": "execute_result"
    }
   ],
   "source": [
    "%matplotlib inline\n",
    "plt.ion()"
   ]
  },
  {
   "cell_type": "code",
   "execution_count": 4,
   "id": "3d768ebe",
   "metadata": {},
   "outputs": [],
   "source": [
    "# data frame to hold all data\n",
    "datafile = uproot.open(\"/Users/patrick/Documents/MicroBooNE/CrossSections/NuePiXSec_Analysis/BDTTraining/electronPhoton/TrainingTree_ElectronPhotonSeparation_FHC_Nov2023.root\")[\"trainingTree\"]\n",
    "\n",
    "variables = (\n",
    "    \"isSignal\",\n",
    "    \n",
    "    \"n_showers_contained\",\n",
    "    \"shr_distance\",\n",
    "    \"shr_trkfit_gap10_dedx_max\",\n",
    "    \"shr_trkfit_2cm_dedx_max\",\n",
    "    \"shrmoliereavg\",\n",
    "    \"shr_energyFraction\",\n",
    "    \"shrsubclusters\",\n",
    "    \"shrPCA1CMed_5cm\",\n",
    "    \"CylFrac2h_1cm\",\n",
    "    \"DeltaRMS2h\",\n",
    "    \"shrMCSMom\",\n",
    "     \n",
    "    \"shr_energy_second_cali\",\n",
    "    \"shr2_distance\",\n",
    "    \"shr12_p1_dstart\",\n",
    "    \"shr2_trackEndProximity\",\n",
    "    \"shr2_pfpgeneration\",\n",
    "    \n",
    "    \"secondshower_Y_nhit\",\n",
    "    \"secondshower_Y_vtxdist\",\n",
    "    \"secondshower_Y_dot\",\n",
    "    \"secondshower_Y_anglediff\",\n",
    "    \"secondshower_U_nhit\",\n",
    "    \"secondshower_U_vtxdist\",\n",
    "    \"secondshower_U_dot\",\n",
    "    \"secondshower_U_anglediff\",\n",
    "    \"secondshower_V_nhit\",\n",
    "    \"secondshower_V_vtxdist\",\n",
    "    \"secondshower_V_dot\",\n",
    "    \"secondshower_V_anglediff\"\n",
    ")\n",
    "\n",
    "df = pd.DataFrame(datafile.arrays(namedecode='utf-8', branches=variables))\n",
    "\n",
    "# shuffle to avoid intrinsic sample being at start\n",
    "#df = df.sample(frac=1).reset_index(drop=True)"
   ]
  },
  {
   "cell_type": "code",
   "execution_count": 5,
   "id": "1ee9a0ce",
   "metadata": {},
   "outputs": [
    {
     "name": "stdout",
     "output_type": "stream",
     "text": [
      "(44731, 29)\n",
      "Index(['isSignal', 'n_showers_contained', 'shr_distance',\n",
      "       'shr_trkfit_gap10_dedx_max', 'shr_trkfit_2cm_dedx_max', 'shrmoliereavg',\n",
      "       'shr_energyFraction', 'shrsubclusters', 'shrPCA1CMed_5cm',\n",
      "       'CylFrac2h_1cm', 'DeltaRMS2h', 'shrMCSMom', 'shr_energy_second_cali',\n",
      "       'shr2_distance', 'shr12_p1_dstart', 'shr2_trackEndProximity',\n",
      "       'shr2_pfpgeneration', 'secondshower_Y_nhit', 'secondshower_Y_vtxdist',\n",
      "       'secondshower_Y_dot', 'secondshower_Y_anglediff', 'secondshower_U_nhit',\n",
      "       'secondshower_U_vtxdist', 'secondshower_U_dot',\n",
      "       'secondshower_U_anglediff', 'secondshower_V_nhit',\n",
      "       'secondshower_V_vtxdist', 'secondshower_V_dot',\n",
      "       'secondshower_V_anglediff'],\n",
      "      dtype='object')\n"
     ]
    },
    {
     "data": {
      "text/html": [
       "<div>\n",
       "<style scoped>\n",
       "    .dataframe tbody tr th:only-of-type {\n",
       "        vertical-align: middle;\n",
       "    }\n",
       "\n",
       "    .dataframe tbody tr th {\n",
       "        vertical-align: top;\n",
       "    }\n",
       "\n",
       "    .dataframe thead th {\n",
       "        text-align: right;\n",
       "    }\n",
       "</style>\n",
       "<table border=\"1\" class=\"dataframe\">\n",
       "  <thead>\n",
       "    <tr style=\"text-align: right;\">\n",
       "      <th></th>\n",
       "      <th>isSignal</th>\n",
       "      <th>n_showers_contained</th>\n",
       "      <th>shr_distance</th>\n",
       "      <th>shr_trkfit_gap10_dedx_max</th>\n",
       "      <th>shr_trkfit_2cm_dedx_max</th>\n",
       "      <th>shrmoliereavg</th>\n",
       "      <th>shr_energyFraction</th>\n",
       "      <th>shrsubclusters</th>\n",
       "      <th>shrPCA1CMed_5cm</th>\n",
       "      <th>CylFrac2h_1cm</th>\n",
       "      <th>...</th>\n",
       "      <th>secondshower_Y_dot</th>\n",
       "      <th>secondshower_Y_anglediff</th>\n",
       "      <th>secondshower_U_nhit</th>\n",
       "      <th>secondshower_U_vtxdist</th>\n",
       "      <th>secondshower_U_dot</th>\n",
       "      <th>secondshower_U_anglediff</th>\n",
       "      <th>secondshower_V_nhit</th>\n",
       "      <th>secondshower_V_vtxdist</th>\n",
       "      <th>secondshower_V_dot</th>\n",
       "      <th>secondshower_V_anglediff</th>\n",
       "    </tr>\n",
       "  </thead>\n",
       "  <tbody>\n",
       "    <tr>\n",
       "      <th>0</th>\n",
       "      <td>True</td>\n",
       "      <td>2.0</td>\n",
       "      <td>1.361847</td>\n",
       "      <td>2.391630</td>\n",
       "      <td>2.491226</td>\n",
       "      <td>4.280891</td>\n",
       "      <td>0.889582</td>\n",
       "      <td>19.0</td>\n",
       "      <td>0.749226</td>\n",
       "      <td>0.110811</td>\n",
       "      <td>...</td>\n",
       "      <td>0.952021</td>\n",
       "      <td>16.320152</td>\n",
       "      <td>26.0</td>\n",
       "      <td>77.409691</td>\n",
       "      <td>0.892312</td>\n",
       "      <td>16.692207</td>\n",
       "      <td>6.0</td>\n",
       "      <td>222.094467</td>\n",
       "      <td>0.873353</td>\n",
       "      <td>117.697388</td>\n",
       "    </tr>\n",
       "    <tr>\n",
       "      <th>1</th>\n",
       "      <td>True</td>\n",
       "      <td>1.0</td>\n",
       "      <td>4.306019</td>\n",
       "      <td>0.895024</td>\n",
       "      <td>4.533725</td>\n",
       "      <td>6.053484</td>\n",
       "      <td>1.000000</td>\n",
       "      <td>33.0</td>\n",
       "      <td>0.875136</td>\n",
       "      <td>0.384365</td>\n",
       "      <td>...</td>\n",
       "      <td>0.999895</td>\n",
       "      <td>16.723740</td>\n",
       "      <td>7.0</td>\n",
       "      <td>66.533485</td>\n",
       "      <td>0.958273</td>\n",
       "      <td>20.377441</td>\n",
       "      <td>15.0</td>\n",
       "      <td>49.797924</td>\n",
       "      <td>0.805578</td>\n",
       "      <td>69.659874</td>\n",
       "    </tr>\n",
       "    <tr>\n",
       "      <th>2</th>\n",
       "      <td>True</td>\n",
       "      <td>1.0</td>\n",
       "      <td>1.011665</td>\n",
       "      <td>1.921794</td>\n",
       "      <td>6.640382</td>\n",
       "      <td>5.618897</td>\n",
       "      <td>1.000000</td>\n",
       "      <td>26.0</td>\n",
       "      <td>0.755098</td>\n",
       "      <td>0.078505</td>\n",
       "      <td>...</td>\n",
       "      <td>0.990471</td>\n",
       "      <td>24.694702</td>\n",
       "      <td>120.0</td>\n",
       "      <td>37.359657</td>\n",
       "      <td>0.855770</td>\n",
       "      <td>69.337563</td>\n",
       "      <td>43.0</td>\n",
       "      <td>12.003168</td>\n",
       "      <td>0.991874</td>\n",
       "      <td>36.981144</td>\n",
       "    </tr>\n",
       "    <tr>\n",
       "      <th>3</th>\n",
       "      <td>True</td>\n",
       "      <td>1.0</td>\n",
       "      <td>1.524562</td>\n",
       "      <td>4.395074</td>\n",
       "      <td>1.039313</td>\n",
       "      <td>3.088602</td>\n",
       "      <td>1.000000</td>\n",
       "      <td>30.0</td>\n",
       "      <td>0.792886</td>\n",
       "      <td>0.243373</td>\n",
       "      <td>...</td>\n",
       "      <td>0.806665</td>\n",
       "      <td>67.971069</td>\n",
       "      <td>4.0</td>\n",
       "      <td>242.963531</td>\n",
       "      <td>0.288863</td>\n",
       "      <td>8.512268</td>\n",
       "      <td>44.0</td>\n",
       "      <td>208.757004</td>\n",
       "      <td>0.936602</td>\n",
       "      <td>80.660110</td>\n",
       "    </tr>\n",
       "    <tr>\n",
       "      <th>4</th>\n",
       "      <td>True</td>\n",
       "      <td>1.0</td>\n",
       "      <td>3.959483</td>\n",
       "      <td>3.885626</td>\n",
       "      <td>4.496326</td>\n",
       "      <td>11.959663</td>\n",
       "      <td>1.000000</td>\n",
       "      <td>16.0</td>\n",
       "      <td>0.917910</td>\n",
       "      <td>0.044444</td>\n",
       "      <td>...</td>\n",
       "      <td>0.262010</td>\n",
       "      <td>74.674530</td>\n",
       "      <td>98.0</td>\n",
       "      <td>112.487328</td>\n",
       "      <td>0.835975</td>\n",
       "      <td>47.688683</td>\n",
       "      <td>7.0</td>\n",
       "      <td>14.291335</td>\n",
       "      <td>0.987896</td>\n",
       "      <td>52.240875</td>\n",
       "    </tr>\n",
       "  </tbody>\n",
       "</table>\n",
       "<p>5 rows × 29 columns</p>\n",
       "</div>"
      ],
      "text/plain": [
       "   isSignal  n_showers_contained  shr_distance  shr_trkfit_gap10_dedx_max  \\\n",
       "0      True                  2.0      1.361847                   2.391630   \n",
       "1      True                  1.0      4.306019                   0.895024   \n",
       "2      True                  1.0      1.011665                   1.921794   \n",
       "3      True                  1.0      1.524562                   4.395074   \n",
       "4      True                  1.0      3.959483                   3.885626   \n",
       "\n",
       "   shr_trkfit_2cm_dedx_max  shrmoliereavg  shr_energyFraction  shrsubclusters  \\\n",
       "0                 2.491226       4.280891            0.889582            19.0   \n",
       "1                 4.533725       6.053484            1.000000            33.0   \n",
       "2                 6.640382       5.618897            1.000000            26.0   \n",
       "3                 1.039313       3.088602            1.000000            30.0   \n",
       "4                 4.496326      11.959663            1.000000            16.0   \n",
       "\n",
       "   shrPCA1CMed_5cm  CylFrac2h_1cm  ...  secondshower_Y_dot  \\\n",
       "0         0.749226       0.110811  ...            0.952021   \n",
       "1         0.875136       0.384365  ...            0.999895   \n",
       "2         0.755098       0.078505  ...            0.990471   \n",
       "3         0.792886       0.243373  ...            0.806665   \n",
       "4         0.917910       0.044444  ...            0.262010   \n",
       "\n",
       "   secondshower_Y_anglediff  secondshower_U_nhit  secondshower_U_vtxdist  \\\n",
       "0                 16.320152                 26.0               77.409691   \n",
       "1                 16.723740                  7.0               66.533485   \n",
       "2                 24.694702                120.0               37.359657   \n",
       "3                 67.971069                  4.0              242.963531   \n",
       "4                 74.674530                 98.0              112.487328   \n",
       "\n",
       "   secondshower_U_dot  secondshower_U_anglediff  secondshower_V_nhit  \\\n",
       "0            0.892312                 16.692207                  6.0   \n",
       "1            0.958273                 20.377441                 15.0   \n",
       "2            0.855770                 69.337563                 43.0   \n",
       "3            0.288863                  8.512268                 44.0   \n",
       "4            0.835975                 47.688683                  7.0   \n",
       "\n",
       "   secondshower_V_vtxdist  secondshower_V_dot  secondshower_V_anglediff  \n",
       "0              222.094467            0.873353                117.697388  \n",
       "1               49.797924            0.805578                 69.659874  \n",
       "2               12.003168            0.991874                 36.981144  \n",
       "3              208.757004            0.936602                 80.660110  \n",
       "4               14.291335            0.987896                 52.240875  \n",
       "\n",
       "[5 rows x 29 columns]"
      ]
     },
     "execution_count": 5,
     "metadata": {},
     "output_type": "execute_result"
    }
   ],
   "source": [
    "print(df.shape) \n",
    "print(df.keys())\n",
    "df.head()"
   ]
  },
  {
   "cell_type": "code",
   "execution_count": 6,
   "id": "366bd6a7",
   "metadata": {},
   "outputs": [
    {
     "name": "stdout",
     "output_type": "stream",
     "text": [
      "1.0823518458172339\n"
     ]
    }
   ],
   "source": [
    "# calculate neg / pos weight\n",
    "scale_weight = (df.query('isSignal == 0')).shape[0] / (df.query('isSignal == 1')).shape[0]\n",
    "print(scale_weight)"
   ]
  },
  {
   "cell_type": "code",
   "execution_count": 7,
   "id": "342a2870",
   "metadata": {},
   "outputs": [
    {
     "name": "stdout",
     "output_type": "stream",
     "text": [
      "23250\n",
      "21481\n"
     ]
    }
   ],
   "source": [
    "print((df.query('isSignal == 0')).shape[0])\n",
    "print((df.query('isSignal == 1')).shape[0])"
   ]
  },
  {
   "cell_type": "code",
   "execution_count": 6,
   "id": "cedccf90",
   "metadata": {},
   "outputs": [],
   "source": [
    "# splitting into testing and training samples\n",
    "df_train, df_test = train_test_split(df, test_size = 0.3, random_state = 1)\n",
    "labels_train = df_train[\"isSignal\"]\n",
    "labels_test = df_test[\"isSignal\"]\n",
    "\n",
    "df_train_sig = df_train.query(\"isSignal == True\")\n",
    "df_train_bkg = df_train.query(\"isSignal == False\")\n",
    "df_test_sig = df_test.query(\"isSignal == True\")\n",
    "df_test_bkg = df_test.query(\"isSignal == False\")"
   ]
  },
  {
   "cell_type": "code",
   "execution_count": 7,
   "id": "6d303f39",
   "metadata": {},
   "outputs": [
    {
     "name": "stderr",
     "output_type": "stream",
     "text": [
      "/var/folders/2x/l68t7zdd3tngj9l8__x4bmrh0000gq/T/ipykernel_75384/2372294200.py:36: FutureWarning: Passing a set as an indexer is deprecated and will raise in a future version. Use a list instead.\n",
      "  xgb_train_dict = xgb.DMatrix(df_train[bdt_vars], label=labels_train, missing=missing_value, feature_names=bdt_vars)\n",
      "/var/folders/2x/l68t7zdd3tngj9l8__x4bmrh0000gq/T/ipykernel_75384/2372294200.py:37: FutureWarning: Passing a set as an indexer is deprecated and will raise in a future version. Use a list instead.\n",
      "  xgb_train_sig_dict = xgb.DMatrix(df_train_sig[bdt_vars], label=df_train_sig[\"isSignal\"], missing=missing_value, feature_names=bdt_vars)\n",
      "/var/folders/2x/l68t7zdd3tngj9l8__x4bmrh0000gq/T/ipykernel_75384/2372294200.py:38: FutureWarning: Passing a set as an indexer is deprecated and will raise in a future version. Use a list instead.\n",
      "  xgb_train_bkg_dict = xgb.DMatrix(df_train_bkg[bdt_vars], label=df_train_bkg[\"isSignal\"], missing=missing_value, feature_names=bdt_vars)\n",
      "/var/folders/2x/l68t7zdd3tngj9l8__x4bmrh0000gq/T/ipykernel_75384/2372294200.py:40: FutureWarning: Passing a set as an indexer is deprecated and will raise in a future version. Use a list instead.\n",
      "  xgb_test_dict = xgb.DMatrix(df_test[bdt_vars], label=labels_test, missing=missing_value, feature_names=bdt_vars)\n",
      "/var/folders/2x/l68t7zdd3tngj9l8__x4bmrh0000gq/T/ipykernel_75384/2372294200.py:41: FutureWarning: Passing a set as an indexer is deprecated and will raise in a future version. Use a list instead.\n",
      "  xgb_test_sig_dict = xgb.DMatrix(df_test_sig[bdt_vars], label=df_test_sig[\"isSignal\"], missing=missing_value, feature_names=bdt_vars)\n",
      "/var/folders/2x/l68t7zdd3tngj9l8__x4bmrh0000gq/T/ipykernel_75384/2372294200.py:42: FutureWarning: Passing a set as an indexer is deprecated and will raise in a future version. Use a list instead.\n",
      "  xgb_test_bkg_dict = xgb.DMatrix(df_test_bkg[bdt_vars], label=df_test_bkg[\"isSignal\"], missing=missing_value, feature_names=bdt_vars)\n"
     ]
    }
   ],
   "source": [
    "# convert to DMatrix format\n",
    "missing_value = 9999\n",
    "bdt_vars = {\n",
    "    \"n_showers_contained\",\n",
    "    \"shr_distance\",\n",
    "    \"shr_trkfit_gap10_dedx_max\",\n",
    "    \"shr_trkfit_2cm_dedx_max\",\n",
    "    \"shrmoliereavg\",\n",
    "    \"shr_energyFraction\",\n",
    "    \"shrsubclusters\",\n",
    "    \"shrPCA1CMed_5cm\",\n",
    "    \"CylFrac2h_1cm\",\n",
    "    \"DeltaRMS2h\",\n",
    "    \"shrMCSMom\",\n",
    "     \n",
    "    \"shr_energy_second_cali\",\n",
    "    \"shr2_distance\",\n",
    "    \"shr12_p1_dstart\",\n",
    "    \"shr2_trackEndProximity\",\n",
    "    \"shr2_pfpgeneration\",\n",
    "    \n",
    "    \"secondshower_Y_nhit\",\n",
    "    \"secondshower_Y_vtxdist\",\n",
    "    \"secondshower_Y_dot\",\n",
    "    \"secondshower_Y_anglediff\",\n",
    "    \"secondshower_U_nhit\",\n",
    "    \"secondshower_U_vtxdist\",\n",
    "    \"secondshower_U_dot\",\n",
    "    \"secondshower_U_anglediff\",\n",
    "    \"secondshower_V_nhit\",\n",
    "    \"secondshower_V_vtxdist\",\n",
    "    \"secondshower_V_dot\",\n",
    "    \"secondshower_V_anglediff\"\n",
    "}\n",
    "\n",
    "xgb_train_dict = xgb.DMatrix(df_train[bdt_vars], label=labels_train, missing=missing_value, feature_names=bdt_vars)\n",
    "xgb_train_sig_dict = xgb.DMatrix(df_train_sig[bdt_vars], label=df_train_sig[\"isSignal\"], missing=missing_value, feature_names=bdt_vars)\n",
    "xgb_train_bkg_dict = xgb.DMatrix(df_train_bkg[bdt_vars], label=df_train_bkg[\"isSignal\"], missing=missing_value, feature_names=bdt_vars)\n",
    "\n",
    "xgb_test_dict = xgb.DMatrix(df_test[bdt_vars], label=labels_test, missing=missing_value, feature_names=bdt_vars)\n",
    "xgb_test_sig_dict = xgb.DMatrix(df_test_sig[bdt_vars], label=df_test_sig[\"isSignal\"], missing=missing_value, feature_names=bdt_vars)\n",
    "xgb_test_bkg_dict = xgb.DMatrix(df_test_bkg[bdt_vars], label=df_test_bkg[\"isSignal\"], missing=missing_value, feature_names=bdt_vars)"
   ]
  },
  {
   "cell_type": "code",
   "execution_count": 77,
   "id": "4892a116",
   "metadata": {},
   "outputs": [],
   "source": [
    "# configuring XGBoost \n",
    "xgb_param = {'booster': 'dart',\n",
    "        'max_depth':5,\n",
    "        'eta': 0.03,\n",
    "        'gamma': 1,\n",
    "        'objective':'binary:logistic',\n",
    "        'tree_method':'hist',\n",
    "        'rate_drop': 0.1,\n",
    "        'skip_drop': 0.5,\n",
    "        'scale_pos_weight': scale_weight,\n",
    "        'nthread' : 6,\n",
    "        'random_state': 0 }\n",
    "\n",
    "num_round = 500\n",
    "progress = dict()\n",
    "\n",
    "watchlist = [(xgb_train_dict, 'train'), (xgb_test_dict, 'test'), (xgb_test_sig_dict, 'test_sig'), (xgb_test_bkg_dict, 'test_bkg')]"
   ]
  },
  {
   "cell_type": "code",
   "execution_count": 30,
   "id": "b59b6029",
   "metadata": {},
   "outputs": [],
   "source": [
    "# HyperOpt Aug 10\n",
    "#{'colsample_bytree': 0.7747664542041863,\n",
    "#'eta': 0.05140985915968113,\n",
    "#'gamma': 1.0659827151260441,\n",
    "#'max_depth': 6, \n",
    "#'min_child_weight': 8.024849496961474, \n",
    "#'subsample': 0.6433568683737285}\n",
    "#500\n",
    "# configuring XGBoost (Optimised values using HyperOpt)\n",
    "xgb_param = {'booster': 'dart',\n",
    "        'max_depth':6,\n",
    "        'eta': 0.05,\n",
    "        'gamma': 0.75,\n",
    "        'min_child_weight': 5.0,\n",
    "        'subsample': 0.75,\n",
    "        'objective':'binary:logistic',\n",
    "        'tree_method':'hist',\n",
    "        'rate_drop': 0.1,\n",
    "        'skip_drop': 0.5,    \n",
    "        'scale_pos_weight': scale_weight,\n",
    "        'nthread' : 6, \n",
    "        'random_state': 27} #27}\n",
    "\n",
    "num_round = 200\n",
    "progress = dict()\n",
    "\n",
    "watchlist = [(xgb_train_dict, 'train'), (xgb_test_dict, 'test'), (xgb_test_sig_dict, 'test_sig'), (xgb_test_bkg_dict, 'test_bkg')]"
   ]
  },
  {
   "cell_type": "code",
   "execution_count": 31,
   "id": "fa86d6e3",
   "metadata": {},
   "outputs": [],
   "source": [
    "# training\n",
    "bdt = xgb.train(xgb_param, xgb_train_dict, num_round, watchlist, evals_result=progress, verbose_eval=False)"
   ]
  },
  {
   "cell_type": "code",
   "execution_count": 34,
   "id": "5fddef82",
   "metadata": {},
   "outputs": [],
   "source": [
    "# save pickle \n",
    "pickle.dump(bdt, open(\"electronPhotonBDT.pickle.dat\", \"wb\"))"
   ]
  },
  {
   "cell_type": "code",
   "execution_count": 35,
   "id": "df31b699",
   "metadata": {},
   "outputs": [],
   "source": [
    "# load from pickle\n",
    "bdt = pickle.load(open(\"electronPhotonBDT.pickle.dat\", \"rb\"))"
   ]
  },
  {
   "cell_type": "code",
   "execution_count": 36,
   "id": "bbd97f3f",
   "metadata": {},
   "outputs": [],
   "source": [
    "# save model\n",
    "bdt.save_model(\"bdt_electronPhoton.model\")\n",
    "bdt.save_model(\"bdt_electronPhoton.json\")"
   ]
  },
  {
   "cell_type": "code",
   "execution_count": 157,
   "id": "c1439a4a",
   "metadata": {},
   "outputs": [],
   "source": [
    "bdt.dump_model(\"bdt_electronPhotondump.txt\")"
   ]
  },
  {
   "cell_type": "code",
   "execution_count": 41,
   "id": "de6db2df",
   "metadata": {},
   "outputs": [
    {
     "data": {
      "image/png": "[encoded data removed]",
      "text/plain": [
       "<Figure size 432x288 with 1 Axes>"
      ]
     },
     "metadata": {
      "needs_background": "light"
     },
     "output_type": "display_data"
    },
    {
     "name": "stdout",
     "output_type": "stream",
     "text": [
      "0.34878325995096726 0.4057716918560286\n"
     ]
    }
   ],
   "source": [
    "# plot training rate\n",
    "results = progress\n",
    "epochs = len(results['train']['logloss'])\n",
    "x_axis = range(0, epochs)\n",
    "\n",
    "fig, ax = plt.subplots()\n",
    "ax.plot(x_axis, results['train']['logloss'], label='Train')\n",
    "ax.plot(x_axis, results['test']['logloss'], label='Test')\n",
    "ax.legend()\n",
    "plt.ylim(0, 0.75)\n",
    "plt.xlabel(\"Iteration\")\n",
    "plt.ylabel(\"Log-loss\")\n",
    "plt.show()\n",
    "\n",
    "print(results['train']['logloss'][-1], results['test']['logloss'][-1])\n",
    "#fig.savefig(\"training_rate_electronphoton_fhc.pdf\", format=\"pdf\")"
   ]
  },
  {
   "cell_type": "code",
   "execution_count": 38,
   "id": "0e3877c8",
   "metadata": {},
   "outputs": [
    {
     "data": {
      "text/plain": [
       "<Figure size 1440x1440 with 0 Axes>"
      ]
     },
     "metadata": {},
     "output_type": "display_data"
    },
    {
     "data": {
      "image/png": "[encoded data removed]",
      "text/plain": [
       "<Figure size 432x288 with 1 Axes>"
      ]
     },
     "metadata": {
      "needs_background": "light"
     },
     "output_type": "display_data"
    }
   ],
   "source": [
    "# plot importances\n",
    "importance = bdt.get_score(importance_type=\"gain\")\n",
    "\n",
    "for key in importance.keys():\n",
    "        importance[key] = round(importance[key],1)\n",
    "\n",
    "# plotting importances of variables\n",
    "plt.figure(figsize=(20,20),facecolor='white')\n",
    "a = xgb.plot_importance(importance,max_num_features=30,importance_type='gain')\n",
    "plt.xlim(0, 120)\n",
    "plt.tight_layout()\n",
    "#plt.savefig(\"feature_importance_electronphoton_fhc.pdf\", format=\"pdf\")"
   ]
  },
  {
   "cell_type": "code",
   "execution_count": 19,
   "id": "e447aae1",
   "metadata": {},
   "outputs": [
    {
     "data": {
      "text/plain": [
       "<Figure size 432x288 with 0 Axes>"
      ]
     },
     "metadata": {},
     "output_type": "display_data"
    }
   ],
   "source": []
  },
  {
   "cell_type": "code",
   "execution_count": 40,
   "id": "9ce8471b",
   "metadata": {},
   "outputs": [
    {
     "data": {
      "image/png": "[encoded data removed]",
      "text/plain": [
       "<Figure size 504x360 with 1 Axes>"
      ]
     },
     "metadata": {
      "needs_background": "light"
     },
     "output_type": "display_data"
    }
   ],
   "source": [
    "# plot test vs training\n",
    "predictions_train_sig = bdt.predict(xgb_train_sig_dict)\n",
    "predictions_train_bkg = bdt.predict(xgb_train_bkg_dict)\n",
    "predictions_test_sig = bdt.predict(xgb_test_sig_dict)\n",
    "predictions_test_bkg = bdt.predict(xgb_test_bkg_dict)\n",
    "\n",
    "hist_range=[0,1.0]\n",
    "n_bins=20\n",
    "\n",
    "plt.figure(figsize=(7,5))\n",
    "plt.hist(predictions_train_sig,bins=n_bins, range=hist_range, density=True,alpha=0.2,color='red',label='Train Signal' )\n",
    "counts,bin_edges = np.histogram(predictions_test_sig,bins=n_bins,range=hist_range,density=True)\n",
    "bin_centers = (bin_edges[:-1] + bin_edges[1:])/2.\n",
    "plt.plot(bin_centers,counts,marker='o',linestyle=\"None\",color='red',label='Test Signal')\n",
    "\n",
    "plt.hist(predictions_train_bkg, bins = n_bins, range = hist_range, density = True, alpha = 0.2, color = 'blue', label = r'Train Background')\n",
    "counts,bin_edges = np.histogram(predictions_test_bkg,bins = n_bins, range= hist_range,density = True)\n",
    "bin_centers = (bin_edges[:-1] +  bin_edges[1:])/2.\n",
    "plt.plot(bin_centers,counts,marker='o',linestyle =\"None\",color='blue',label = r'Test Background')\n",
    "plt.legend()\n",
    "\n",
    "plt.xlabel(\"Score\")\n",
    "\n",
    "plt.tight_layout()\n",
    "\n",
    "#plt.savefig(\"performance_electronphoton_fhc.pdf\", format=\"pdf\")"
   ]
  },
  {
   "cell_type": "code",
   "execution_count": 71,
   "id": "9b10a940",
   "metadata": {},
   "outputs": [
    {
     "data": {
      "text/plain": [
       "<Figure size 432x288 with 0 Axes>"
      ]
     },
     "metadata": {},
     "output_type": "display_data"
    }
   ],
   "source": []
  },
  {
   "cell_type": "code",
   "execution_count": 53,
   "id": "8bf0e72a",
   "metadata": {},
   "outputs": [
    {
     "data": {
      "image/png": "[encoded data removed]",
      "text/plain": [
       "<Figure size 432x288 with 1 Axes>"
      ]
     },
     "metadata": {
      "needs_background": "light"
     },
     "output_type": "display_data"
    }
   ],
   "source": [
    "# create plot of predictions (testing samples)\n",
    "num_bins = 20\n",
    "\n",
    "plt.hist(predictions_test_sig, num_bins, color ='blue', alpha = 0.5)\n",
    "plt.hist(predictions_test_bkg, num_bins, color ='red', alpha = 0.5)\n",
    "\n",
    "plt.show()"
   ]
  },
  {
   "cell_type": "code",
   "execution_count": 54,
   "id": "f32b133e",
   "metadata": {},
   "outputs": [
    {
     "data": {
      "image/png": "[encoded data removed]",
      "text/plain": [
       "<Figure size 432x288 with 1 Axes>"
      ]
     },
     "metadata": {
      "needs_background": "light"
     },
     "output_type": "display_data"
    }
   ],
   "source": [
    "# create plot of predictions (training samples)\n",
    "num_bins = 20\n",
    "   \n",
    "plt.hist(predictions_train_sig, num_bins, color ='blue', alpha = 0.5)\n",
    "plt.hist(predictions_train_bkg, num_bins, color ='red', alpha = 0.5)\n",
    "\n",
    "plt.show()"
   ]
  },
  {
   "cell_type": "code",
   "execution_count": 25,
   "id": "74fffcde",
   "metadata": {},
   "outputs": [
    {
     "name": "stdout",
     "output_type": "stream",
     "text": [
      "[0]\teval-logloss:0.59620\n",
      "[20]\teval-logloss:0.41955\n",
      "[40]\teval-logloss:0.41199\n",
      "[60]\teval-logloss:0.40964\n",
      "[80]\teval-logloss:0.40782\n",
      "[92]\teval-logloss:0.40776\n",
      "0.4077245616530579\n"
     ]
    }
   ],
   "source": [
    "# Hyper parameter optimisation\n",
    "# Un-tunded base case estimator to compare score\n",
    "params_base = {'booster': 'dart',\n",
    "               'objective': 'binary:logistic',\n",
    "               'tree_method': 'hist',\n",
    "               'rate_drop': 0.1,\n",
    "               'skip_drop': 0.5,\n",
    "               'scale_pos_weight': scale_weight,\n",
    "               'random_state': 27}\n",
    "\n",
    "base_model = xgb.train(params = params_base,\n",
    "                       dtrain = xgb_train_dict,\n",
    "                       num_boost_round = 250,\n",
    "                       evals = [(xgb_test_dict,'eval')],\n",
    "                       early_stopping_rounds=10,\n",
    "                       verbose_eval = 20)\n",
    "\n",
    "y_pred_base = base_model.predict(xgb_test_dict)\n",
    "\n",
    "base_score = log_loss(df_test[\"isSignal\"].values, y_pred_base)\n",
    "print(base_score)"
   ]
  },
  {
   "cell_type": "code",
   "execution_count": 78,
   "id": "95b42c2d",
   "metadata": {},
   "outputs": [],
   "source": [
    "# Simple Cross Val score as function to be optimised\n",
    "def score(params):\n",
    "    \n",
    "    ps = {'eta': params['eta'],\n",
    "         'max_depth': params['max_depth'], \n",
    "         'gamma': params['gamma'],\n",
    "         'min_child_weight': params['min_child_weight'], \n",
    "         'subsample': params['subsample'], \n",
    "         'colsample_bytree': params['colsample_bytree'], \n",
    "         'verbosity': 1, \n",
    "         'objective': 'binary:logistic',\n",
    "         'booster': 'dart',\n",
    "         'eval_metric': 'logloss', \n",
    "         'tree_method': 'hist', \n",
    "         'rate_drop': 0.1,\n",
    "         'skip_drop': 0.5,    \n",
    "         'scale_pos_weight': scale_weight,\n",
    "         'random_state': 27,\n",
    "         }\n",
    "    model = xgb.train(ps,xgb_train_dict, params['n_round'], [(xgb_test_dict, 'eval')], early_stopping_rounds=10, verbose_eval = False)\n",
    "    y_pred = model.predict(xgb_test_dict)\n",
    "    score = log_loss(df_test[\"isSignal\"].values, y_pred)\n",
    "\n",
    "    return score"
   ]
  },
  {
   "cell_type": "code",
   "execution_count": 79,
   "id": "aac0a689",
   "metadata": {},
   "outputs": [],
   "source": [
    "# Define parameter space\n",
    "param_space = {'eta': hp.uniform('eta', 0.01, 0.3), \n",
    "               'n_round': scope.int(hp.quniform('n_round', 100, 400, 50)),\n",
    "               'max_depth': scope.int(hp.quniform('max_depth', 3, 8, 1)), \n",
    "               'gamma': hp.uniform('gamma', 0.5, 10), \n",
    "               'min_child_weight': hp.uniform('min_child_weight', 0.5, 10),\n",
    "               'subsample': hp.uniform('subsample', 0.1, 1), \n",
    "               'colsample_bytree': hp.uniform('colsample_bytree', 0.1, 1),  \n",
    "              }\n"
   ]
  },
  {
   "cell_type": "code",
   "execution_count": 80,
   "id": "67ae597f",
   "metadata": {},
   "outputs": [
    {
     "name": "stdout",
     "output_type": "stream",
     "text": [
      "CPU times: user 3 µs, sys: 1 µs, total: 4 µs\n",
      "Wall time: 34.8 µs\n",
      "\r",
      "  0%|                                                                                                                     | 0/100 [00:00<?, ?trial/s, best loss=?]"
     ]
    },
    {
     "name": "stderr",
     "output_type": "stream",
     "text": [
      "/opt/homebrew/lib/python3.10/site-packages/xgboost/core.py:617: FutureWarning: Pass `evals` as keyword args.\n",
      "  warnings.warn(msg, FutureWarning)\n",
      "\n"
     ]
    },
    {
     "name": "stdout",
     "output_type": "stream",
     "text": [
      "\r",
      "  1%|▉                                                                                          | 1/100 [00:26<43:15, 26.21s/trial, best loss: 0.4061331083456982]"
     ]
    },
    {
     "name": "stderr",
     "output_type": "stream",
     "text": [
      "/opt/homebrew/lib/python3.10/site-packages/xgboost/core.py:617: FutureWarning: Pass `evals` as keyword args.\n",
      "  warnings.warn(msg, FutureWarning)\n",
      "\n"
     ]
    },
    {
     "name": "stdout",
     "output_type": "stream",
     "text": [
      "\r",
      "  2%|█▊                                                                                         | 2/100 [01:00<50:55, 31.18s/trial, best loss: 0.4061331083456982]"
     ]
    },
    {
     "name": "stderr",
     "output_type": "stream",
     "text": [
      "/opt/homebrew/lib/python3.10/site-packages/xgboost/core.py:617: FutureWarning: Pass `evals` as keyword args.\n",
      "  warnings.warn(msg, FutureWarning)\n",
      "\n"
     ]
    },
    {
     "name": "stdout",
     "output_type": "stream",
     "text": [
      "\r",
      "  3%|██▋                                                                                        | 3/100 [01:21<42:39, 26.38s/trial, best loss: 0.4061331083456982]"
     ]
    },
    {
     "name": "stderr",
     "output_type": "stream",
     "text": [
      "/opt/homebrew/lib/python3.10/site-packages/xgboost/core.py:617: FutureWarning: Pass `evals` as keyword args.\n",
      "  warnings.warn(msg, FutureWarning)\n",
      "\n"
     ]
    },
    {
     "name": "stdout",
     "output_type": "stream",
     "text": [
      "\r",
      "  4%|███▋                                                                                       | 4/100 [01:31<31:50, 19.90s/trial, best loss: 0.4061331083456982]"
     ]
    },
    {
     "name": "stderr",
     "output_type": "stream",
     "text": [
      "/opt/homebrew/lib/python3.10/site-packages/xgboost/core.py:617: FutureWarning: Pass `evals` as keyword args.\n",
      "  warnings.warn(msg, FutureWarning)\n",
      "\n"
     ]
    },
    {
     "name": "stdout",
     "output_type": "stream",
     "text": [
      "\r",
      "  5%|████▌                                                                                      | 5/100 [01:39<24:45, 15.64s/trial, best loss: 0.4061331083456982]"
     ]
    },
    {
     "name": "stderr",
     "output_type": "stream",
     "text": [
      "/opt/homebrew/lib/python3.10/site-packages/xgboost/core.py:617: FutureWarning: Pass `evals` as keyword args.\n",
      "  warnings.warn(msg, FutureWarning)\n",
      "\n"
     ]
    },
    {
     "name": "stdout",
     "output_type": "stream",
     "text": [
      "\r",
      "  6%|█████▍                                                                                     | 6/100 [02:09<32:18, 20.62s/trial, best loss: 0.4061331083456982]"
     ]
    },
    {
     "name": "stderr",
     "output_type": "stream",
     "text": [
      "/opt/homebrew/lib/python3.10/site-packages/xgboost/core.py:617: FutureWarning: Pass `evals` as keyword args.\n",
      "  warnings.warn(msg, FutureWarning)\n",
      "\n"
     ]
    },
    {
     "name": "stdout",
     "output_type": "stream",
     "text": [
      "\r",
      "  7%|██████▎                                                                                    | 7/100 [03:04<49:00, 31.62s/trial, best loss: 0.4061331083456982]"
     ]
    },
    {
     "name": "stderr",
     "output_type": "stream",
     "text": [
      "/opt/homebrew/lib/python3.10/site-packages/xgboost/core.py:617: FutureWarning: Pass `evals` as keyword args.\n",
      "  warnings.warn(msg, FutureWarning)\n",
      "\n"
     ]
    },
    {
     "name": "stdout",
     "output_type": "stream",
     "text": [
      "\r",
      "  8%|███████▎                                                                                   | 8/100 [03:36<48:56, 31.92s/trial, best loss: 0.4061331083456982]"
     ]
    },
    {
     "name": "stderr",
     "output_type": "stream",
     "text": [
      "/opt/homebrew/lib/python3.10/site-packages/xgboost/core.py:617: FutureWarning: Pass `evals` as keyword args.\n",
      "  warnings.warn(msg, FutureWarning)\n",
      "\n"
     ]
    },
    {
     "name": "stdout",
     "output_type": "stream",
     "text": [
      "\r",
      "  9%|████████                                                                                  | 9/100 [03:46<38:00, 25.06s/trial, best loss: 0.40547311473611863]"
     ]
    },
    {
     "name": "stderr",
     "output_type": "stream",
     "text": [
      "/opt/homebrew/lib/python3.10/site-packages/xgboost/core.py:617: FutureWarning: Pass `evals` as keyword args.\n",
      "  warnings.warn(msg, FutureWarning)\n",
      "\n"
     ]
    },
    {
     "name": "stdout",
     "output_type": "stream",
     "text": [
      "\r",
      " 10%|████████▉                                                                                | 10/100 [04:06<35:14, 23.50s/trial, best loss: 0.40547311473611863]"
     ]
    },
    {
     "name": "stderr",
     "output_type": "stream",
     "text": [
      "/opt/homebrew/lib/python3.10/site-packages/xgboost/core.py:617: FutureWarning: Pass `evals` as keyword args.\n",
      "  warnings.warn(msg, FutureWarning)\n",
      "\n"
     ]
    },
    {
     "name": "stdout",
     "output_type": "stream",
     "text": [
      "\r",
      " 11%|█████████▉                                                                                | 11/100 [04:25<32:45, 22.09s/trial, best loss: 0.4047270557108137]"
     ]
    },
    {
     "name": "stderr",
     "output_type": "stream",
     "text": [
      "/opt/homebrew/lib/python3.10/site-packages/xgboost/core.py:617: FutureWarning: Pass `evals` as keyword args.\n",
      "  warnings.warn(msg, FutureWarning)\n",
      "\n"
     ]
    },
    {
     "name": "stdout",
     "output_type": "stream",
     "text": [
      "\r",
      " 12%|██████████▊                                                                               | 12/100 [04:29<24:22, 16.61s/trial, best loss: 0.4047270557108137]"
     ]
    },
    {
     "name": "stderr",
     "output_type": "stream",
     "text": [
      "/opt/homebrew/lib/python3.10/site-packages/xgboost/core.py:617: FutureWarning: Pass `evals` as keyword args.\n",
      "  warnings.warn(msg, FutureWarning)\n",
      "\n"
     ]
    },
    {
     "name": "stdout",
     "output_type": "stream",
     "text": [
      "\r",
      " 13%|███████████▋                                                                              | 13/100 [05:40<47:56, 33.06s/trial, best loss: 0.4025451651765543]"
     ]
    },
    {
     "name": "stderr",
     "output_type": "stream",
     "text": [
      "/opt/homebrew/lib/python3.10/site-packages/xgboost/core.py:617: FutureWarning: Pass `evals` as keyword args.\n",
      "  warnings.warn(msg, FutureWarning)\n",
      "\n"
     ]
    },
    {
     "name": "stdout",
     "output_type": "stream",
     "text": [
      "\r",
      " 14%|████████████▎                                                                           | 14/100 [07:18<1:15:17, 52.53s/trial, best loss: 0.4025451651765543]"
     ]
    },
    {
     "name": "stderr",
     "output_type": "stream",
     "text": [
      "/opt/homebrew/lib/python3.10/site-packages/xgboost/core.py:617: FutureWarning: Pass `evals` as keyword args.\n",
      "  warnings.warn(msg, FutureWarning)\n",
      "\n"
     ]
    },
    {
     "name": "stdout",
     "output_type": "stream",
     "text": [
      "\r",
      " 15%|█████████████▏                                                                          | 15/100 [07:41<1:01:58, 43.74s/trial, best loss: 0.4025451651765543]"
     ]
    },
    {
     "name": "stderr",
     "output_type": "stream",
     "text": [
      "/opt/homebrew/lib/python3.10/site-packages/xgboost/core.py:617: FutureWarning: Pass `evals` as keyword args.\n",
      "  warnings.warn(msg, FutureWarning)\n",
      "\n"
     ]
    },
    {
     "name": "stdout",
     "output_type": "stream",
     "text": [
      "\r",
      " 16%|██████████████▍                                                                           | 16/100 [07:54<48:26, 34.61s/trial, best loss: 0.4025451651765543]"
     ]
    },
    {
     "name": "stderr",
     "output_type": "stream",
     "text": [
      "/opt/homebrew/lib/python3.10/site-packages/xgboost/core.py:617: FutureWarning: Pass `evals` as keyword args.\n",
      "  warnings.warn(msg, FutureWarning)\n",
      "\n"
     ]
    },
    {
     "name": "stdout",
     "output_type": "stream",
     "text": [
      "\r",
      " 17%|███████████████▎                                                                          | 17/100 [08:48<55:57, 40.45s/trial, best loss: 0.4025451651765543]"
     ]
    },
    {
     "name": "stderr",
     "output_type": "stream",
     "text": [
      "/opt/homebrew/lib/python3.10/site-packages/xgboost/core.py:617: FutureWarning: Pass `evals` as keyword args.\n",
      "  warnings.warn(msg, FutureWarning)\n",
      "\n"
     ]
    },
    {
     "name": "stdout",
     "output_type": "stream",
     "text": [
      "\r",
      " 18%|████████████████▏                                                                         | 18/100 [09:21<52:04, 38.11s/trial, best loss: 0.4025451651765543]"
     ]
    },
    {
     "name": "stderr",
     "output_type": "stream",
     "text": [
      "/opt/homebrew/lib/python3.10/site-packages/xgboost/core.py:617: FutureWarning: Pass `evals` as keyword args.\n",
      "  warnings.warn(msg, FutureWarning)\n",
      "\n"
     ]
    },
    {
     "name": "stdout",
     "output_type": "stream",
     "text": [
      "\r",
      " 19%|████████████████▋                                                                       | 19/100 [10:25<1:01:51, 45.82s/trial, best loss: 0.4025451651765543]"
     ]
    },
    {
     "name": "stderr",
     "output_type": "stream",
     "text": [
      "/opt/homebrew/lib/python3.10/site-packages/xgboost/core.py:617: FutureWarning: Pass `evals` as keyword args.\n",
      "  warnings.warn(msg, FutureWarning)\n",
      "\n"
     ]
    },
    {
     "name": "stdout",
     "output_type": "stream",
     "text": [
      "\r",
      " 20%|██████████████████                                                                        | 20/100 [10:55<54:41, 41.02s/trial, best loss: 0.4025451651765543]"
     ]
    },
    {
     "name": "stderr",
     "output_type": "stream",
     "text": [
      "/opt/homebrew/lib/python3.10/site-packages/xgboost/core.py:617: FutureWarning: Pass `evals` as keyword args.\n",
      "  warnings.warn(msg, FutureWarning)\n",
      "\n"
     ]
    },
    {
     "name": "stdout",
     "output_type": "stream",
     "text": [
      "\r",
      " 21%|██████████████████▍                                                                     | 21/100 [13:24<1:36:54, 73.61s/trial, best loss: 0.4004236315421419]"
     ]
    },
    {
     "name": "stderr",
     "output_type": "stream",
     "text": [
      "/opt/homebrew/lib/python3.10/site-packages/xgboost/core.py:617: FutureWarning: Pass `evals` as keyword args.\n",
      "  warnings.warn(msg, FutureWarning)\n",
      "\n"
     ]
    },
    {
     "name": "stdout",
     "output_type": "stream",
     "text": [
      "\r",
      " 22%|███████████████████▎                                                                    | 22/100 [15:38<1:59:05, 91.61s/trial, best loss: 0.4004236315421419]"
     ]
    },
    {
     "name": "stderr",
     "output_type": "stream",
     "text": [
      "/opt/homebrew/lib/python3.10/site-packages/xgboost/core.py:617: FutureWarning: Pass `evals` as keyword args.\n",
      "  warnings.warn(msg, FutureWarning)\n",
      "\n"
     ]
    },
    {
     "name": "stdout",
     "output_type": "stream",
     "text": [
      "\r",
      " 23%|████████████████████                                                                   | 23/100 [18:15<2:22:37, 111.14s/trial, best loss: 0.4004236315421419]"
     ]
    },
    {
     "name": "stderr",
     "output_type": "stream",
     "text": [
      "/opt/homebrew/lib/python3.10/site-packages/xgboost/core.py:617: FutureWarning: Pass `evals` as keyword args.\n",
      "  warnings.warn(msg, FutureWarning)\n",
      "\n"
     ]
    },
    {
     "name": "stdout",
     "output_type": "stream",
     "text": [
      "\r",
      " 24%|████████████████████▉                                                                  | 24/100 [19:32<2:08:09, 101.18s/trial, best loss: 0.4004236315421419]"
     ]
    },
    {
     "name": "stderr",
     "output_type": "stream",
     "text": [
      "/opt/homebrew/lib/python3.10/site-packages/xgboost/core.py:617: FutureWarning: Pass `evals` as keyword args.\n",
      "  warnings.warn(msg, FutureWarning)\n",
      "\n"
     ]
    },
    {
     "name": "stdout",
     "output_type": "stream",
     "text": [
      "\r",
      " 25%|█████████████████████▊                                                                 | 25/100 [21:26<2:11:08, 104.91s/trial, best loss: 0.4001293848892067]"
     ]
    },
    {
     "name": "stderr",
     "output_type": "stream",
     "text": [
      "/opt/homebrew/lib/python3.10/site-packages/xgboost/core.py:617: FutureWarning: Pass `evals` as keyword args.\n",
      "  warnings.warn(msg, FutureWarning)\n",
      "\n"
     ]
    },
    {
     "name": "stdout",
     "output_type": "stream",
     "text": [
      "\r",
      " 26%|██████████████████████▌                                                                | 26/100 [24:05<2:29:20, 121.09s/trial, best loss: 0.3997868208510593]"
     ]
    },
    {
     "name": "stderr",
     "output_type": "stream",
     "text": [
      "/opt/homebrew/lib/python3.10/site-packages/xgboost/core.py:617: FutureWarning: Pass `evals` as keyword args.\n",
      "  warnings.warn(msg, FutureWarning)\n",
      "\n"
     ]
    },
    {
     "name": "stdout",
     "output_type": "stream",
     "text": [
      "\r",
      " 27%|███████████████████████▊                                                                | 27/100 [24:26<1:50:53, 91.14s/trial, best loss: 0.3997868208510593]"
     ]
    },
    {
     "name": "stderr",
     "output_type": "stream",
     "text": [
      "/opt/homebrew/lib/python3.10/site-packages/xgboost/core.py:617: FutureWarning: Pass `evals` as keyword args.\n",
      "  warnings.warn(msg, FutureWarning)\n",
      "\n"
     ]
    },
    {
     "name": "stdout",
     "output_type": "stream",
     "text": [
      "\r",
      " 28%|████████████████████████▋                                                               | 28/100 [24:33<1:18:58, 65.82s/trial, best loss: 0.3997868208510593]"
     ]
    },
    {
     "name": "stderr",
     "output_type": "stream",
     "text": [
      "/opt/homebrew/lib/python3.10/site-packages/xgboost/core.py:617: FutureWarning: Pass `evals` as keyword args.\n",
      "  warnings.warn(msg, FutureWarning)\n",
      "\n"
     ]
    },
    {
     "name": "stdout",
     "output_type": "stream",
     "text": [
      "\r",
      " 29%|█████████████████████████▌                                                              | 29/100 [26:58<1:46:05, 89.66s/trial, best loss: 0.3997868208510593]"
     ]
    },
    {
     "name": "stderr",
     "output_type": "stream",
     "text": [
      "/opt/homebrew/lib/python3.10/site-packages/xgboost/core.py:617: FutureWarning: Pass `evals` as keyword args.\n",
      "  warnings.warn(msg, FutureWarning)\n",
      "\n"
     ]
    },
    {
     "name": "stdout",
     "output_type": "stream",
     "text": [
      "\r",
      " 30%|██████████████████████████▍                                                             | 30/100 [28:19<1:41:28, 86.98s/trial, best loss: 0.3997868208510593]"
     ]
    },
    {
     "name": "stderr",
     "output_type": "stream",
     "text": [
      "/opt/homebrew/lib/python3.10/site-packages/xgboost/core.py:617: FutureWarning: Pass `evals` as keyword args.\n",
      "  warnings.warn(msg, FutureWarning)\n",
      "\n"
     ]
    },
    {
     "name": "stdout",
     "output_type": "stream",
     "text": [
      "\r",
      " 31%|███████████████████████████▎                                                            | 31/100 [28:42<1:17:54, 67.74s/trial, best loss: 0.3997868208510593]"
     ]
    },
    {
     "name": "stderr",
     "output_type": "stream",
     "text": [
      "/opt/homebrew/lib/python3.10/site-packages/xgboost/core.py:617: FutureWarning: Pass `evals` as keyword args.\n",
      "  warnings.warn(msg, FutureWarning)\n",
      "\n"
     ]
    },
    {
     "name": "stdout",
     "output_type": "stream",
     "text": [
      "\r",
      " 32%|████████████████████████████▏                                                           | 32/100 [29:42<1:14:06, 65.40s/trial, best loss: 0.3997868208510593]"
     ]
    },
    {
     "name": "stderr",
     "output_type": "stream",
     "text": [
      "/opt/homebrew/lib/python3.10/site-packages/xgboost/core.py:617: FutureWarning: Pass `evals` as keyword args.\n",
      "  warnings.warn(msg, FutureWarning)\n",
      "\n"
     ]
    },
    {
     "name": "stdout",
     "output_type": "stream",
     "text": [
      "\r",
      " 33%|█████████████████████████████▋                                                            | 33/100 [29:53<54:46, 49.06s/trial, best loss: 0.3997868208510593]"
     ]
    },
    {
     "name": "stderr",
     "output_type": "stream",
     "text": [
      "/opt/homebrew/lib/python3.10/site-packages/xgboost/core.py:617: FutureWarning: Pass `evals` as keyword args.\n",
      "  warnings.warn(msg, FutureWarning)\n",
      "\n"
     ]
    },
    {
     "name": "stdout",
     "output_type": "stream",
     "text": [
      "\r",
      " 34%|█████████████████████████████▉                                                          | 34/100 [31:10<1:03:08, 57.40s/trial, best loss: 0.3997868208510593]"
     ]
    },
    {
     "name": "stderr",
     "output_type": "stream",
     "text": [
      "/opt/homebrew/lib/python3.10/site-packages/xgboost/core.py:617: FutureWarning: Pass `evals` as keyword args.\n",
      "  warnings.warn(msg, FutureWarning)\n",
      "\n"
     ]
    },
    {
     "name": "stdout",
     "output_type": "stream",
     "text": [
      "\r",
      " 35%|██████████████████████████████▊                                                         | 35/100 [32:54<1:17:36, 71.64s/trial, best loss: 0.3997868208510593]"
     ]
    },
    {
     "name": "stderr",
     "output_type": "stream",
     "text": [
      "/opt/homebrew/lib/python3.10/site-packages/xgboost/core.py:617: FutureWarning: Pass `evals` as keyword args.\n",
      "  warnings.warn(msg, FutureWarning)\n",
      "\n"
     ]
    },
    {
     "name": "stdout",
     "output_type": "stream",
     "text": [
      "\r",
      " 36%|███████████████████████████████▋                                                        | 36/100 [33:56<1:13:04, 68.50s/trial, best loss: 0.3997868208510593]"
     ]
    },
    {
     "name": "stderr",
     "output_type": "stream",
     "text": [
      "/opt/homebrew/lib/python3.10/site-packages/xgboost/core.py:617: FutureWarning: Pass `evals` as keyword args.\n",
      "  warnings.warn(msg, FutureWarning)\n",
      "\n"
     ]
    },
    {
     "name": "stdout",
     "output_type": "stream",
     "text": [
      "\r",
      " 37%|█████████████████████████████████▎                                                        | 37/100 [34:01<51:54, 49.44s/trial, best loss: 0.3997868208510593]"
     ]
    },
    {
     "name": "stderr",
     "output_type": "stream",
     "text": [
      "/opt/homebrew/lib/python3.10/site-packages/xgboost/core.py:617: FutureWarning: Pass `evals` as keyword args.\n",
      "  warnings.warn(msg, FutureWarning)\n",
      "\n"
     ]
    },
    {
     "name": "stdout",
     "output_type": "stream",
     "text": [
      "\r",
      " 38%|██████████████████████████████████▏                                                       | 38/100 [34:54<52:21, 50.66s/trial, best loss: 0.3997868208510593]"
     ]
    },
    {
     "name": "stderr",
     "output_type": "stream",
     "text": [
      "/opt/homebrew/lib/python3.10/site-packages/xgboost/core.py:617: FutureWarning: Pass `evals` as keyword args.\n",
      "  warnings.warn(msg, FutureWarning)\n",
      "\n"
     ]
    },
    {
     "name": "stdout",
     "output_type": "stream",
     "text": [
      "\r",
      " 39%|███████████████████████████████████                                                       | 39/100 [34:59<37:41, 37.07s/trial, best loss: 0.3997868208510593]"
     ]
    },
    {
     "name": "stderr",
     "output_type": "stream",
     "text": [
      "/opt/homebrew/lib/python3.10/site-packages/xgboost/core.py:617: FutureWarning: Pass `evals` as keyword args.\n",
      "  warnings.warn(msg, FutureWarning)\n",
      "\n"
     ]
    },
    {
     "name": "stdout",
     "output_type": "stream",
     "text": [
      "\r",
      " 40%|████████████████████████████████████                                                      | 40/100 [35:48<40:40, 40.68s/trial, best loss: 0.3997868208510593]"
     ]
    },
    {
     "name": "stderr",
     "output_type": "stream",
     "text": [
      "/opt/homebrew/lib/python3.10/site-packages/xgboost/core.py:617: FutureWarning: Pass `evals` as keyword args.\n",
      "  warnings.warn(msg, FutureWarning)\n",
      "\n"
     ]
    },
    {
     "name": "stdout",
     "output_type": "stream",
     "text": [
      "\r",
      " 41%|████████████████████████████████████▉                                                     | 41/100 [36:01<31:40, 32.21s/trial, best loss: 0.3997868208510593]"
     ]
    },
    {
     "name": "stderr",
     "output_type": "stream",
     "text": [
      "/opt/homebrew/lib/python3.10/site-packages/xgboost/core.py:617: FutureWarning: Pass `evals` as keyword args.\n",
      "  warnings.warn(msg, FutureWarning)\n",
      "\n"
     ]
    },
    {
     "name": "stdout",
     "output_type": "stream",
     "text": [
      "\r",
      " 42%|█████████████████████████████████████▊                                                    | 42/100 [36:43<34:05, 35.27s/trial, best loss: 0.3997868208510593]"
     ]
    },
    {
     "name": "stderr",
     "output_type": "stream",
     "text": [
      "/opt/homebrew/lib/python3.10/site-packages/xgboost/core.py:617: FutureWarning: Pass `evals` as keyword args.\n",
      "  warnings.warn(msg, FutureWarning)\n",
      "\n"
     ]
    },
    {
     "name": "stdout",
     "output_type": "stream",
     "text": [
      "\r",
      " 43%|██████████████████████████████████████▋                                                   | 43/100 [37:37<38:45, 40.79s/trial, best loss: 0.3997868208510593]"
     ]
    },
    {
     "name": "stderr",
     "output_type": "stream",
     "text": [
      "/opt/homebrew/lib/python3.10/site-packages/xgboost/core.py:617: FutureWarning: Pass `evals` as keyword args.\n",
      "  warnings.warn(msg, FutureWarning)\n",
      "\n"
     ]
    },
    {
     "name": "stdout",
     "output_type": "stream",
     "text": [
      "\r",
      " 44%|███████████████████████████████████████▌                                                  | 44/100 [39:20<55:29, 59.46s/trial, best loss: 0.3997060054370835]"
     ]
    },
    {
     "name": "stderr",
     "output_type": "stream",
     "text": [
      "/opt/homebrew/lib/python3.10/site-packages/xgboost/core.py:617: FutureWarning: Pass `evals` as keyword args.\n",
      "  warnings.warn(msg, FutureWarning)\n",
      "\n"
     ]
    },
    {
     "name": "stdout",
     "output_type": "stream",
     "text": [
      "\r",
      " 45%|████████████████████████████████████████▌                                                 | 45/100 [39:30<40:59, 44.72s/trial, best loss: 0.3997060054370835]"
     ]
    },
    {
     "name": "stderr",
     "output_type": "stream",
     "text": [
      "/opt/homebrew/lib/python3.10/site-packages/xgboost/core.py:617: FutureWarning: Pass `evals` as keyword args.\n",
      "  warnings.warn(msg, FutureWarning)\n",
      "\n"
     ]
    },
    {
     "name": "stdout",
     "output_type": "stream",
     "text": [
      "\r",
      " 46%|████████████████████████████████████████▍                                               | 46/100 [41:49<1:05:41, 72.99s/trial, best loss: 0.3997060054370835]"
     ]
    },
    {
     "name": "stderr",
     "output_type": "stream",
     "text": [
      "/opt/homebrew/lib/python3.10/site-packages/xgboost/core.py:617: FutureWarning: Pass `evals` as keyword args.\n",
      "  warnings.warn(msg, FutureWarning)\n",
      "\n"
     ]
    },
    {
     "name": "stdout",
     "output_type": "stream",
     "text": [
      "\r",
      " 47%|██████████████████████████████████████████▎                                               | 47/100 [41:55<46:42, 52.87s/trial, best loss: 0.3997060054370835]"
     ]
    },
    {
     "name": "stderr",
     "output_type": "stream",
     "text": [
      "/opt/homebrew/lib/python3.10/site-packages/xgboost/core.py:617: FutureWarning: Pass `evals` as keyword args.\n",
      "  warnings.warn(msg, FutureWarning)\n",
      "\n"
     ]
    },
    {
     "name": "stdout",
     "output_type": "stream",
     "text": [
      "\r",
      " 48%|███████████████████████████████████████████▏                                              | 48/100 [42:14<37:00, 42.70s/trial, best loss: 0.3997060054370835]"
     ]
    },
    {
     "name": "stderr",
     "output_type": "stream",
     "text": [
      "/opt/homebrew/lib/python3.10/site-packages/xgboost/core.py:617: FutureWarning: Pass `evals` as keyword args.\n",
      "  warnings.warn(msg, FutureWarning)\n",
      "\n"
     ]
    },
    {
     "name": "stdout",
     "output_type": "stream",
     "text": [
      "\r",
      " 49%|████████████████████████████████████████████                                              | 49/100 [42:38<31:27, 37.01s/trial, best loss: 0.3997060054370835]"
     ]
    },
    {
     "name": "stderr",
     "output_type": "stream",
     "text": [
      "/opt/homebrew/lib/python3.10/site-packages/xgboost/core.py:617: FutureWarning: Pass `evals` as keyword args.\n",
      "  warnings.warn(msg, FutureWarning)\n",
      "\n"
     ]
    },
    {
     "name": "stdout",
     "output_type": "stream",
     "text": [
      "\r",
      " 50%|█████████████████████████████████████████████                                             | 50/100 [42:58<26:40, 32.01s/trial, best loss: 0.3997060054370835]"
     ]
    },
    {
     "name": "stderr",
     "output_type": "stream",
     "text": [
      "/opt/homebrew/lib/python3.10/site-packages/xgboost/core.py:617: FutureWarning: Pass `evals` as keyword args.\n",
      "  warnings.warn(msg, FutureWarning)\n",
      "\n"
     ]
    },
    {
     "name": "stdout",
     "output_type": "stream",
     "text": [
      "\r",
      " 51%|█████████████████████████████████████████████▉                                            | 51/100 [43:31<26:14, 32.14s/trial, best loss: 0.3997060054370835]"
     ]
    },
    {
     "name": "stderr",
     "output_type": "stream",
     "text": [
      "/opt/homebrew/lib/python3.10/site-packages/xgboost/core.py:617: FutureWarning: Pass `evals` as keyword args.\n",
      "  warnings.warn(msg, FutureWarning)\n",
      "\n"
     ]
    },
    {
     "name": "stdout",
     "output_type": "stream",
     "text": [
      "\r",
      " 52%|██████████████████████████████████████████████▊                                           | 52/100 [44:00<25:00, 31.26s/trial, best loss: 0.3997060054370835]"
     ]
    },
    {
     "name": "stderr",
     "output_type": "stream",
     "text": [
      "/opt/homebrew/lib/python3.10/site-packages/xgboost/core.py:617: FutureWarning: Pass `evals` as keyword args.\n",
      "  warnings.warn(msg, FutureWarning)\n",
      "\n"
     ]
    },
    {
     "name": "stdout",
     "output_type": "stream",
     "text": [
      "\r",
      " 53%|███████████████████████████████████████████████▋                                          | 53/100 [44:26<23:09, 29.57s/trial, best loss: 0.3997060054370835]"
     ]
    },
    {
     "name": "stderr",
     "output_type": "stream",
     "text": [
      "/opt/homebrew/lib/python3.10/site-packages/xgboost/core.py:617: FutureWarning: Pass `evals` as keyword args.\n",
      "  warnings.warn(msg, FutureWarning)\n",
      "\n"
     ]
    },
    {
     "name": "stdout",
     "output_type": "stream",
     "text": [
      "\r",
      " 54%|████████████████████████████████████████████████▌                                         | 54/100 [44:53<22:06, 28.85s/trial, best loss: 0.3997060054370835]"
     ]
    },
    {
     "name": "stderr",
     "output_type": "stream",
     "text": [
      "/opt/homebrew/lib/python3.10/site-packages/xgboost/core.py:617: FutureWarning: Pass `evals` as keyword args.\n",
      "  warnings.warn(msg, FutureWarning)\n",
      "\n"
     ]
    },
    {
     "name": "stdout",
     "output_type": "stream",
     "text": [
      "\r",
      " 55%|█████████████████████████████████████████████████▌                                        | 55/100 [46:22<35:14, 47.00s/trial, best loss: 0.3997060054370835]"
     ]
    },
    {
     "name": "stderr",
     "output_type": "stream",
     "text": [
      "/opt/homebrew/lib/python3.10/site-packages/xgboost/core.py:617: FutureWarning: Pass `evals` as keyword args.\n",
      "  warnings.warn(msg, FutureWarning)\n",
      "\n"
     ]
    },
    {
     "name": "stdout",
     "output_type": "stream",
     "text": [
      "\r",
      " 56%|██████████████████████████████████████████████████▍                                       | 56/100 [48:10<47:56, 65.39s/trial, best loss: 0.3997060054370835]"
     ]
    },
    {
     "name": "stderr",
     "output_type": "stream",
     "text": [
      "/opt/homebrew/lib/python3.10/site-packages/xgboost/core.py:617: FutureWarning: Pass `evals` as keyword args.\n",
      "  warnings.warn(msg, FutureWarning)\n",
      "\n"
     ]
    },
    {
     "name": "stdout",
     "output_type": "stream",
     "text": [
      "\r",
      " 57%|██████████████████████████████████████████████████▏                                     | 57/100 [50:25<1:01:49, 86.28s/trial, best loss: 0.3997060054370835]"
     ]
    },
    {
     "name": "stderr",
     "output_type": "stream",
     "text": [
      "/opt/homebrew/lib/python3.10/site-packages/xgboost/core.py:617: FutureWarning: Pass `evals` as keyword args.\n",
      "  warnings.warn(msg, FutureWarning)\n",
      "\n"
     ]
    },
    {
     "name": "stdout",
     "output_type": "stream",
     "text": [
      "\r",
      " 58%|████████████████████████████████████████████████████▏                                     | 58/100 [50:45<46:28, 66.39s/trial, best loss: 0.3997060054370835]"
     ]
    },
    {
     "name": "stderr",
     "output_type": "stream",
     "text": [
      "/opt/homebrew/lib/python3.10/site-packages/xgboost/core.py:617: FutureWarning: Pass `evals` as keyword args.\n",
      "  warnings.warn(msg, FutureWarning)\n",
      "\n"
     ]
    },
    {
     "name": "stdout",
     "output_type": "stream",
     "text": [
      "\r",
      " 59%|█████████████████████████████████████████████████████                                     | 59/100 [51:34<41:45, 61.12s/trial, best loss: 0.3997060054370835]"
     ]
    },
    {
     "name": "stderr",
     "output_type": "stream",
     "text": [
      "/opt/homebrew/lib/python3.10/site-packages/xgboost/core.py:617: FutureWarning: Pass `evals` as keyword args.\n",
      "  warnings.warn(msg, FutureWarning)\n",
      "\n"
     ]
    },
    {
     "name": "stdout",
     "output_type": "stream",
     "text": [
      "\r",
      " 60%|██████████████████████████████████████████████████████                                    | 60/100 [52:01<33:54, 50.86s/trial, best loss: 0.3997060054370835]"
     ]
    },
    {
     "name": "stderr",
     "output_type": "stream",
     "text": [
      "/opt/homebrew/lib/python3.10/site-packages/xgboost/core.py:617: FutureWarning: Pass `evals` as keyword args.\n",
      "  warnings.warn(msg, FutureWarning)\n",
      "\n"
     ]
    },
    {
     "name": "stdout",
     "output_type": "stream",
     "text": [
      "\r",
      " 61%|██████████████████████████████████████████████████████▉                                   | 61/100 [54:16<49:25, 76.05s/trial, best loss: 0.3997060054370835]"
     ]
    },
    {
     "name": "stderr",
     "output_type": "stream",
     "text": [
      "/opt/homebrew/lib/python3.10/site-packages/xgboost/core.py:617: FutureWarning: Pass `evals` as keyword args.\n",
      "  warnings.warn(msg, FutureWarning)\n",
      "\n"
     ]
    },
    {
     "name": "stdout",
     "output_type": "stream",
     "text": [
      "\r",
      " 62%|███████████████████████████████████████████████████████▊                                  | 62/100 [55:21<46:03, 72.72s/trial, best loss: 0.3997060054370835]"
     ]
    },
    {
     "name": "stderr",
     "output_type": "stream",
     "text": [
      "/opt/homebrew/lib/python3.10/site-packages/xgboost/core.py:617: FutureWarning: Pass `evals` as keyword args.\n",
      "  warnings.warn(msg, FutureWarning)\n",
      "\n"
     ]
    },
    {
     "name": "stdout",
     "output_type": "stream",
     "text": [
      "\r",
      " 63%|████████████████████████████████████████████████████████▋                                 | 63/100 [55:26<32:25, 52.58s/trial, best loss: 0.3997060054370835]"
     ]
    },
    {
     "name": "stderr",
     "output_type": "stream",
     "text": [
      "/opt/homebrew/lib/python3.10/site-packages/xgboost/core.py:617: FutureWarning: Pass `evals` as keyword args.\n",
      "  warnings.warn(msg, FutureWarning)\n",
      "\n"
     ]
    },
    {
     "name": "stdout",
     "output_type": "stream",
     "text": [
      "\r",
      " 64%|█████████████████████████████████████████████████████████▌                                | 64/100 [55:31<22:51, 38.09s/trial, best loss: 0.3997060054370835]"
     ]
    },
    {
     "name": "stderr",
     "output_type": "stream",
     "text": [
      "/opt/homebrew/lib/python3.10/site-packages/xgboost/core.py:617: FutureWarning: Pass `evals` as keyword args.\n",
      "  warnings.warn(msg, FutureWarning)\n",
      "\n"
     ]
    },
    {
     "name": "stdout",
     "output_type": "stream",
     "text": [
      "\r",
      " 65%|██████████████████████████████████████████████████████████▌                               | 65/100 [55:42<17:34, 30.12s/trial, best loss: 0.3997060054370835]"
     ]
    },
    {
     "name": "stderr",
     "output_type": "stream",
     "text": [
      "/opt/homebrew/lib/python3.10/site-packages/xgboost/core.py:617: FutureWarning: Pass `evals` as keyword args.\n",
      "  warnings.warn(msg, FutureWarning)\n",
      "\n"
     ]
    },
    {
     "name": "stdout",
     "output_type": "stream",
     "text": [
      "\r",
      " 66%|███████████████████████████████████████████████████████████▍                              | 66/100 [56:18<18:01, 31.80s/trial, best loss: 0.3997060054370835]"
     ]
    },
    {
     "name": "stderr",
     "output_type": "stream",
     "text": [
      "/opt/homebrew/lib/python3.10/site-packages/xgboost/core.py:617: FutureWarning: Pass `evals` as keyword args.\n",
      "  warnings.warn(msg, FutureWarning)\n",
      "\n"
     ]
    },
    {
     "name": "stdout",
     "output_type": "stream",
     "text": [
      "\r",
      " 67%|████████████████████████████████████████████████████████████▎                             | 67/100 [56:52<17:51, 32.48s/trial, best loss: 0.3997060054370835]"
     ]
    },
    {
     "name": "stderr",
     "output_type": "stream",
     "text": [
      "/opt/homebrew/lib/python3.10/site-packages/xgboost/core.py:617: FutureWarning: Pass `evals` as keyword args.\n",
      "  warnings.warn(msg, FutureWarning)\n",
      "\n"
     ]
    },
    {
     "name": "stdout",
     "output_type": "stream",
     "text": [
      "\r",
      " 68%|█████████████████████████████████████████████████████████████▏                            | 68/100 [57:27<17:41, 33.16s/trial, best loss: 0.3997060054370835]"
     ]
    },
    {
     "name": "stderr",
     "output_type": "stream",
     "text": [
      "/opt/homebrew/lib/python3.10/site-packages/xgboost/core.py:617: FutureWarning: Pass `evals` as keyword args.\n",
      "  warnings.warn(msg, FutureWarning)\n",
      "\n"
     ]
    },
    {
     "name": "stdout",
     "output_type": "stream",
     "text": [
      "\r",
      " 69%|██████████████████████████████████████████████████████████████                            | 69/100 [59:51<34:17, 66.37s/trial, best loss: 0.3997060054370835]"
     ]
    },
    {
     "name": "stderr",
     "output_type": "stream",
     "text": [
      "/opt/homebrew/lib/python3.10/site-packages/xgboost/core.py:617: FutureWarning: Pass `evals` as keyword args.\n",
      "  warnings.warn(msg, FutureWarning)\n",
      "\n"
     ]
    },
    {
     "name": "stdout",
     "output_type": "stream",
     "text": [
      "\r",
      " 70%|█████████████████████████████████████████████████████████████▌                          | 70/100 [1:00:14<26:39, 53.31s/trial, best loss: 0.3997060054370835]"
     ]
    },
    {
     "name": "stderr",
     "output_type": "stream",
     "text": [
      "/opt/homebrew/lib/python3.10/site-packages/xgboost/core.py:617: FutureWarning: Pass `evals` as keyword args.\n",
      "  warnings.warn(msg, FutureWarning)\n",
      "\n"
     ]
    },
    {
     "name": "stdout",
     "output_type": "stream",
     "text": [
      "\r",
      " 71%|██████████████████████████████████████████████████████████████▍                         | 71/100 [1:01:43<31:03, 64.26s/trial, best loss: 0.3979113726344205]"
     ]
    },
    {
     "name": "stderr",
     "output_type": "stream",
     "text": [
      "/opt/homebrew/lib/python3.10/site-packages/xgboost/core.py:617: FutureWarning: Pass `evals` as keyword args.\n",
      "  warnings.warn(msg, FutureWarning)\n",
      "\n"
     ]
    },
    {
     "name": "stdout",
     "output_type": "stream",
     "text": [
      "\r",
      " 72%|███████████████████████████████████████████████████████████████▎                        | 72/100 [1:03:30<35:55, 76.98s/trial, best loss: 0.3979113726344205]"
     ]
    },
    {
     "name": "stderr",
     "output_type": "stream",
     "text": [
      "/opt/homebrew/lib/python3.10/site-packages/xgboost/core.py:617: FutureWarning: Pass `evals` as keyword args.\n",
      "  warnings.warn(msg, FutureWarning)\n",
      "\n"
     ]
    },
    {
     "name": "stdout",
     "output_type": "stream",
     "text": [
      "\r",
      " 73%|████████████████████████████████████████████████████████████████▏                       | 73/100 [1:04:05<28:58, 64.39s/trial, best loss: 0.3979113726344205]"
     ]
    },
    {
     "name": "stderr",
     "output_type": "stream",
     "text": [
      "/opt/homebrew/lib/python3.10/site-packages/xgboost/core.py:617: FutureWarning: Pass `evals` as keyword args.\n",
      "  warnings.warn(msg, FutureWarning)\n",
      "\n"
     ]
    },
    {
     "name": "stdout",
     "output_type": "stream",
     "text": [
      "\r",
      " 74%|█████████████████████████████████████████████████████████████████                       | 74/100 [1:04:51<25:31, 58.89s/trial, best loss: 0.3979113726344205]"
     ]
    },
    {
     "name": "stderr",
     "output_type": "stream",
     "text": [
      "/opt/homebrew/lib/python3.10/site-packages/xgboost/core.py:617: FutureWarning: Pass `evals` as keyword args.\n",
      "  warnings.warn(msg, FutureWarning)\n",
      "\n"
     ]
    },
    {
     "name": "stdout",
     "output_type": "stream",
     "text": [
      "\r",
      " 75%|██████████████████████████████████████████████████████████████████                      | 75/100 [1:05:03<18:42, 44.92s/trial, best loss: 0.3979113726344205]"
     ]
    },
    {
     "name": "stderr",
     "output_type": "stream",
     "text": [
      "/opt/homebrew/lib/python3.10/site-packages/xgboost/core.py:617: FutureWarning: Pass `evals` as keyword args.\n",
      "  warnings.warn(msg, FutureWarning)\n",
      "\n"
     ]
    },
    {
     "name": "stdout",
     "output_type": "stream",
     "text": [
      "\r",
      " 76%|██████████████████████████████████████████████████████████████████▉                     | 76/100 [1:06:52<25:39, 64.13s/trial, best loss: 0.3979113726344205]"
     ]
    },
    {
     "name": "stderr",
     "output_type": "stream",
     "text": [
      "/opt/homebrew/lib/python3.10/site-packages/xgboost/core.py:617: FutureWarning: Pass `evals` as keyword args.\n",
      "  warnings.warn(msg, FutureWarning)\n",
      "\n"
     ]
    },
    {
     "name": "stdout",
     "output_type": "stream",
     "text": [
      "\r",
      " 77%|███████████████████████████████████████████████████████████████████▊                    | 77/100 [1:07:15<19:49, 51.73s/trial, best loss: 0.3979113726344205]"
     ]
    },
    {
     "name": "stderr",
     "output_type": "stream",
     "text": [
      "/opt/homebrew/lib/python3.10/site-packages/xgboost/core.py:617: FutureWarning: Pass `evals` as keyword args.\n",
      "  warnings.warn(msg, FutureWarning)\n",
      "\n"
     ]
    },
    {
     "name": "stdout",
     "output_type": "stream",
     "text": [
      "\r",
      " 78%|████████████████████████████████████████████████████████████████████▋                   | 78/100 [1:09:05<25:22, 69.20s/trial, best loss: 0.3979113726344205]"
     ]
    },
    {
     "name": "stderr",
     "output_type": "stream",
     "text": [
      "/opt/homebrew/lib/python3.10/site-packages/xgboost/core.py:617: FutureWarning: Pass `evals` as keyword args.\n",
      "  warnings.warn(msg, FutureWarning)\n",
      "\n"
     ]
    },
    {
     "name": "stdout",
     "output_type": "stream",
     "text": [
      "\r",
      " 79%|█████████████████████████████████████████████████████████████████████▌                  | 79/100 [1:10:25<25:18, 72.33s/trial, best loss: 0.3979113726344205]"
     ]
    },
    {
     "name": "stderr",
     "output_type": "stream",
     "text": [
      "/opt/homebrew/lib/python3.10/site-packages/xgboost/core.py:617: FutureWarning: Pass `evals` as keyword args.\n",
      "  warnings.warn(msg, FutureWarning)\n",
      "\n"
     ]
    },
    {
     "name": "stdout",
     "output_type": "stream",
     "text": [
      "\r",
      " 80%|██████████████████████████████████████████████████████████████████████▍                 | 80/100 [1:11:27<23:09, 69.47s/trial, best loss: 0.3979113726344205]"
     ]
    },
    {
     "name": "stderr",
     "output_type": "stream",
     "text": [
      "/opt/homebrew/lib/python3.10/site-packages/xgboost/core.py:617: FutureWarning: Pass `evals` as keyword args.\n",
      "  warnings.warn(msg, FutureWarning)\n",
      "\n"
     ]
    },
    {
     "name": "stdout",
     "output_type": "stream",
     "text": [
      "\r",
      " 81%|███████████████████████████████████████████████████████████████████████▎                | 81/100 [1:12:07<19:09, 60.48s/trial, best loss: 0.3979113726344205]"
     ]
    },
    {
     "name": "stderr",
     "output_type": "stream",
     "text": [
      "/opt/homebrew/lib/python3.10/site-packages/xgboost/core.py:617: FutureWarning: Pass `evals` as keyword args.\n",
      "  warnings.warn(msg, FutureWarning)\n",
      "\n"
     ]
    },
    {
     "name": "stdout",
     "output_type": "stream",
     "text": [
      "\r",
      " 82%|████████████████████████████████████████████████████████████████████████▏               | 82/100 [1:13:29<20:07, 67.06s/trial, best loss: 0.3979113726344205]"
     ]
    },
    {
     "name": "stderr",
     "output_type": "stream",
     "text": [
      "/opt/homebrew/lib/python3.10/site-packages/xgboost/core.py:617: FutureWarning: Pass `evals` as keyword args.\n",
      "  warnings.warn(msg, FutureWarning)\n",
      "\n"
     ]
    },
    {
     "name": "stdout",
     "output_type": "stream",
     "text": [
      "\r",
      " 83%|█████████████████████████████████████████████████████████████████████████               | 83/100 [1:14:09<16:39, 58.81s/trial, best loss: 0.3979113726344205]"
     ]
    },
    {
     "name": "stderr",
     "output_type": "stream",
     "text": [
      "/opt/homebrew/lib/python3.10/site-packages/xgboost/core.py:617: FutureWarning: Pass `evals` as keyword args.\n",
      "  warnings.warn(msg, FutureWarning)\n",
      "\n"
     ]
    },
    {
     "name": "stdout",
     "output_type": "stream",
     "text": [
      "\r",
      " 84%|█████████████████████████████████████████████████████████████████████████▉              | 84/100 [1:14:25<12:16, 46.02s/trial, best loss: 0.3979113726344205]"
     ]
    },
    {
     "name": "stderr",
     "output_type": "stream",
     "text": [
      "/opt/homebrew/lib/python3.10/site-packages/xgboost/core.py:617: FutureWarning: Pass `evals` as keyword args.\n",
      "  warnings.warn(msg, FutureWarning)\n",
      "\n"
     ]
    },
    {
     "name": "stdout",
     "output_type": "stream",
     "text": [
      "\r",
      " 85%|██████████████████████████████████████████████████████████████████████████▊             | 85/100 [1:15:25<12:30, 50.02s/trial, best loss: 0.3979113726344205]"
     ]
    },
    {
     "name": "stderr",
     "output_type": "stream",
     "text": [
      "/opt/homebrew/lib/python3.10/site-packages/xgboost/core.py:617: FutureWarning: Pass `evals` as keyword args.\n",
      "  warnings.warn(msg, FutureWarning)\n",
      "\n"
     ]
    },
    {
     "name": "stdout",
     "output_type": "stream",
     "text": [
      "\r",
      " 86%|███████████████████████████████████████████████████████████████████████████▋            | 86/100 [1:16:02<10:48, 46.30s/trial, best loss: 0.3979113726344205]"
     ]
    },
    {
     "name": "stderr",
     "output_type": "stream",
     "text": [
      "/opt/homebrew/lib/python3.10/site-packages/xgboost/core.py:617: FutureWarning: Pass `evals` as keyword args.\n",
      "  warnings.warn(msg, FutureWarning)\n",
      "\n"
     ]
    },
    {
     "name": "stdout",
     "output_type": "stream",
     "text": [
      "\r",
      " 87%|████████████████████████████████████████████████████████████████████████████▌           | 87/100 [1:17:23<12:18, 56.78s/trial, best loss: 0.3979113726344205]"
     ]
    },
    {
     "name": "stderr",
     "output_type": "stream",
     "text": [
      "/opt/homebrew/lib/python3.10/site-packages/xgboost/core.py:617: FutureWarning: Pass `evals` as keyword args.\n",
      "  warnings.warn(msg, FutureWarning)\n",
      "\n"
     ]
    },
    {
     "name": "stdout",
     "output_type": "stream",
     "text": [
      "\r",
      " 88%|█████████████████████████████████████████████████████████████████████████████▍          | 88/100 [1:17:47<09:21, 46.75s/trial, best loss: 0.3979113726344205]"
     ]
    },
    {
     "name": "stderr",
     "output_type": "stream",
     "text": [
      "/opt/homebrew/lib/python3.10/site-packages/xgboost/core.py:617: FutureWarning: Pass `evals` as keyword args.\n",
      "  warnings.warn(msg, FutureWarning)\n",
      "\n"
     ]
    },
    {
     "name": "stdout",
     "output_type": "stream",
     "text": [
      "\r",
      " 89%|██████████████████████████████████████████████████████████████████████████████▎         | 89/100 [1:19:10<10:34, 57.64s/trial, best loss: 0.3979113726344205]"
     ]
    },
    {
     "name": "stderr",
     "output_type": "stream",
     "text": [
      "/opt/homebrew/lib/python3.10/site-packages/xgboost/core.py:617: FutureWarning: Pass `evals` as keyword args.\n",
      "  warnings.warn(msg, FutureWarning)\n",
      "\n"
     ]
    },
    {
     "name": "stdout",
     "output_type": "stream",
     "text": [
      "\r",
      " 90%|███████████████████████████████████████████████████████████████████████████████▏        | 90/100 [1:19:32<07:51, 47.10s/trial, best loss: 0.3979113726344205]"
     ]
    },
    {
     "name": "stderr",
     "output_type": "stream",
     "text": [
      "/opt/homebrew/lib/python3.10/site-packages/xgboost/core.py:617: FutureWarning: Pass `evals` as keyword args.\n",
      "  warnings.warn(msg, FutureWarning)\n",
      "\n"
     ]
    },
    {
     "name": "stdout",
     "output_type": "stream",
     "text": [
      "\r",
      " 91%|████████████████████████████████████████████████████████████████████████████████        | 91/100 [1:19:44<05:27, 36.35s/trial, best loss: 0.3979113726344205]"
     ]
    },
    {
     "name": "stderr",
     "output_type": "stream",
     "text": [
      "/opt/homebrew/lib/python3.10/site-packages/xgboost/core.py:617: FutureWarning: Pass `evals` as keyword args.\n",
      "  warnings.warn(msg, FutureWarning)\n",
      "\n"
     ]
    },
    {
     "name": "stdout",
     "output_type": "stream",
     "text": [
      "\r",
      " 92%|████████████████████████████████████████████████████████████████████████████████▉       | 92/100 [1:21:33<07:45, 58.17s/trial, best loss: 0.3979113726344205]"
     ]
    },
    {
     "name": "stderr",
     "output_type": "stream",
     "text": [
      "/opt/homebrew/lib/python3.10/site-packages/xgboost/core.py:617: FutureWarning: Pass `evals` as keyword args.\n",
      "  warnings.warn(msg, FutureWarning)\n",
      "\n"
     ]
    },
    {
     "name": "stdout",
     "output_type": "stream",
     "text": [
      "\r",
      " 93%|█████████████████████████████████████████████████████████████████████████████████▊      | 93/100 [1:22:24<06:32, 56.02s/trial, best loss: 0.3979113726344205]"
     ]
    },
    {
     "name": "stderr",
     "output_type": "stream",
     "text": [
      "/opt/homebrew/lib/python3.10/site-packages/xgboost/core.py:617: FutureWarning: Pass `evals` as keyword args.\n",
      "  warnings.warn(msg, FutureWarning)\n",
      "\n"
     ]
    },
    {
     "name": "stdout",
     "output_type": "stream",
     "text": [
      "\r",
      " 94%|██████████████████████████████████████████████████████████████████████████████████▋     | 94/100 [1:23:52<06:34, 65.68s/trial, best loss: 0.3979113726344205]"
     ]
    },
    {
     "name": "stderr",
     "output_type": "stream",
     "text": [
      "/opt/homebrew/lib/python3.10/site-packages/xgboost/core.py:617: FutureWarning: Pass `evals` as keyword args.\n",
      "  warnings.warn(msg, FutureWarning)\n",
      "\n"
     ]
    },
    {
     "name": "stdout",
     "output_type": "stream",
     "text": [
      "\r",
      " 95%|███████████████████████████████████████████████████████████████████████████████████▌    | 95/100 [1:24:02<04:04, 48.99s/trial, best loss: 0.3979113726344205]"
     ]
    },
    {
     "name": "stderr",
     "output_type": "stream",
     "text": [
      "/opt/homebrew/lib/python3.10/site-packages/xgboost/core.py:617: FutureWarning: Pass `evals` as keyword args.\n",
      "  warnings.warn(msg, FutureWarning)\n",
      "\n"
     ]
    },
    {
     "name": "stdout",
     "output_type": "stream",
     "text": [
      "\r",
      " 96%|████████████████████████████████████████████████████████████████████████████████████▍   | 96/100 [1:24:54<03:19, 49.87s/trial, best loss: 0.3979113726344205]"
     ]
    },
    {
     "name": "stderr",
     "output_type": "stream",
     "text": [
      "/opt/homebrew/lib/python3.10/site-packages/xgboost/core.py:617: FutureWarning: Pass `evals` as keyword args.\n",
      "  warnings.warn(msg, FutureWarning)\n",
      "\n"
     ]
    },
    {
     "name": "stdout",
     "output_type": "stream",
     "text": [
      "\r",
      " 97%|█████████████████████████████████████████████████████████████████████████████████████▎  | 97/100 [1:25:04<01:53, 37.86s/trial, best loss: 0.3979113726344205]"
     ]
    },
    {
     "name": "stderr",
     "output_type": "stream",
     "text": [
      "/opt/homebrew/lib/python3.10/site-packages/xgboost/core.py:617: FutureWarning: Pass `evals` as keyword args.\n",
      "  warnings.warn(msg, FutureWarning)\n",
      "\n"
     ]
    },
    {
     "name": "stdout",
     "output_type": "stream",
     "text": [
      "\r",
      " 98%|██████████████████████████████████████████████████████████████████████████████████████▏ | 98/100 [1:25:25<01:06, 33.02s/trial, best loss: 0.3979113726344205]"
     ]
    },
    {
     "name": "stderr",
     "output_type": "stream",
     "text": [
      "/opt/homebrew/lib/python3.10/site-packages/xgboost/core.py:617: FutureWarning: Pass `evals` as keyword args.\n",
      "  warnings.warn(msg, FutureWarning)\n",
      "\n"
     ]
    },
    {
     "name": "stdout",
     "output_type": "stream",
     "text": [
      "\r",
      " 99%|███████████████████████████████████████████████████████████████████████████████████████ | 99/100 [1:25:34<00:25, 25.58s/trial, best loss: 0.3979113726344205]"
     ]
    },
    {
     "name": "stderr",
     "output_type": "stream",
     "text": [
      "/opt/homebrew/lib/python3.10/site-packages/xgboost/core.py:617: FutureWarning: Pass `evals` as keyword args.\n",
      "  warnings.warn(msg, FutureWarning)\n",
      "\n"
     ]
    },
    {
     "name": "stdout",
     "output_type": "stream",
     "text": [
      "100%|███████████████████████████████████████████████████████████████████████████████████████| 100/100 [1:26:35<00:00, 51.96s/trial, best loss: 0.3979113726344205]\n",
      "{'colsample_bytree': 0.9261288617109794, 'eta': 0.08112553880532908, 'gamma': 1.1871717040801593, 'max_depth': 7, 'min_child_weight': 5.588802281263023, 'subsample': 0.8991874277124994}\n",
      "350\n"
     ]
    }
   ],
   "source": [
    "# Run optimiser with tpe\n",
    "%time\n",
    "trials = Trials()\n",
    "\n",
    "hopt = fmin(fn = score,\n",
    "            space = param_space, \n",
    "            algo = tpe.suggest, \n",
    "            max_evals = 100, ## 100\n",
    "            trials = trials, \n",
    "           )\n",
    "\n",
    "params_best = hopt\n",
    "params_best['max_depth'] = int(hopt['max_depth'])\n",
    "n_rounds_best = int(hopt['n_round'])\n",
    "del params_best['n_round']\n",
    "print(params_best)\n",
    "print(n_rounds_best)"
   ]
  },
  {
   "cell_type": "code",
   "execution_count": 81,
   "id": "c1644f9b",
   "metadata": {},
   "outputs": [
    {
     "name": "stdout",
     "output_type": "stream",
     "text": [
      "{'colsample_bytree': 0.9261288617109794, 'eta': 0.08112553880532908, 'gamma': 1.1871717040801593, 'max_depth': 7, 'min_child_weight': 5.588802281263023, 'subsample': 0.8991874277124994}\n",
      "350\n"
     ]
    }
   ],
   "source": [
    "print(params_best)\n",
    "print(n_rounds_best)"
   ]
  },
  {
   "cell_type": "code",
   "execution_count": null,
   "id": "27e2ef52",
   "metadata": {},
   "outputs": [],
   "source": []
  }
 ],
 "metadata": {
  "kernelspec": {
   "display_name": "Python 3 (ipykernel)",
   "language": "python",
   "name": "python3"
  },
  "language_info": {
   "codemirror_mode": {
    "name": "ipython",
    "version": 3
   },
   "file_extension": ".py",
   "mimetype": "text/x-python",
   "name": "python",
   "nbconvert_exporter": "python",
   "pygments_lexer": "ipython3",
   "version": "3.10.12"
  }
 },
 "nbformat": 4,
 "nbformat_minor": 5
}
