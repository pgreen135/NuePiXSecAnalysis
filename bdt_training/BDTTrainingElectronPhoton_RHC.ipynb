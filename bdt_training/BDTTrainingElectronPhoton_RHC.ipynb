{
 "cells": [
  {
   "cell_type": "code",
   "execution_count": 1,
   "id": "9ff74bf7",
   "metadata": {},
   "outputs": [],
   "source": [
    "import sys\n",
    "import uproot3 as uproot\n",
    "import numpy as np\n",
    "import pandas as pd\n",
    "import matplotlib.pyplot as plt\n",
    "\n",
    "from sklearn.model_selection import train_test_split\n",
    "from sklearn.metrics import accuracy_score, mean_squared_error, log_loss\n",
    "import pickle\n",
    "import xgboost as xgb\n",
    "\n",
    "from hyperopt import hp, fmin, tpe, Trials\n",
    "from hyperopt.pyll.base import scope\n",
    "from tqdm import tqdm"
   ]
  },
  {
   "cell_type": "code",
   "execution_count": 2,
   "id": "71717848",
   "metadata": {},
   "outputs": [
    {
     "data": {
      "text/plain": [
       "<matplotlib.pyplot._IonContext at 0x1079ffbe0>"
      ]
     },
     "execution_count": 2,
     "metadata": {},
     "output_type": "execute_result"
    }
   ],
   "source": [
    "%matplotlib inline\n",
    "plt.ion()"
   ]
  },
  {
   "cell_type": "code",
   "execution_count": 3,
   "id": "3d768ebe",
   "metadata": {},
   "outputs": [],
   "source": [
    "# data frame to hold all data\n",
    "#datafile = uproot.open(\"/Users/patrick/Documents/MicroBooNE/CrossSections/NuePiXSec_Analysis/BDTTraining/electronPhoton/TrainingTree_ElectronPhotonSeparation_RHC_Nov2023.root\")[\"trainingTree\"]\n",
    "datafile = uproot.open(\"/Users/patrick/Documents/MicroBooNE/CrossSections/NuePiXSec_Analysis/BDTTraining/electronPhoton/TrainingTree_ElectronPhotonSeparation_RHC_Feb2024.root\")[\"trainingTree\"]\n",
    "variables = (\n",
    "    \"isSignal\",\n",
    "    \n",
    "    \"n_showers_contained\",\n",
    "    \"shr_distance\",\n",
    "    \"shr_trkfit_gap10_dedx_max\",\n",
    "    \"shr_trkfit_2cm_dedx_max\",\n",
    "    \"shrmoliereavg\",\n",
    "    \"shr_energyFraction\",\n",
    "    \"shrsubclusters\",\n",
    "    \"shrPCA1CMed_5cm\",\n",
    "    \"CylFrac2h_1cm\",\n",
    "    \"DeltaRMS2h\",\n",
    "    \"shrMCSMom\",\n",
    "     \n",
    "    \"shr_energy_second_cali\",\n",
    "    \"shr2_distance\",\n",
    "    \"shr12_p1_dstart\",\n",
    "    \"shr2_trackEndProximity\",\n",
    "    \"shr2_pfpgeneration\",\n",
    "    \n",
    "    \"secondshower_Y_nhit\",\n",
    "    \"secondshower_Y_vtxdist\",\n",
    "    \"secondshower_Y_dot\",\n",
    "    \"secondshower_Y_anglediff\",\n",
    "    \"secondshower_U_nhit\",\n",
    "    \"secondshower_U_vtxdist\",\n",
    "    \"secondshower_U_dot\",\n",
    "    \"secondshower_U_anglediff\",\n",
    "    \"secondshower_V_nhit\",\n",
    "    \"secondshower_V_vtxdist\",\n",
    "    \"secondshower_V_dot\",\n",
    "    \"secondshower_V_anglediff\"\n",
    ")\n",
    "\n",
    "df = pd.DataFrame(datafile.arrays(namedecode='utf-8', branches=variables))\n",
    "\n",
    "# shuffle to avoid intrinsic sample being at start\n",
    "#df = df.sample(frac=1).reset_index(drop=True)"
   ]
  },
  {
   "cell_type": "code",
   "execution_count": 4,
   "id": "1ee9a0ce",
   "metadata": {},
   "outputs": [
    {
     "name": "stdout",
     "output_type": "stream",
     "text": [
      "(58255, 29)\n",
      "Index(['isSignal', 'n_showers_contained', 'shr_distance',\n",
      "       'shr_trkfit_gap10_dedx_max', 'shr_trkfit_2cm_dedx_max', 'shrmoliereavg',\n",
      "       'shr_energyFraction', 'shrsubclusters', 'shrPCA1CMed_5cm',\n",
      "       'CylFrac2h_1cm', 'DeltaRMS2h', 'shrMCSMom', 'shr_energy_second_cali',\n",
      "       'shr2_distance', 'shr12_p1_dstart', 'shr2_trackEndProximity',\n",
      "       'shr2_pfpgeneration', 'secondshower_Y_nhit', 'secondshower_Y_vtxdist',\n",
      "       'secondshower_Y_dot', 'secondshower_Y_anglediff', 'secondshower_U_nhit',\n",
      "       'secondshower_U_vtxdist', 'secondshower_U_dot',\n",
      "       'secondshower_U_anglediff', 'secondshower_V_nhit',\n",
      "       'secondshower_V_vtxdist', 'secondshower_V_dot',\n",
      "       'secondshower_V_anglediff'],\n",
      "      dtype='object')\n"
     ]
    },
    {
     "data": {
      "text/html": [
       "<div>\n",
       "<style scoped>\n",
       "    .dataframe tbody tr th:only-of-type {\n",
       "        vertical-align: middle;\n",
       "    }\n",
       "\n",
       "    .dataframe tbody tr th {\n",
       "        vertical-align: top;\n",
       "    }\n",
       "\n",
       "    .dataframe thead th {\n",
       "        text-align: right;\n",
       "    }\n",
       "</style>\n",
       "<table border=\"1\" class=\"dataframe\">\n",
       "  <thead>\n",
       "    <tr style=\"text-align: right;\">\n",
       "      <th></th>\n",
       "      <th>isSignal</th>\n",
       "      <th>n_showers_contained</th>\n",
       "      <th>shr_distance</th>\n",
       "      <th>shr_trkfit_gap10_dedx_max</th>\n",
       "      <th>shr_trkfit_2cm_dedx_max</th>\n",
       "      <th>shrmoliereavg</th>\n",
       "      <th>shr_energyFraction</th>\n",
       "      <th>shrsubclusters</th>\n",
       "      <th>shrPCA1CMed_5cm</th>\n",
       "      <th>CylFrac2h_1cm</th>\n",
       "      <th>...</th>\n",
       "      <th>secondshower_Y_dot</th>\n",
       "      <th>secondshower_Y_anglediff</th>\n",
       "      <th>secondshower_U_nhit</th>\n",
       "      <th>secondshower_U_vtxdist</th>\n",
       "      <th>secondshower_U_dot</th>\n",
       "      <th>secondshower_U_anglediff</th>\n",
       "      <th>secondshower_V_nhit</th>\n",
       "      <th>secondshower_V_vtxdist</th>\n",
       "      <th>secondshower_V_dot</th>\n",
       "      <th>secondshower_V_anglediff</th>\n",
       "    </tr>\n",
       "  </thead>\n",
       "  <tbody>\n",
       "    <tr>\n",
       "      <th>0</th>\n",
       "      <td>True</td>\n",
       "      <td>4.0</td>\n",
       "      <td>3.246621</td>\n",
       "      <td>1.951385</td>\n",
       "      <td>2.137975</td>\n",
       "      <td>4.835227</td>\n",
       "      <td>0.735451</td>\n",
       "      <td>38.0</td>\n",
       "      <td>0.652030</td>\n",
       "      <td>0.106017</td>\n",
       "      <td>...</td>\n",
       "      <td>0.415677</td>\n",
       "      <td>146.163208</td>\n",
       "      <td>16.0</td>\n",
       "      <td>32.714840</td>\n",
       "      <td>0.806648</td>\n",
       "      <td>108.138741</td>\n",
       "      <td>72.0</td>\n",
       "      <td>13.779519</td>\n",
       "      <td>0.999478</td>\n",
       "      <td>26.145485</td>\n",
       "    </tr>\n",
       "    <tr>\n",
       "      <th>1</th>\n",
       "      <td>True</td>\n",
       "      <td>2.0</td>\n",
       "      <td>0.772413</td>\n",
       "      <td>2.314346</td>\n",
       "      <td>1.962590</td>\n",
       "      <td>1.209950</td>\n",
       "      <td>0.942899</td>\n",
       "      <td>23.0</td>\n",
       "      <td>0.978146</td>\n",
       "      <td>0.594104</td>\n",
       "      <td>...</td>\n",
       "      <td>0.940250</td>\n",
       "      <td>0.823956</td>\n",
       "      <td>12.0</td>\n",
       "      <td>110.108917</td>\n",
       "      <td>0.464281</td>\n",
       "      <td>1.659882</td>\n",
       "      <td>10.0</td>\n",
       "      <td>85.420425</td>\n",
       "      <td>0.958979</td>\n",
       "      <td>4.433258</td>\n",
       "    </tr>\n",
       "    <tr>\n",
       "      <th>2</th>\n",
       "      <td>True</td>\n",
       "      <td>1.0</td>\n",
       "      <td>1.133977</td>\n",
       "      <td>2.208778</td>\n",
       "      <td>2.433833</td>\n",
       "      <td>5.661669</td>\n",
       "      <td>1.000000</td>\n",
       "      <td>7.0</td>\n",
       "      <td>0.759502</td>\n",
       "      <td>0.250000</td>\n",
       "      <td>...</td>\n",
       "      <td>0.839649</td>\n",
       "      <td>26.656677</td>\n",
       "      <td>20.0</td>\n",
       "      <td>229.293777</td>\n",
       "      <td>0.724312</td>\n",
       "      <td>51.278198</td>\n",
       "      <td>45.0</td>\n",
       "      <td>57.974194</td>\n",
       "      <td>0.999934</td>\n",
       "      <td>166.264496</td>\n",
       "    </tr>\n",
       "    <tr>\n",
       "      <th>3</th>\n",
       "      <td>True</td>\n",
       "      <td>1.0</td>\n",
       "      <td>9.111749</td>\n",
       "      <td>2.024169</td>\n",
       "      <td>2.040720</td>\n",
       "      <td>2.960321</td>\n",
       "      <td>1.000000</td>\n",
       "      <td>29.0</td>\n",
       "      <td>0.664011</td>\n",
       "      <td>0.086512</td>\n",
       "      <td>...</td>\n",
       "      <td>0.823891</td>\n",
       "      <td>16.496513</td>\n",
       "      <td>12.0</td>\n",
       "      <td>50.884518</td>\n",
       "      <td>0.544624</td>\n",
       "      <td>21.422005</td>\n",
       "      <td>9.0</td>\n",
       "      <td>79.926125</td>\n",
       "      <td>0.734381</td>\n",
       "      <td>20.842312</td>\n",
       "    </tr>\n",
       "    <tr>\n",
       "      <th>4</th>\n",
       "      <td>True</td>\n",
       "      <td>2.0</td>\n",
       "      <td>5.480277</td>\n",
       "      <td>2.741314</td>\n",
       "      <td>1.299153</td>\n",
       "      <td>4.256455</td>\n",
       "      <td>0.946879</td>\n",
       "      <td>37.0</td>\n",
       "      <td>0.673379</td>\n",
       "      <td>0.035833</td>\n",
       "      <td>...</td>\n",
       "      <td>0.678921</td>\n",
       "      <td>109.965759</td>\n",
       "      <td>6.0</td>\n",
       "      <td>40.081612</td>\n",
       "      <td>0.925875</td>\n",
       "      <td>161.879410</td>\n",
       "      <td>77.0</td>\n",
       "      <td>53.494984</td>\n",
       "      <td>0.189319</td>\n",
       "      <td>157.593414</td>\n",
       "    </tr>\n",
       "  </tbody>\n",
       "</table>\n",
       "<p>5 rows × 29 columns</p>\n",
       "</div>"
      ],
      "text/plain": [
       "   isSignal  n_showers_contained  shr_distance  shr_trkfit_gap10_dedx_max  \\\n",
       "0      True                  4.0      3.246621                   1.951385   \n",
       "1      True                  2.0      0.772413                   2.314346   \n",
       "2      True                  1.0      1.133977                   2.208778   \n",
       "3      True                  1.0      9.111749                   2.024169   \n",
       "4      True                  2.0      5.480277                   2.741314   \n",
       "\n",
       "   shr_trkfit_2cm_dedx_max  shrmoliereavg  shr_energyFraction  shrsubclusters  \\\n",
       "0                 2.137975       4.835227            0.735451            38.0   \n",
       "1                 1.962590       1.209950            0.942899            23.0   \n",
       "2                 2.433833       5.661669            1.000000             7.0   \n",
       "3                 2.040720       2.960321            1.000000            29.0   \n",
       "4                 1.299153       4.256455            0.946879            37.0   \n",
       "\n",
       "   shrPCA1CMed_5cm  CylFrac2h_1cm  ...  secondshower_Y_dot  \\\n",
       "0         0.652030       0.106017  ...            0.415677   \n",
       "1         0.978146       0.594104  ...            0.940250   \n",
       "2         0.759502       0.250000  ...            0.839649   \n",
       "3         0.664011       0.086512  ...            0.823891   \n",
       "4         0.673379       0.035833  ...            0.678921   \n",
       "\n",
       "   secondshower_Y_anglediff  secondshower_U_nhit  secondshower_U_vtxdist  \\\n",
       "0                146.163208                 16.0               32.714840   \n",
       "1                  0.823956                 12.0              110.108917   \n",
       "2                 26.656677                 20.0              229.293777   \n",
       "3                 16.496513                 12.0               50.884518   \n",
       "4                109.965759                  6.0               40.081612   \n",
       "\n",
       "   secondshower_U_dot  secondshower_U_anglediff  secondshower_V_nhit  \\\n",
       "0            0.806648                108.138741                 72.0   \n",
       "1            0.464281                  1.659882                 10.0   \n",
       "2            0.724312                 51.278198                 45.0   \n",
       "3            0.544624                 21.422005                  9.0   \n",
       "4            0.925875                161.879410                 77.0   \n",
       "\n",
       "   secondshower_V_vtxdist  secondshower_V_dot  secondshower_V_anglediff  \n",
       "0               13.779519            0.999478                 26.145485  \n",
       "1               85.420425            0.958979                  4.433258  \n",
       "2               57.974194            0.999934                166.264496  \n",
       "3               79.926125            0.734381                 20.842312  \n",
       "4               53.494984            0.189319                157.593414  \n",
       "\n",
       "[5 rows x 29 columns]"
      ]
     },
     "execution_count": 4,
     "metadata": {},
     "output_type": "execute_result"
    }
   ],
   "source": [
    "print(df.shape) \n",
    "print(df.keys())\n",
    "df.head()"
   ]
  },
  {
   "cell_type": "code",
   "execution_count": 5,
   "id": "366bd6a7",
   "metadata": {},
   "outputs": [
    {
     "name": "stdout",
     "output_type": "stream",
     "text": [
      "2.077390385631273\n"
     ]
    }
   ],
   "source": [
    "# calculate neg / pos weight\n",
    "scale_weight = (df.query('isSignal == 0')).shape[0] / (df.query('isSignal == 1')).shape[0]\n",
    "print(scale_weight)"
   ]
  },
  {
   "cell_type": "code",
   "execution_count": 6,
   "id": "58e561be",
   "metadata": {},
   "outputs": [
    {
     "name": "stdout",
     "output_type": "stream",
     "text": [
      "39325\n",
      "18930\n"
     ]
    }
   ],
   "source": [
    "print((df.query('isSignal == 0')).shape[0])\n",
    "print((df.query('isSignal == 1')).shape[0])"
   ]
  },
  {
   "cell_type": "code",
   "execution_count": 7,
   "id": "cedccf90",
   "metadata": {},
   "outputs": [],
   "source": [
    "# splitting into testing and training samples\n",
    "df_train, df_test = train_test_split(df, test_size = 0.3, random_state = 1)\n",
    "labels_train = df_train[\"isSignal\"]\n",
    "labels_test = df_test[\"isSignal\"]\n",
    "\n",
    "df_train_sig = df_train.query(\"isSignal == True\")\n",
    "df_train_bkg = df_train.query(\"isSignal == False\")\n",
    "df_test_sig = df_test.query(\"isSignal == True\")\n",
    "df_test_bkg = df_test.query(\"isSignal == False\")"
   ]
  },
  {
   "cell_type": "code",
   "execution_count": 8,
   "id": "6d303f39",
   "metadata": {},
   "outputs": [
    {
     "name": "stderr",
     "output_type": "stream",
     "text": [
      "/var/folders/2x/l68t7zdd3tngj9l8__x4bmrh0000gq/T/ipykernel_15990/2372294200.py:36: FutureWarning: Passing a set as an indexer is deprecated and will raise in a future version. Use a list instead.\n",
      "  xgb_train_dict = xgb.DMatrix(df_train[bdt_vars], label=labels_train, missing=missing_value, feature_names=bdt_vars)\n",
      "/var/folders/2x/l68t7zdd3tngj9l8__x4bmrh0000gq/T/ipykernel_15990/2372294200.py:37: FutureWarning: Passing a set as an indexer is deprecated and will raise in a future version. Use a list instead.\n",
      "  xgb_train_sig_dict = xgb.DMatrix(df_train_sig[bdt_vars], label=df_train_sig[\"isSignal\"], missing=missing_value, feature_names=bdt_vars)\n",
      "/var/folders/2x/l68t7zdd3tngj9l8__x4bmrh0000gq/T/ipykernel_15990/2372294200.py:38: FutureWarning: Passing a set as an indexer is deprecated and will raise in a future version. Use a list instead.\n",
      "  xgb_train_bkg_dict = xgb.DMatrix(df_train_bkg[bdt_vars], label=df_train_bkg[\"isSignal\"], missing=missing_value, feature_names=bdt_vars)\n",
      "/var/folders/2x/l68t7zdd3tngj9l8__x4bmrh0000gq/T/ipykernel_15990/2372294200.py:40: FutureWarning: Passing a set as an indexer is deprecated and will raise in a future version. Use a list instead.\n",
      "  xgb_test_dict = xgb.DMatrix(df_test[bdt_vars], label=labels_test, missing=missing_value, feature_names=bdt_vars)\n",
      "/var/folders/2x/l68t7zdd3tngj9l8__x4bmrh0000gq/T/ipykernel_15990/2372294200.py:41: FutureWarning: Passing a set as an indexer is deprecated and will raise in a future version. Use a list instead.\n",
      "  xgb_test_sig_dict = xgb.DMatrix(df_test_sig[bdt_vars], label=df_test_sig[\"isSignal\"], missing=missing_value, feature_names=bdt_vars)\n",
      "/var/folders/2x/l68t7zdd3tngj9l8__x4bmrh0000gq/T/ipykernel_15990/2372294200.py:42: FutureWarning: Passing a set as an indexer is deprecated and will raise in a future version. Use a list instead.\n",
      "  xgb_test_bkg_dict = xgb.DMatrix(df_test_bkg[bdt_vars], label=df_test_bkg[\"isSignal\"], missing=missing_value, feature_names=bdt_vars)\n"
     ]
    }
   ],
   "source": [
    "# convert to DMatrix format\n",
    "missing_value = 9999\n",
    "bdt_vars = {\n",
    "    \"n_showers_contained\",\n",
    "    \"shr_distance\",\n",
    "    \"shr_trkfit_gap10_dedx_max\",\n",
    "    \"shr_trkfit_2cm_dedx_max\",\n",
    "    \"shrmoliereavg\",\n",
    "    \"shr_energyFraction\",\n",
    "    \"shrsubclusters\",\n",
    "    \"shrPCA1CMed_5cm\",\n",
    "    \"CylFrac2h_1cm\",\n",
    "    \"DeltaRMS2h\",\n",
    "    \"shrMCSMom\",\n",
    "     \n",
    "    \"shr_energy_second_cali\",\n",
    "    \"shr2_distance\",\n",
    "    \"shr12_p1_dstart\",\n",
    "    \"shr2_trackEndProximity\",\n",
    "    \"shr2_pfpgeneration\",\n",
    "    \n",
    "    \"secondshower_Y_nhit\",\n",
    "    \"secondshower_Y_vtxdist\",\n",
    "    \"secondshower_Y_dot\",\n",
    "    \"secondshower_Y_anglediff\",\n",
    "    \"secondshower_U_nhit\",\n",
    "    \"secondshower_U_vtxdist\",\n",
    "    \"secondshower_U_dot\",\n",
    "    \"secondshower_U_anglediff\",\n",
    "    \"secondshower_V_nhit\",\n",
    "    \"secondshower_V_vtxdist\",\n",
    "    \"secondshower_V_dot\",\n",
    "    \"secondshower_V_anglediff\"\n",
    "}\n",
    "\n",
    "xgb_train_dict = xgb.DMatrix(df_train[bdt_vars], label=labels_train, missing=missing_value, feature_names=bdt_vars)\n",
    "xgb_train_sig_dict = xgb.DMatrix(df_train_sig[bdt_vars], label=df_train_sig[\"isSignal\"], missing=missing_value, feature_names=bdt_vars)\n",
    "xgb_train_bkg_dict = xgb.DMatrix(df_train_bkg[bdt_vars], label=df_train_bkg[\"isSignal\"], missing=missing_value, feature_names=bdt_vars)\n",
    "\n",
    "xgb_test_dict = xgb.DMatrix(df_test[bdt_vars], label=labels_test, missing=missing_value, feature_names=bdt_vars)\n",
    "xgb_test_sig_dict = xgb.DMatrix(df_test_sig[bdt_vars], label=df_test_sig[\"isSignal\"], missing=missing_value, feature_names=bdt_vars)\n",
    "xgb_test_bkg_dict = xgb.DMatrix(df_test_bkg[bdt_vars], label=df_test_bkg[\"isSignal\"], missing=missing_value, feature_names=bdt_vars)"
   ]
  },
  {
   "cell_type": "code",
   "execution_count": 8,
   "id": "4892a116",
   "metadata": {},
   "outputs": [],
   "source": [
    "# configuring XGBoost \n",
    "xgb_param = {'booster': 'dart',\n",
    "        'max_depth':5,\n",
    "        'eta': 0.03,\n",
    "        'gamma': 1,\n",
    "        'objective':'binary:logistic',\n",
    "        'tree_method':'hist',\n",
    "        'rate_drop': 0.1,\n",
    "        'skip_drop': 0.5,\n",
    "        'scale_pos_weight': scale_weight,\n",
    "        'nthread' : 6,\n",
    "        'random_state': 0 }\n",
    "\n",
    "num_round = 400\n",
    "progress = dict()\n",
    "\n",
    "watchlist = [(xgb_train_dict, 'train'), (xgb_test_dict, 'test'), (xgb_test_sig_dict, 'test_sig'), (xgb_test_bkg_dict, 'test_bkg')]"
   ]
  },
  {
   "cell_type": "code",
   "execution_count": 9,
   "id": "93dd2328",
   "metadata": {},
   "outputs": [],
   "source": [
    "# HyperOpt\n",
    "#{'colsample_bytree': 0.8507163619553273,\n",
    "# 'eta': 0.09041903083032421,\n",
    "# 'gamma': 1.788247151343299,\n",
    "# 'max_depth': 5,\n",
    "# 'min_child_weight': 4.989822074413174,\n",
    "# 'subsample': 0.6952159209607586}\n",
    "#350\n",
    "\n",
    "# configuring XGBoost (Optimised values using HyperOpt)\n",
    "xgb_param = {'booster': 'dart',\n",
    "        'max_depth':6,\n",
    "        'eta': 0.05,\n",
    "        'gamma': 0.75,\n",
    "        'min_child_weight': 5.0,\n",
    "        'subsample': 0.75,\n",
    "        'objective':'binary:logistic',\n",
    "        'tree_method':'hist',\n",
    "        'rate_drop': 0.1,\n",
    "        'skip_drop': 0.5,    \n",
    "        'scale_pos_weight': scale_weight,\n",
    "        'nthread' : 6,\n",
    "        'random_state': 27} #27}\n",
    "\n",
    "num_round = 200\n",
    "progress = dict()\n",
    "\n",
    "watchlist = [(xgb_train_dict, 'train'), (xgb_test_dict, 'test'), (xgb_test_sig_dict, 'test_sig'), (xgb_test_bkg_dict, 'test_bkg')]"
   ]
  },
  {
   "cell_type": "code",
   "execution_count": 10,
   "id": "fa86d6e3",
   "metadata": {},
   "outputs": [
    {
     "name": "stderr",
     "output_type": "stream",
     "text": [
      "/opt/homebrew/lib/python3.10/site-packages/xgboost/core.py:617: FutureWarning: Pass `evals` as keyword args.\n",
      "  warnings.warn(msg, FutureWarning)\n"
     ]
    }
   ],
   "source": [
    "# training\n",
    "bdt = xgb.train(xgb_param, xgb_train_dict, num_round, watchlist, evals_result=progress, verbose_eval=False)"
   ]
  },
  {
   "cell_type": "code",
   "execution_count": 17,
   "id": "5fddef82",
   "metadata": {},
   "outputs": [],
   "source": [
    "# save pickle \n",
    "pickle.dump(bdt, open(\"electronPhotonBDT.pickle.dat\", \"wb\"))"
   ]
  },
  {
   "cell_type": "code",
   "execution_count": 18,
   "id": "df31b699",
   "metadata": {},
   "outputs": [],
   "source": [
    "# load from pickle\n",
    "bdt = pickle.load(open(\"electronPhotonBDT.pickle.dat\", \"rb\"))"
   ]
  },
  {
   "cell_type": "code",
   "execution_count": 19,
   "id": "bbd97f3f",
   "metadata": {},
   "outputs": [],
   "source": [
    "# save model\n",
    "bdt.save_model(\"bdt_electronPhoton.model\")\n",
    "bdt.save_model(\"bdt_electronPhoton.json\")"
   ]
  },
  {
   "cell_type": "code",
   "execution_count": 20,
   "id": "c1439a4a",
   "metadata": {},
   "outputs": [],
   "source": [
    "bdt.dump_model(\"bdt_electronPhotondump.txt\")"
   ]
  },
  {
   "cell_type": "code",
   "execution_count": 21,
   "id": "de6db2df",
   "metadata": {},
   "outputs": [
    {
     "data": {
      "image/png": "[encoded data removed]",
      "text/plain": [
       "<Figure size 432x288 with 1 Axes>"
      ]
     },
     "metadata": {
      "needs_background": "light"
     },
     "output_type": "display_data"
    },
    {
     "name": "stdout",
     "output_type": "stream",
     "text": [
      "0.3509666863239427 0.3975086494855663\n"
     ]
    }
   ],
   "source": [
    "# plot training rate\n",
    "results = progress\n",
    "epochs = len(results['train']['logloss'])\n",
    "x_axis = range(0, epochs)\n",
    "\n",
    "fig, ax = plt.subplots()\n",
    "ax.plot(x_axis, results['train']['logloss'], label='Train')\n",
    "ax.plot(x_axis, results['test']['logloss'], label='Test')\n",
    "ax.legend()\n",
    "plt.ylim(0, 0.75)\n",
    "plt.xlabel(\"Iteration\")\n",
    "plt.ylabel(\"Log-loss\")\n",
    "plt.show()\n",
    "\n",
    "print(results['train']['logloss'][-1], results['test']['logloss'][-1])\n",
    "#fig.savefig(\"training_rate_electronphoton_rhc.pdf\", format=\"pdf\")"
   ]
  },
  {
   "cell_type": "code",
   "execution_count": 22,
   "id": "0e3877c8",
   "metadata": {},
   "outputs": [
    {
     "data": {
      "text/plain": [
       "<Figure size 1440x1440 with 0 Axes>"
      ]
     },
     "metadata": {},
     "output_type": "display_data"
    },
    {
     "data": {
      "image/png": "[encoded data removed]",
      "text/plain": [
       "<Figure size 432x288 with 1 Axes>"
      ]
     },
     "metadata": {
      "needs_background": "light"
     },
     "output_type": "display_data"
    }
   ],
   "source": [
    "# plot importances\n",
    "importance = bdt.get_score(importance_type=\"gain\")\n",
    "\n",
    "for key in importance.keys():\n",
    "        importance[key] = round(importance[key],1)\n",
    "\n",
    "# plotting importances of variables\n",
    "plt.figure(figsize=(20,20),facecolor='white')\n",
    "a = xgb.plot_importance(importance,max_num_features=30,importance_type='gain')\n",
    "plt.xlim(0, 180)\n",
    "plt.tight_layout()\n",
    "#plt.savefig(\"feature_importance_electronphoton_rhc.pdf\", format=\"pdf\")"
   ]
  },
  {
   "cell_type": "code",
   "execution_count": 19,
   "id": "e447aae1",
   "metadata": {},
   "outputs": [
    {
     "data": {
      "text/plain": [
       "<Figure size 432x288 with 0 Axes>"
      ]
     },
     "metadata": {},
     "output_type": "display_data"
    }
   ],
   "source": []
  },
  {
   "cell_type": "code",
   "execution_count": 23,
   "id": "9ce8471b",
   "metadata": {},
   "outputs": [
    {
     "data": {
      "image/png": "[encoded data removed]",
      "text/plain": [
       "<Figure size 504x360 with 1 Axes>"
      ]
     },
     "metadata": {
      "needs_background": "light"
     },
     "output_type": "display_data"
    }
   ],
   "source": [
    "# plot test vs training\n",
    "predictions_train_sig = bdt.predict(xgb_train_sig_dict)\n",
    "predictions_train_bkg = bdt.predict(xgb_train_bkg_dict)\n",
    "predictions_test_sig = bdt.predict(xgb_test_sig_dict)\n",
    "predictions_test_bkg = bdt.predict(xgb_test_bkg_dict)\n",
    "\n",
    "hist_range=[0,1.0]\n",
    "n_bins=20\n",
    "\n",
    "plt.figure(figsize=(7,5))\n",
    "plt.hist(predictions_train_sig,bins=n_bins, range=hist_range, density=True,alpha=0.2,color='red',label='Train Signal' )\n",
    "counts,bin_edges = np.histogram(predictions_test_sig,bins=n_bins,range=hist_range,density=True)\n",
    "bin_centers = (bin_edges[:-1] + bin_edges[1:])/2.\n",
    "plt.plot(bin_centers,counts,marker='o',linestyle=\"None\",color='red',label='Test Signal')\n",
    "\n",
    "plt.hist(predictions_train_bkg, bins = n_bins, range = hist_range, density = True, alpha = 0.2, color = 'blue', label = r'Train Background')\n",
    "counts,bin_edges = np.histogram(predictions_test_bkg,bins = n_bins, range= hist_range,density = True)\n",
    "bin_centers = (bin_edges[:-1] +  bin_edges[1:])/2.\n",
    "plt.plot(bin_centers,counts,marker='o',linestyle =\"None\",color='blue',label = r'Test Background')\n",
    "plt.legend()\n",
    "\n",
    "plt.xlabel(\"Score\")\n",
    "\n",
    "plt.tight_layout()\n",
    "\n",
    "#plt.savefig(\"performance_electronphoton_rhc.pdf\", format=\"pdf\")"
   ]
  },
  {
   "cell_type": "code",
   "execution_count": 71,
   "id": "9b10a940",
   "metadata": {},
   "outputs": [
    {
     "data": {
      "text/plain": [
       "<Figure size 432x288 with 0 Axes>"
      ]
     },
     "metadata": {},
     "output_type": "display_data"
    }
   ],
   "source": []
  },
  {
   "cell_type": "code",
   "execution_count": 15,
   "id": "8bf0e72a",
   "metadata": {},
   "outputs": [
    {
     "data": {
      "image/png": "[encoded data removed]",
      "text/plain": [
       "<Figure size 432x288 with 1 Axes>"
      ]
     },
     "metadata": {
      "needs_background": "light"
     },
     "output_type": "display_data"
    }
   ],
   "source": [
    "# create plot of predictions (testing samples)\n",
    "num_bins = 20\n",
    "\n",
    "plt.hist(predictions_test_sig, num_bins, color ='blue', alpha = 0.5)\n",
    "plt.hist(predictions_test_bkg, num_bins, color ='red', alpha = 0.5)\n",
    "\n",
    "plt.show()"
   ]
  },
  {
   "cell_type": "code",
   "execution_count": 16,
   "id": "f32b133e",
   "metadata": {},
   "outputs": [
    {
     "data": {
      "image/png": "[encoded data removed]",
      "text/plain": [
       "<Figure size 432x288 with 1 Axes>"
      ]
     },
     "metadata": {
      "needs_background": "light"
     },
     "output_type": "display_data"
    }
   ],
   "source": [
    "# create plot of predictions (training samples)\n",
    "num_bins = 20\n",
    "   \n",
    "plt.hist(predictions_train_sig, num_bins, color ='blue', alpha = 0.5)\n",
    "plt.hist(predictions_train_bkg, num_bins, color ='red', alpha = 0.5)\n",
    "\n",
    "plt.show()"
   ]
  },
  {
   "cell_type": "code",
   "execution_count": 15,
   "id": "74fffcde",
   "metadata": {},
   "outputs": [
    {
     "name": "stdout",
     "output_type": "stream",
     "text": [
      "[0]\teval-logloss:0.59761\n",
      "[20]\teval-logloss:0.42149\n",
      "[40]\teval-logloss:0.41393\n",
      "[60]\teval-logloss:0.41294\n",
      "[80]\teval-logloss:0.41158\n",
      "[81]\teval-logloss:0.41152\n",
      "0.41152015381803847\n"
     ]
    }
   ],
   "source": [
    "# Hyper parameter optimisation\n",
    "# Un-tunded base case estimator to compare score\n",
    "params_base = {'booster': 'dart',\n",
    "               'objective': 'binary:logistic',\n",
    "               'tree_method': 'hist',\n",
    "               'rate_drop': 0.1,\n",
    "               'skip_drop': 0.5,\n",
    "               'scale_pos_weight': scale_weight,\n",
    "               'random_state': 27}\n",
    "\n",
    "base_model = xgb.train(params = params_base,\n",
    "                       dtrain = xgb_train_dict,\n",
    "                       num_boost_round = 250,\n",
    "                       evals = [(xgb_test_dict,'eval')],\n",
    "                       early_stopping_rounds=10,\n",
    "                       verbose_eval = 20)\n",
    "\n",
    "y_pred_base = base_model.predict(xgb_test_dict)\n",
    "\n",
    "base_score = log_loss(df_test[\"isSignal\"].values, y_pred_base)\n",
    "print(base_score)"
   ]
  },
  {
   "cell_type": "code",
   "execution_count": 16,
   "id": "95b42c2d",
   "metadata": {},
   "outputs": [],
   "source": [
    "# Simple Cross Val score as function to be optimised\n",
    "def score(params):\n",
    "    \n",
    "    ps = {'eta': params['eta'],\n",
    "         'max_depth': params['max_depth'], \n",
    "         'gamma': params['gamma'],\n",
    "         'min_child_weight': params['min_child_weight'], \n",
    "         'subsample': params['subsample'], \n",
    "         'colsample_bytree': params['colsample_bytree'], \n",
    "         'verbosity': 1, \n",
    "         'objective': 'binary:logistic',\n",
    "         'booster': 'dart',\n",
    "         'eval_metric': 'logloss', \n",
    "         'tree_method': 'hist', \n",
    "         'rate_drop': 0.1,\n",
    "         'skip_drop': 0.5,    \n",
    "         'scale_pos_weight': scale_weight,\n",
    "         'random_state': 27,\n",
    "         }\n",
    "    model = xgb.train(ps,xgb_train_dict, params['n_round'], [(xgb_test_dict, 'eval')], early_stopping_rounds=10, verbose_eval = False)\n",
    "    y_pred = model.predict(xgb_test_dict)\n",
    "    score = log_loss(df_test[\"isSignal\"].values, y_pred)\n",
    "\n",
    "    return score"
   ]
  },
  {
   "cell_type": "code",
   "execution_count": 17,
   "id": "aac0a689",
   "metadata": {},
   "outputs": [],
   "source": [
    "# Define parameter space\n",
    "param_space = {'eta': hp.uniform('eta', 0.01, 0.3), \n",
    "               'n_round': scope.int(hp.quniform('n_round', 100, 400, 50)),\n",
    "               'max_depth': scope.int(hp.quniform('max_depth', 3, 6, 1)), \n",
    "               'gamma': hp.uniform('gamma', 0.5, 10), \n",
    "               'min_child_weight': hp.uniform('min_child_weight', 0.5, 10),\n",
    "               'subsample': hp.uniform('subsample', 0.1, 1), \n",
    "               'colsample_bytree': hp.uniform('colsample_bytree', 0.1, 1),  \n",
    "              }\n"
   ]
  },
  {
   "cell_type": "code",
   "execution_count": 18,
   "id": "67ae597f",
   "metadata": {},
   "outputs": [
    {
     "name": "stdout",
     "output_type": "stream",
     "text": [
      "CPU times: user 3 µs, sys: 1e+03 ns, total: 4 µs\n",
      "Wall time: 6.91 µs\n",
      "\r",
      "  0%|                                                                                         | 0/250 [00:00<?, ?trial/s, best loss=?]"
     ]
    },
    {
     "name": "stderr",
     "output_type": "stream",
     "text": [
      "/opt/homebrew/lib/python3.10/site-packages/xgboost/core.py:617: FutureWarning: Pass `evals` as keyword args.\n",
      "  warnings.warn(msg, FutureWarning)\n",
      "\n"
     ]
    },
    {
     "name": "stdout",
     "output_type": "stream",
     "text": [
      "\r",
      "  0%|▏                                                            | 1/250 [00:26<1:49:06, 26.29s/trial, best loss: 0.4060583914807248]"
     ]
    },
    {
     "name": "stderr",
     "output_type": "stream",
     "text": [
      "/opt/homebrew/lib/python3.10/site-packages/xgboost/core.py:617: FutureWarning: Pass `evals` as keyword args.\n",
      "  warnings.warn(msg, FutureWarning)\n",
      "\n"
     ]
    },
    {
     "name": "stdout",
     "output_type": "stream",
     "text": [
      "\r",
      "  1%|▍                                                            | 2/250 [01:03<2:14:41, 32.59s/trial, best loss: 0.4060583914807248]"
     ]
    },
    {
     "name": "stderr",
     "output_type": "stream",
     "text": [
      "/opt/homebrew/lib/python3.10/site-packages/xgboost/core.py:617: FutureWarning: Pass `evals` as keyword args.\n",
      "  warnings.warn(msg, FutureWarning)\n",
      "\n"
     ]
    },
    {
     "name": "stdout",
     "output_type": "stream",
     "text": [
      "\r",
      "  1%|▋                                                            | 3/250 [01:15<1:36:43, 23.49s/trial, best loss: 0.4060583914807248]"
     ]
    },
    {
     "name": "stderr",
     "output_type": "stream",
     "text": [
      "/opt/homebrew/lib/python3.10/site-packages/xgboost/core.py:617: FutureWarning: Pass `evals` as keyword args.\n",
      "  warnings.warn(msg, FutureWarning)\n",
      "\n"
     ]
    },
    {
     "name": "stdout",
     "output_type": "stream",
     "text": [
      "\r",
      "  2%|▉                                                            | 4/250 [02:11<2:27:48, 36.05s/trial, best loss: 0.4060583914807248]"
     ]
    },
    {
     "name": "stderr",
     "output_type": "stream",
     "text": [
      "/opt/homebrew/lib/python3.10/site-packages/xgboost/core.py:617: FutureWarning: Pass `evals` as keyword args.\n",
      "  warnings.warn(msg, FutureWarning)\n",
      "\n"
     ]
    },
    {
     "name": "stdout",
     "output_type": "stream",
     "text": [
      "\r",
      "  2%|█▏                                                           | 5/250 [03:56<4:09:42, 61.15s/trial, best loss: 0.4060583914807248]"
     ]
    },
    {
     "name": "stderr",
     "output_type": "stream",
     "text": [
      "/opt/homebrew/lib/python3.10/site-packages/xgboost/core.py:617: FutureWarning: Pass `evals` as keyword args.\n",
      "  warnings.warn(msg, FutureWarning)\n",
      "\n"
     ]
    },
    {
     "name": "stdout",
     "output_type": "stream",
     "text": [
      "\r",
      "  2%|█▍                                                           | 6/250 [05:14<4:31:53, 66.86s/trial, best loss: 0.4060583914807248]"
     ]
    },
    {
     "name": "stderr",
     "output_type": "stream",
     "text": [
      "/opt/homebrew/lib/python3.10/site-packages/xgboost/core.py:617: FutureWarning: Pass `evals` as keyword args.\n",
      "  warnings.warn(msg, FutureWarning)\n",
      "\n"
     ]
    },
    {
     "name": "stdout",
     "output_type": "stream",
     "text": [
      "\r",
      "  3%|█▋                                                          | 7/250 [08:03<6:46:04, 100.26s/trial, best loss: 0.4060583914807248]"
     ]
    },
    {
     "name": "stderr",
     "output_type": "stream",
     "text": [
      "/opt/homebrew/lib/python3.10/site-packages/xgboost/core.py:617: FutureWarning: Pass `evals` as keyword args.\n",
      "  warnings.warn(msg, FutureWarning)\n",
      "\n"
     ]
    },
    {
     "name": "stdout",
     "output_type": "stream",
     "text": [
      "\r",
      "  3%|█▉                                                           | 8/250 [08:46<5:30:37, 81.97s/trial, best loss: 0.4060583914807248]"
     ]
    },
    {
     "name": "stderr",
     "output_type": "stream",
     "text": [
      "/opt/homebrew/lib/python3.10/site-packages/xgboost/core.py:617: FutureWarning: Pass `evals` as keyword args.\n",
      "  warnings.warn(msg, FutureWarning)\n",
      "\n"
     ]
    },
    {
     "name": "stdout",
     "output_type": "stream",
     "text": [
      "\r",
      "  4%|██▏                                                          | 9/250 [09:01<4:05:27, 61.11s/trial, best loss: 0.4060583914807248]"
     ]
    },
    {
     "name": "stderr",
     "output_type": "stream",
     "text": [
      "/opt/homebrew/lib/python3.10/site-packages/xgboost/core.py:617: FutureWarning: Pass `evals` as keyword args.\n",
      "  warnings.warn(msg, FutureWarning)\n",
      "\n"
     ]
    },
    {
     "name": "stdout",
     "output_type": "stream",
     "text": [
      "\r",
      "  4%|██▍                                                         | 10/250 [10:00<4:01:45, 60.44s/trial, best loss: 0.4060583914807248]"
     ]
    },
    {
     "name": "stderr",
     "output_type": "stream",
     "text": [
      "/opt/homebrew/lib/python3.10/site-packages/xgboost/core.py:617: FutureWarning: Pass `evals` as keyword args.\n",
      "  warnings.warn(msg, FutureWarning)\n",
      "\n"
     ]
    },
    {
     "name": "stdout",
     "output_type": "stream",
     "text": [
      "\r",
      "  4%|██▋                                                         | 11/250 [10:42<3:37:34, 54.62s/trial, best loss: 0.4060583914807248]"
     ]
    },
    {
     "name": "stderr",
     "output_type": "stream",
     "text": [
      "/opt/homebrew/lib/python3.10/site-packages/xgboost/core.py:617: FutureWarning: Pass `evals` as keyword args.\n",
      "  warnings.warn(msg, FutureWarning)\n",
      "\n"
     ]
    },
    {
     "name": "stdout",
     "output_type": "stream",
     "text": [
      "\r",
      "  5%|██▊                                                        | 12/250 [12:04<4:09:24, 62.88s/trial, best loss: 0.40605732955029855]"
     ]
    },
    {
     "name": "stderr",
     "output_type": "stream",
     "text": [
      "/opt/homebrew/lib/python3.10/site-packages/xgboost/core.py:617: FutureWarning: Pass `evals` as keyword args.\n",
      "  warnings.warn(msg, FutureWarning)\n",
      "\n"
     ]
    },
    {
     "name": "stdout",
     "output_type": "stream",
     "text": [
      "\r",
      "  5%|███                                                        | 13/250 [12:21<3:13:23, 48.96s/trial, best loss: 0.40605732955029855]"
     ]
    },
    {
     "name": "stderr",
     "output_type": "stream",
     "text": [
      "/opt/homebrew/lib/python3.10/site-packages/xgboost/core.py:617: FutureWarning: Pass `evals` as keyword args.\n",
      "  warnings.warn(msg, FutureWarning)\n",
      "\n"
     ]
    },
    {
     "name": "stdout",
     "output_type": "stream",
     "text": [
      "\r",
      "  6%|███▎                                                       | 14/250 [12:52<2:52:02, 43.74s/trial, best loss: 0.40605732955029855]"
     ]
    },
    {
     "name": "stderr",
     "output_type": "stream",
     "text": [
      "/opt/homebrew/lib/python3.10/site-packages/xgboost/core.py:617: FutureWarning: Pass `evals` as keyword args.\n",
      "  warnings.warn(msg, FutureWarning)\n",
      "\n"
     ]
    },
    {
     "name": "stdout",
     "output_type": "stream",
     "text": [
      "\r",
      "  6%|███▌                                                       | 15/250 [15:02<4:33:09, 69.74s/trial, best loss: 0.40605732955029855]"
     ]
    },
    {
     "name": "stderr",
     "output_type": "stream",
     "text": [
      "/opt/homebrew/lib/python3.10/site-packages/xgboost/core.py:617: FutureWarning: Pass `evals` as keyword args.\n",
      "  warnings.warn(msg, FutureWarning)\n",
      "\n"
     ]
    },
    {
     "name": "stdout",
     "output_type": "stream",
     "text": [
      "\r",
      "  6%|███▊                                                       | 16/250 [15:38<3:52:18, 59.57s/trial, best loss: 0.40437018290976084]"
     ]
    },
    {
     "name": "stderr",
     "output_type": "stream",
     "text": [
      "/opt/homebrew/lib/python3.10/site-packages/xgboost/core.py:617: FutureWarning: Pass `evals` as keyword args.\n",
      "  warnings.warn(msg, FutureWarning)\n",
      "\n"
     ]
    },
    {
     "name": "stdout",
     "output_type": "stream",
     "text": [
      "\r",
      "  7%|████                                                       | 17/250 [15:52<2:58:22, 45.93s/trial, best loss: 0.40437018290976084]"
     ]
    },
    {
     "name": "stderr",
     "output_type": "stream",
     "text": [
      "/opt/homebrew/lib/python3.10/site-packages/xgboost/core.py:617: FutureWarning: Pass `evals` as keyword args.\n",
      "  warnings.warn(msg, FutureWarning)\n",
      "\n"
     ]
    },
    {
     "name": "stdout",
     "output_type": "stream",
     "text": [
      "\r",
      "  7%|████▏                                                      | 18/250 [19:24<6:09:47, 95.64s/trial, best loss: 0.40437018290976084]"
     ]
    },
    {
     "name": "stderr",
     "output_type": "stream",
     "text": [
      "/opt/homebrew/lib/python3.10/site-packages/xgboost/core.py:617: FutureWarning: Pass `evals` as keyword args.\n",
      "  warnings.warn(msg, FutureWarning)\n",
      "\n"
     ]
    },
    {
     "name": "stdout",
     "output_type": "stream",
     "text": [
      "\r",
      "  8%|████▍                                                     | 19/250 [22:57<8:24:09, 130.95s/trial, best loss: 0.40437018290976084]"
     ]
    },
    {
     "name": "stderr",
     "output_type": "stream",
     "text": [
      "/opt/homebrew/lib/python3.10/site-packages/xgboost/core.py:617: FutureWarning: Pass `evals` as keyword args.\n",
      "  warnings.warn(msg, FutureWarning)\n",
      "\n"
     ]
    },
    {
     "name": "stdout",
     "output_type": "stream",
     "text": [
      "\r",
      "  8%|████▋                                                     | 20/250 [24:08<7:13:18, 113.03s/trial, best loss: 0.40437018290976084]"
     ]
    },
    {
     "name": "stderr",
     "output_type": "stream",
     "text": [
      "/opt/homebrew/lib/python3.10/site-packages/xgboost/core.py:617: FutureWarning: Pass `evals` as keyword args.\n",
      "  warnings.warn(msg, FutureWarning)\n",
      "\n"
     ]
    },
    {
     "name": "stdout",
     "output_type": "stream",
     "text": [
      "\r",
      "  8%|████▉                                                      | 21/250 [24:58<5:59:11, 94.11s/trial, best loss: 0.40437018290976084]"
     ]
    },
    {
     "name": "stderr",
     "output_type": "stream",
     "text": [
      "/opt/homebrew/lib/python3.10/site-packages/xgboost/core.py:617: FutureWarning: Pass `evals` as keyword args.\n",
      "  warnings.warn(msg, FutureWarning)\n",
      "\n"
     ]
    },
    {
     "name": "stdout",
     "output_type": "stream",
     "text": [
      "\r",
      "  9%|█████▏                                                     | 22/250 [25:16<4:30:31, 71.19s/trial, best loss: 0.40437018290976084]"
     ]
    },
    {
     "name": "stderr",
     "output_type": "stream",
     "text": [
      "/opt/homebrew/lib/python3.10/site-packages/xgboost/core.py:617: FutureWarning: Pass `evals` as keyword args.\n",
      "  warnings.warn(msg, FutureWarning)\n",
      "\n"
     ]
    },
    {
     "name": "stdout",
     "output_type": "stream",
     "text": [
      "\r",
      "  9%|█████▍                                                     | 23/250 [25:55<3:52:52, 61.55s/trial, best loss: 0.40437018290976084]"
     ]
    },
    {
     "name": "stderr",
     "output_type": "stream",
     "text": [
      "/opt/homebrew/lib/python3.10/site-packages/xgboost/core.py:617: FutureWarning: Pass `evals` as keyword args.\n",
      "  warnings.warn(msg, FutureWarning)\n",
      "\n"
     ]
    },
    {
     "name": "stdout",
     "output_type": "stream",
     "text": [
      "\r",
      " 10%|█████▋                                                     | 24/250 [27:03<3:58:44, 63.38s/trial, best loss: 0.40437018290976084]"
     ]
    },
    {
     "name": "stderr",
     "output_type": "stream",
     "text": [
      "/opt/homebrew/lib/python3.10/site-packages/xgboost/core.py:617: FutureWarning: Pass `evals` as keyword args.\n",
      "  warnings.warn(msg, FutureWarning)\n",
      "\n"
     ]
    },
    {
     "name": "stdout",
     "output_type": "stream",
     "text": [
      "\r",
      " 10%|█████▉                                                     | 25/250 [27:21<3:07:17, 49.94s/trial, best loss: 0.40437018290976084]"
     ]
    },
    {
     "name": "stderr",
     "output_type": "stream",
     "text": [
      "/opt/homebrew/lib/python3.10/site-packages/xgboost/core.py:617: FutureWarning: Pass `evals` as keyword args.\n",
      "  warnings.warn(msg, FutureWarning)\n",
      "\n"
     ]
    },
    {
     "name": "stdout",
     "output_type": "stream",
     "text": [
      "\r",
      " 10%|██████▏                                                    | 26/250 [28:00<2:54:09, 46.65s/trial, best loss: 0.40437018290976084]"
     ]
    },
    {
     "name": "stderr",
     "output_type": "stream",
     "text": [
      "/opt/homebrew/lib/python3.10/site-packages/xgboost/core.py:617: FutureWarning: Pass `evals` as keyword args.\n",
      "  warnings.warn(msg, FutureWarning)\n",
      "\n"
     ]
    },
    {
     "name": "stdout",
     "output_type": "stream",
     "text": [
      "\r",
      " 11%|██████▎                                                    | 27/250 [29:11<3:20:49, 54.03s/trial, best loss: 0.40437018290976084]"
     ]
    },
    {
     "name": "stderr",
     "output_type": "stream",
     "text": [
      "/opt/homebrew/lib/python3.10/site-packages/xgboost/core.py:617: FutureWarning: Pass `evals` as keyword args.\n",
      "  warnings.warn(msg, FutureWarning)\n",
      "\n"
     ]
    },
    {
     "name": "stdout",
     "output_type": "stream",
     "text": [
      "\r",
      " 11%|██████▌                                                    | 28/250 [31:40<5:04:51, 82.39s/trial, best loss: 0.40437018290976084]"
     ]
    },
    {
     "name": "stderr",
     "output_type": "stream",
     "text": [
      "/opt/homebrew/lib/python3.10/site-packages/xgboost/core.py:617: FutureWarning: Pass `evals` as keyword args.\n",
      "  warnings.warn(msg, FutureWarning)\n",
      "\n"
     ]
    },
    {
     "name": "stdout",
     "output_type": "stream",
     "text": [
      "\r",
      " 12%|██████▊                                                    | 29/250 [32:00<3:54:58, 63.79s/trial, best loss: 0.40437018290976084]"
     ]
    },
    {
     "name": "stderr",
     "output_type": "stream",
     "text": [
      "/opt/homebrew/lib/python3.10/site-packages/xgboost/core.py:617: FutureWarning: Pass `evals` as keyword args.\n",
      "  warnings.warn(msg, FutureWarning)\n",
      "\n"
     ]
    },
    {
     "name": "stdout",
     "output_type": "stream",
     "text": [
      "\r",
      " 12%|███████                                                    | 30/250 [32:41<3:28:07, 56.76s/trial, best loss: 0.40437018290976084]"
     ]
    },
    {
     "name": "stderr",
     "output_type": "stream",
     "text": [
      "/opt/homebrew/lib/python3.10/site-packages/xgboost/core.py:617: FutureWarning: Pass `evals` as keyword args.\n",
      "  warnings.warn(msg, FutureWarning)\n",
      "\n"
     ]
    },
    {
     "name": "stdout",
     "output_type": "stream",
     "text": [
      "\r",
      " 12%|███████▎                                                   | 31/250 [33:30<3:19:15, 54.59s/trial, best loss: 0.40437018290976084]"
     ]
    },
    {
     "name": "stderr",
     "output_type": "stream",
     "text": [
      "/opt/homebrew/lib/python3.10/site-packages/xgboost/core.py:617: FutureWarning: Pass `evals` as keyword args.\n",
      "  warnings.warn(msg, FutureWarning)\n",
      "\n"
     ]
    },
    {
     "name": "stdout",
     "output_type": "stream",
     "text": [
      "\r",
      " 13%|███████▌                                                   | 32/250 [34:21<3:14:08, 53.43s/trial, best loss: 0.40437018290976084]"
     ]
    },
    {
     "name": "stderr",
     "output_type": "stream",
     "text": [
      "/opt/homebrew/lib/python3.10/site-packages/xgboost/core.py:617: FutureWarning: Pass `evals` as keyword args.\n",
      "  warnings.warn(msg, FutureWarning)\n",
      "\n"
     ]
    },
    {
     "name": "stdout",
     "output_type": "stream",
     "text": [
      "\r",
      " 13%|███████▊                                                   | 33/250 [35:05<3:02:35, 50.49s/trial, best loss: 0.40437018290976084]"
     ]
    },
    {
     "name": "stderr",
     "output_type": "stream",
     "text": [
      "/opt/homebrew/lib/python3.10/site-packages/xgboost/core.py:617: FutureWarning: Pass `evals` as keyword args.\n",
      "  warnings.warn(msg, FutureWarning)\n",
      "\n"
     ]
    },
    {
     "name": "stdout",
     "output_type": "stream",
     "text": [
      "\r",
      " 14%|████████                                                   | 34/250 [36:52<4:02:47, 67.44s/trial, best loss: 0.40437018290976084]"
     ]
    },
    {
     "name": "stderr",
     "output_type": "stream",
     "text": [
      "/opt/homebrew/lib/python3.10/site-packages/xgboost/core.py:617: FutureWarning: Pass `evals` as keyword args.\n",
      "  warnings.warn(msg, FutureWarning)\n",
      "\n"
     ]
    },
    {
     "name": "stdout",
     "output_type": "stream",
     "text": [
      "\r",
      " 14%|████████▎                                                  | 35/250 [37:14<3:13:30, 54.00s/trial, best loss: 0.40437018290976084]"
     ]
    },
    {
     "name": "stderr",
     "output_type": "stream",
     "text": [
      "/opt/homebrew/lib/python3.10/site-packages/xgboost/core.py:617: FutureWarning: Pass `evals` as keyword args.\n",
      "  warnings.warn(msg, FutureWarning)\n",
      "\n"
     ]
    },
    {
     "name": "stdout",
     "output_type": "stream",
     "text": [
      "\r",
      " 14%|████████▍                                                  | 36/250 [37:55<2:58:19, 50.00s/trial, best loss: 0.40437018290976084]"
     ]
    },
    {
     "name": "stderr",
     "output_type": "stream",
     "text": [
      "/opt/homebrew/lib/python3.10/site-packages/xgboost/core.py:617: FutureWarning: Pass `evals` as keyword args.\n",
      "  warnings.warn(msg, FutureWarning)\n",
      "\n"
     ]
    },
    {
     "name": "stdout",
     "output_type": "stream",
     "text": [
      "\r",
      " 15%|████████▋                                                  | 37/250 [39:53<4:10:13, 70.48s/trial, best loss: 0.40437018290976084]"
     ]
    },
    {
     "name": "stderr",
     "output_type": "stream",
     "text": [
      "/opt/homebrew/lib/python3.10/site-packages/xgboost/core.py:617: FutureWarning: Pass `evals` as keyword args.\n",
      "  warnings.warn(msg, FutureWarning)\n",
      "\n"
     ]
    },
    {
     "name": "stdout",
     "output_type": "stream",
     "text": [
      "\r",
      " 15%|████████▉                                                  | 38/250 [40:16<3:18:05, 56.06s/trial, best loss: 0.40437018290976084]"
     ]
    },
    {
     "name": "stderr",
     "output_type": "stream",
     "text": [
      "/opt/homebrew/lib/python3.10/site-packages/xgboost/core.py:617: FutureWarning: Pass `evals` as keyword args.\n",
      "  warnings.warn(msg, FutureWarning)\n",
      "\n"
     ]
    },
    {
     "name": "stdout",
     "output_type": "stream",
     "text": [
      "\r",
      " 16%|█████████▏                                                 | 39/250 [40:35<2:37:54, 44.90s/trial, best loss: 0.40437018290976084]"
     ]
    },
    {
     "name": "stderr",
     "output_type": "stream",
     "text": [
      "/opt/homebrew/lib/python3.10/site-packages/xgboost/core.py:617: FutureWarning: Pass `evals` as keyword args.\n",
      "  warnings.warn(msg, FutureWarning)\n",
      "\n"
     ]
    },
    {
     "name": "stdout",
     "output_type": "stream",
     "text": [
      "\r",
      " 16%|█████████▍                                                 | 40/250 [40:53<2:08:59, 36.86s/trial, best loss: 0.40437018290976084]"
     ]
    },
    {
     "name": "stderr",
     "output_type": "stream",
     "text": [
      "/opt/homebrew/lib/python3.10/site-packages/xgboost/core.py:617: FutureWarning: Pass `evals` as keyword args.\n",
      "  warnings.warn(msg, FutureWarning)\n",
      "\n"
     ]
    },
    {
     "name": "stdout",
     "output_type": "stream",
     "text": [
      "\r",
      " 16%|█████████▋                                                 | 41/250 [41:10<1:48:09, 31.05s/trial, best loss: 0.40437018290976084]"
     ]
    },
    {
     "name": "stderr",
     "output_type": "stream",
     "text": [
      "/opt/homebrew/lib/python3.10/site-packages/xgboost/core.py:617: FutureWarning: Pass `evals` as keyword args.\n",
      "  warnings.warn(msg, FutureWarning)\n",
      "\n"
     ]
    },
    {
     "name": "stdout",
     "output_type": "stream",
     "text": [
      "\r",
      " 17%|█████████▉                                                 | 42/250 [41:15<1:20:51, 23.32s/trial, best loss: 0.40437018290976084]"
     ]
    },
    {
     "name": "stderr",
     "output_type": "stream",
     "text": [
      "/opt/homebrew/lib/python3.10/site-packages/xgboost/core.py:617: FutureWarning: Pass `evals` as keyword args.\n",
      "  warnings.warn(msg, FutureWarning)\n",
      "\n"
     ]
    },
    {
     "name": "stdout",
     "output_type": "stream",
     "text": [
      "\r",
      " 17%|██████████▏                                                | 43/250 [41:41<1:22:56, 24.04s/trial, best loss: 0.40437018290976084]"
     ]
    },
    {
     "name": "stderr",
     "output_type": "stream",
     "text": [
      "/opt/homebrew/lib/python3.10/site-packages/xgboost/core.py:617: FutureWarning: Pass `evals` as keyword args.\n",
      "  warnings.warn(msg, FutureWarning)\n",
      "\n"
     ]
    },
    {
     "name": "stdout",
     "output_type": "stream",
     "text": [
      "\r",
      " 18%|██████████▍                                                | 44/250 [41:57<1:13:47, 21.49s/trial, best loss: 0.40437018290976084]"
     ]
    },
    {
     "name": "stderr",
     "output_type": "stream",
     "text": [
      "/opt/homebrew/lib/python3.10/site-packages/xgboost/core.py:617: FutureWarning: Pass `evals` as keyword args.\n",
      "  warnings.warn(msg, FutureWarning)\n",
      "\n"
     ]
    },
    {
     "name": "stdout",
     "output_type": "stream",
     "text": [
      "\r",
      " 18%|██████████▌                                                | 45/250 [42:51<1:46:49, 31.27s/trial, best loss: 0.40437018290976084]"
     ]
    },
    {
     "name": "stderr",
     "output_type": "stream",
     "text": [
      "/opt/homebrew/lib/python3.10/site-packages/xgboost/core.py:617: FutureWarning: Pass `evals` as keyword args.\n",
      "  warnings.warn(msg, FutureWarning)\n",
      "\n"
     ]
    },
    {
     "name": "stdout",
     "output_type": "stream",
     "text": [
      "\r",
      " 18%|██████████▊                                                | 46/250 [43:30<1:54:04, 33.55s/trial, best loss: 0.40437018290976084]"
     ]
    },
    {
     "name": "stderr",
     "output_type": "stream",
     "text": [
      "/opt/homebrew/lib/python3.10/site-packages/xgboost/core.py:617: FutureWarning: Pass `evals` as keyword args.\n",
      "  warnings.warn(msg, FutureWarning)\n",
      "\n"
     ]
    },
    {
     "name": "stdout",
     "output_type": "stream",
     "text": [
      "\r",
      " 19%|███████████                                                | 47/250 [44:17<2:07:29, 37.68s/trial, best loss: 0.40437018290976084]"
     ]
    },
    {
     "name": "stderr",
     "output_type": "stream",
     "text": [
      "/opt/homebrew/lib/python3.10/site-packages/xgboost/core.py:617: FutureWarning: Pass `evals` as keyword args.\n",
      "  warnings.warn(msg, FutureWarning)\n",
      "\n"
     ]
    },
    {
     "name": "stdout",
     "output_type": "stream",
     "text": [
      "\r",
      " 19%|███████████▎                                               | 48/250 [44:35<1:47:27, 31.92s/trial, best loss: 0.40437018290976084]"
     ]
    },
    {
     "name": "stderr",
     "output_type": "stream",
     "text": [
      "/opt/homebrew/lib/python3.10/site-packages/xgboost/core.py:617: FutureWarning: Pass `evals` as keyword args.\n",
      "  warnings.warn(msg, FutureWarning)\n",
      "\n"
     ]
    },
    {
     "name": "stdout",
     "output_type": "stream",
     "text": [
      "\r",
      " 20%|███████████▌                                               | 49/250 [44:48<1:27:19, 26.07s/trial, best loss: 0.40437018290976084]"
     ]
    },
    {
     "name": "stderr",
     "output_type": "stream",
     "text": [
      "/opt/homebrew/lib/python3.10/site-packages/xgboost/core.py:617: FutureWarning: Pass `evals` as keyword args.\n",
      "  warnings.warn(msg, FutureWarning)\n",
      "\n"
     ]
    },
    {
     "name": "stdout",
     "output_type": "stream",
     "text": [
      "\r",
      " 20%|███████████▊                                               | 50/250 [45:55<2:07:45, 38.33s/trial, best loss: 0.40437018290976084]"
     ]
    },
    {
     "name": "stderr",
     "output_type": "stream",
     "text": [
      "/opt/homebrew/lib/python3.10/site-packages/xgboost/core.py:617: FutureWarning: Pass `evals` as keyword args.\n",
      "  warnings.warn(msg, FutureWarning)\n",
      "\n"
     ]
    },
    {
     "name": "stdout",
     "output_type": "stream",
     "text": [
      "\r",
      " 20%|████████████                                               | 51/250 [46:13<1:47:39, 32.46s/trial, best loss: 0.40437018290976084]"
     ]
    },
    {
     "name": "stderr",
     "output_type": "stream",
     "text": [
      "/opt/homebrew/lib/python3.10/site-packages/xgboost/core.py:617: FutureWarning: Pass `evals` as keyword args.\n",
      "  warnings.warn(msg, FutureWarning)\n",
      "\n"
     ]
    },
    {
     "name": "stdout",
     "output_type": "stream",
     "text": [
      "\r",
      " 21%|████████████▎                                              | 52/250 [46:19<1:20:30, 24.40s/trial, best loss: 0.40437018290976084]"
     ]
    },
    {
     "name": "stderr",
     "output_type": "stream",
     "text": [
      "/opt/homebrew/lib/python3.10/site-packages/xgboost/core.py:617: FutureWarning: Pass `evals` as keyword args.\n",
      "  warnings.warn(msg, FutureWarning)\n",
      "\n"
     ]
    },
    {
     "name": "stdout",
     "output_type": "stream",
     "text": [
      "\r",
      " 21%|████████████▌                                              | 53/250 [47:27<2:02:35, 37.34s/trial, best loss: 0.40437018290976084]"
     ]
    },
    {
     "name": "stderr",
     "output_type": "stream",
     "text": [
      "/opt/homebrew/lib/python3.10/site-packages/xgboost/core.py:617: FutureWarning: Pass `evals` as keyword args.\n",
      "  warnings.warn(msg, FutureWarning)\n",
      "\n"
     ]
    },
    {
     "name": "stdout",
     "output_type": "stream",
     "text": [
      "\r",
      " 22%|████████████▋                                              | 54/250 [48:04<2:02:23, 37.47s/trial, best loss: 0.40437018290976084]"
     ]
    },
    {
     "name": "stderr",
     "output_type": "stream",
     "text": [
      "/opt/homebrew/lib/python3.10/site-packages/xgboost/core.py:617: FutureWarning: Pass `evals` as keyword args.\n",
      "  warnings.warn(msg, FutureWarning)\n",
      "\n"
     ]
    },
    {
     "name": "stdout",
     "output_type": "stream",
     "text": [
      "\r",
      " 22%|████████████▉                                              | 55/250 [48:43<2:02:59, 37.84s/trial, best loss: 0.40437018290976084]"
     ]
    },
    {
     "name": "stderr",
     "output_type": "stream",
     "text": [
      "/opt/homebrew/lib/python3.10/site-packages/xgboost/core.py:617: FutureWarning: Pass `evals` as keyword args.\n",
      "  warnings.warn(msg, FutureWarning)\n",
      "\n"
     ]
    },
    {
     "name": "stdout",
     "output_type": "stream",
     "text": [
      "\r",
      " 22%|█████████████▏                                             | 56/250 [49:20<2:01:09, 37.47s/trial, best loss: 0.40437018290976084]"
     ]
    },
    {
     "name": "stderr",
     "output_type": "stream",
     "text": [
      "/opt/homebrew/lib/python3.10/site-packages/xgboost/core.py:617: FutureWarning: Pass `evals` as keyword args.\n",
      "  warnings.warn(msg, FutureWarning)\n",
      "\n"
     ]
    },
    {
     "name": "stdout",
     "output_type": "stream",
     "text": [
      "\r",
      " 23%|█████████████▍                                             | 57/250 [50:01<2:04:10, 38.60s/trial, best loss: 0.40437018290976084]"
     ]
    },
    {
     "name": "stderr",
     "output_type": "stream",
     "text": [
      "/opt/homebrew/lib/python3.10/site-packages/xgboost/core.py:617: FutureWarning: Pass `evals` as keyword args.\n",
      "  warnings.warn(msg, FutureWarning)\n",
      "\n"
     ]
    },
    {
     "name": "stdout",
     "output_type": "stream",
     "text": [
      "\r",
      " 23%|█████████████▋                                             | 58/250 [51:09<2:31:32, 47.36s/trial, best loss: 0.40437018290976084]"
     ]
    },
    {
     "name": "stderr",
     "output_type": "stream",
     "text": [
      "/opt/homebrew/lib/python3.10/site-packages/xgboost/core.py:617: FutureWarning: Pass `evals` as keyword args.\n",
      "  warnings.warn(msg, FutureWarning)\n",
      "\n"
     ]
    },
    {
     "name": "stdout",
     "output_type": "stream",
     "text": [
      "\r",
      " 24%|█████████████▉                                             | 59/250 [51:27<2:03:19, 38.74s/trial, best loss: 0.40437018290976084]"
     ]
    },
    {
     "name": "stderr",
     "output_type": "stream",
     "text": [
      "/opt/homebrew/lib/python3.10/site-packages/xgboost/core.py:617: FutureWarning: Pass `evals` as keyword args.\n",
      "  warnings.warn(msg, FutureWarning)\n",
      "\n"
     ]
    },
    {
     "name": "stdout",
     "output_type": "stream",
     "text": [
      "\r",
      " 24%|██████████████▏                                            | 60/250 [51:39<1:36:41, 30.54s/trial, best loss: 0.40437018290976084]"
     ]
    },
    {
     "name": "stderr",
     "output_type": "stream",
     "text": [
      "/opt/homebrew/lib/python3.10/site-packages/xgboost/core.py:617: FutureWarning: Pass `evals` as keyword args.\n",
      "  warnings.warn(msg, FutureWarning)\n",
      "\n"
     ]
    },
    {
     "name": "stdout",
     "output_type": "stream",
     "text": [
      "\r",
      " 24%|██████████████▍                                            | 61/250 [53:02<2:26:11, 46.41s/trial, best loss: 0.40358530245340846]"
     ]
    },
    {
     "name": "stderr",
     "output_type": "stream",
     "text": [
      "/opt/homebrew/lib/python3.10/site-packages/xgboost/core.py:617: FutureWarning: Pass `evals` as keyword args.\n",
      "  warnings.warn(msg, FutureWarning)\n",
      "\n"
     ]
    },
    {
     "name": "stdout",
     "output_type": "stream",
     "text": [
      "\r",
      " 25%|██████████████▋                                            | 62/250 [56:32<4:59:23, 95.55s/trial, best loss: 0.40358530245340846]"
     ]
    },
    {
     "name": "stderr",
     "output_type": "stream",
     "text": [
      "/opt/homebrew/lib/python3.10/site-packages/xgboost/core.py:617: FutureWarning: Pass `evals` as keyword args.\n",
      "  warnings.warn(msg, FutureWarning)\n",
      "\n"
     ]
    },
    {
     "name": "stdout",
     "output_type": "stream",
     "text": [
      "\r",
      " 25%|██████████████▌                                           | 63/250 [58:37<5:24:38, 104.16s/trial, best loss: 0.40358530245340846]"
     ]
    },
    {
     "name": "stderr",
     "output_type": "stream",
     "text": [
      "/opt/homebrew/lib/python3.10/site-packages/xgboost/core.py:617: FutureWarning: Pass `evals` as keyword args.\n",
      "  warnings.warn(msg, FutureWarning)\n",
      "\n"
     ]
    },
    {
     "name": "stdout",
     "output_type": "stream",
     "text": [
      "\r",
      " 26%|██████████████▎                                         | 64/250 [1:01:16<6:13:50, 120.59s/trial, best loss: 0.40358530245340846]"
     ]
    },
    {
     "name": "stderr",
     "output_type": "stream",
     "text": [
      "/opt/homebrew/lib/python3.10/site-packages/xgboost/core.py:617: FutureWarning: Pass `evals` as keyword args.\n",
      "  warnings.warn(msg, FutureWarning)\n",
      "\n"
     ]
    },
    {
     "name": "stdout",
     "output_type": "stream",
     "text": [
      "\r",
      " 26%|██████████████▌                                         | 65/250 [1:03:56<6:49:03, 132.66s/trial, best loss: 0.40358530245340846]"
     ]
    },
    {
     "name": "stderr",
     "output_type": "stream",
     "text": [
      "/opt/homebrew/lib/python3.10/site-packages/xgboost/core.py:617: FutureWarning: Pass `evals` as keyword args.\n",
      "  warnings.warn(msg, FutureWarning)\n",
      "\n"
     ]
    },
    {
     "name": "stdout",
     "output_type": "stream",
     "text": [
      "\r",
      " 26%|██████████████▊                                         | 66/250 [1:06:22<6:58:40, 136.53s/trial, best loss: 0.40358530245340846]"
     ]
    },
    {
     "name": "stderr",
     "output_type": "stream",
     "text": [
      "/opt/homebrew/lib/python3.10/site-packages/xgboost/core.py:617: FutureWarning: Pass `evals` as keyword args.\n",
      "  warnings.warn(msg, FutureWarning)\n",
      "\n"
     ]
    },
    {
     "name": "stdout",
     "output_type": "stream",
     "text": [
      "\r",
      " 27%|███████████████                                         | 67/250 [1:11:36<9:38:29, 189.67s/trial, best loss: 0.40335648770986265]"
     ]
    },
    {
     "name": "stderr",
     "output_type": "stream",
     "text": [
      "/opt/homebrew/lib/python3.10/site-packages/xgboost/core.py:617: FutureWarning: Pass `evals` as keyword args.\n",
      "  warnings.warn(msg, FutureWarning)\n",
      "\n"
     ]
    },
    {
     "name": "stdout",
     "output_type": "stream",
     "text": [
      "\r",
      " 27%|██████████████▉                                        | 68/250 [1:16:56<11:34:31, 228.96s/trial, best loss: 0.40335648770986265]"
     ]
    },
    {
     "name": "stderr",
     "output_type": "stream",
     "text": [
      "/opt/homebrew/lib/python3.10/site-packages/xgboost/core.py:617: FutureWarning: Pass `evals` as keyword args.\n",
      "  warnings.warn(msg, FutureWarning)\n",
      "\n"
     ]
    },
    {
     "name": "stdout",
     "output_type": "stream",
     "text": [
      "\r",
      " 28%|███████████████▏                                       | 69/250 [1:19:28<10:21:02, 205.87s/trial, best loss: 0.40335648770986265]"
     ]
    },
    {
     "name": "stderr",
     "output_type": "stream",
     "text": [
      "/opt/homebrew/lib/python3.10/site-packages/xgboost/core.py:617: FutureWarning: Pass `evals` as keyword args.\n",
      "  warnings.warn(msg, FutureWarning)\n",
      "\n"
     ]
    },
    {
     "name": "stdout",
     "output_type": "stream",
     "text": [
      "\r",
      " 28%|███████████████▍                                       | 70/250 [1:23:25<10:45:16, 215.09s/trial, best loss: 0.40335648770986265]"
     ]
    },
    {
     "name": "stderr",
     "output_type": "stream",
     "text": [
      "/opt/homebrew/lib/python3.10/site-packages/xgboost/core.py:617: FutureWarning: Pass `evals` as keyword args.\n",
      "  warnings.warn(msg, FutureWarning)\n",
      "\n"
     ]
    },
    {
     "name": "stdout",
     "output_type": "stream",
     "text": [
      "\r",
      " 28%|███████████████▉                                        | 71/250 [1:25:11<9:04:12, 182.42s/trial, best loss: 0.40335648770986265]"
     ]
    },
    {
     "name": "stderr",
     "output_type": "stream",
     "text": [
      "/opt/homebrew/lib/python3.10/site-packages/xgboost/core.py:617: FutureWarning: Pass `evals` as keyword args.\n",
      "  warnings.warn(msg, FutureWarning)\n",
      "\n"
     ]
    },
    {
     "name": "stdout",
     "output_type": "stream",
     "text": [
      "\r",
      " 29%|████████████████▏                                       | 72/250 [1:26:10<7:11:16, 145.37s/trial, best loss: 0.40335648770986265]"
     ]
    },
    {
     "name": "stderr",
     "output_type": "stream",
     "text": [
      "/opt/homebrew/lib/python3.10/site-packages/xgboost/core.py:617: FutureWarning: Pass `evals` as keyword args.\n",
      "  warnings.warn(msg, FutureWarning)\n",
      "\n"
     ]
    },
    {
     "name": "stdout",
     "output_type": "stream",
     "text": [
      "\r",
      " 29%|████████████████▋                                        | 73/250 [1:31:34<9:46:52, 198.94s/trial, best loss: 0.4026482548746486]"
     ]
    },
    {
     "name": "stderr",
     "output_type": "stream",
     "text": [
      "/opt/homebrew/lib/python3.10/site-packages/xgboost/core.py:617: FutureWarning: Pass `evals` as keyword args.\n",
      "  warnings.warn(msg, FutureWarning)\n",
      "\n"
     ]
    },
    {
     "name": "stdout",
     "output_type": "stream",
     "text": [
      "\r",
      " 30%|████████████████▌                                       | 74/250 [1:36:57<11:32:30, 236.08s/trial, best loss: 0.4026482548746486]"
     ]
    },
    {
     "name": "stderr",
     "output_type": "stream",
     "text": [
      "/opt/homebrew/lib/python3.10/site-packages/xgboost/core.py:617: FutureWarning: Pass `evals` as keyword args.\n",
      "  warnings.warn(msg, FutureWarning)\n",
      "\n"
     ]
    },
    {
     "name": "stdout",
     "output_type": "stream",
     "text": [
      "\r",
      " 30%|████████████████▊                                       | 75/250 [1:40:57<11:32:02, 237.27s/trial, best loss: 0.4026482548746486]"
     ]
    },
    {
     "name": "stderr",
     "output_type": "stream",
     "text": [
      "/opt/homebrew/lib/python3.10/site-packages/xgboost/core.py:617: FutureWarning: Pass `evals` as keyword args.\n",
      "  warnings.warn(msg, FutureWarning)\n",
      "\n"
     ]
    },
    {
     "name": "stdout",
     "output_type": "stream",
     "text": [
      "\r",
      " 30%|█████████████████▎                                       | 76/250 [1:42:28<9:21:13, 193.52s/trial, best loss: 0.4026482548746486]"
     ]
    },
    {
     "name": "stderr",
     "output_type": "stream",
     "text": [
      "/opt/homebrew/lib/python3.10/site-packages/xgboost/core.py:617: FutureWarning: Pass `evals` as keyword args.\n",
      "  warnings.warn(msg, FutureWarning)\n",
      "\n"
     ]
    },
    {
     "name": "stdout",
     "output_type": "stream",
     "text": [
      "\r",
      " 31%|█████████████████▌                                       | 77/250 [1:46:10<9:42:12, 201.92s/trial, best loss: 0.4026482548746486]"
     ]
    },
    {
     "name": "stderr",
     "output_type": "stream",
     "text": [
      "/opt/homebrew/lib/python3.10/site-packages/xgboost/core.py:617: FutureWarning: Pass `evals` as keyword args.\n",
      "  warnings.warn(msg, FutureWarning)\n",
      "\n"
     ]
    },
    {
     "name": "stdout",
     "output_type": "stream",
     "text": [
      "\r",
      " 31%|█████████████████▊                                       | 78/250 [1:47:55<8:15:52, 172.98s/trial, best loss: 0.4026482548746486]"
     ]
    },
    {
     "name": "stderr",
     "output_type": "stream",
     "text": [
      "/opt/homebrew/lib/python3.10/site-packages/xgboost/core.py:617: FutureWarning: Pass `evals` as keyword args.\n",
      "  warnings.warn(msg, FutureWarning)\n",
      "\n"
     ]
    },
    {
     "name": "stdout",
     "output_type": "stream",
     "text": [
      "\r",
      " 32%|██████████████████                                       | 79/250 [1:48:29<6:14:00, 131.23s/trial, best loss: 0.4026482548746486]"
     ]
    },
    {
     "name": "stderr",
     "output_type": "stream",
     "text": [
      "/opt/homebrew/lib/python3.10/site-packages/xgboost/core.py:617: FutureWarning: Pass `evals` as keyword args.\n",
      "  warnings.warn(msg, FutureWarning)\n",
      "\n"
     ]
    },
    {
     "name": "stdout",
     "output_type": "stream",
     "text": [
      "\r",
      " 32%|██████████████████▏                                      | 80/250 [1:53:32<8:38:15, 182.92s/trial, best loss: 0.4026482548746486]"
     ]
    },
    {
     "name": "stderr",
     "output_type": "stream",
     "text": [
      "/opt/homebrew/lib/python3.10/site-packages/xgboost/core.py:617: FutureWarning: Pass `evals` as keyword args.\n",
      "  warnings.warn(msg, FutureWarning)\n",
      "\n"
     ]
    },
    {
     "name": "stdout",
     "output_type": "stream",
     "text": [
      "\r",
      " 32%|██████████████████▍                                      | 81/250 [1:57:25<9:17:29, 197.93s/trial, best loss: 0.4026482548746486]"
     ]
    },
    {
     "name": "stderr",
     "output_type": "stream",
     "text": [
      "/opt/homebrew/lib/python3.10/site-packages/xgboost/core.py:617: FutureWarning: Pass `evals` as keyword args.\n",
      "  warnings.warn(msg, FutureWarning)\n",
      "\n"
     ]
    },
    {
     "name": "stdout",
     "output_type": "stream",
     "text": [
      "\r",
      " 33%|██████████████████▋                                      | 82/250 [2:01:10<9:36:42, 205.97s/trial, best loss: 0.4026482548746486]"
     ]
    },
    {
     "name": "stderr",
     "output_type": "stream",
     "text": [
      "/opt/homebrew/lib/python3.10/site-packages/xgboost/core.py:617: FutureWarning: Pass `evals` as keyword args.\n",
      "  warnings.warn(msg, FutureWarning)\n",
      "\n"
     ]
    },
    {
     "name": "stdout",
     "output_type": "stream",
     "text": [
      "\r",
      " 33%|██████████████████▉                                      | 83/250 [2:02:02<7:24:17, 159.63s/trial, best loss: 0.4026482548746486]"
     ]
    },
    {
     "name": "stderr",
     "output_type": "stream",
     "text": [
      "/opt/homebrew/lib/python3.10/site-packages/xgboost/core.py:617: FutureWarning: Pass `evals` as keyword args.\n",
      "  warnings.warn(msg, FutureWarning)\n",
      "\n"
     ]
    },
    {
     "name": "stdout",
     "output_type": "stream",
     "text": [
      "\r",
      " 34%|███████████████████▏                                     | 84/250 [2:07:00<9:17:06, 201.37s/trial, best loss: 0.4026482548746486]"
     ]
    },
    {
     "name": "stderr",
     "output_type": "stream",
     "text": [
      "/opt/homebrew/lib/python3.10/site-packages/xgboost/core.py:617: FutureWarning: Pass `evals` as keyword args.\n",
      "  warnings.warn(msg, FutureWarning)\n",
      "\n"
     ]
    },
    {
     "name": "stdout",
     "output_type": "stream",
     "text": [
      "\r",
      " 34%|███████████████████                                     | 85/250 [2:12:02<10:36:15, 231.37s/trial, best loss: 0.4026482548746486]"
     ]
    },
    {
     "name": "stderr",
     "output_type": "stream",
     "text": [
      "/opt/homebrew/lib/python3.10/site-packages/xgboost/core.py:617: FutureWarning: Pass `evals` as keyword args.\n",
      "  warnings.warn(msg, FutureWarning)\n",
      "\n"
     ]
    },
    {
     "name": "stdout",
     "output_type": "stream",
     "text": [
      "\r",
      " 34%|███████████████████▌                                     | 86/250 [2:14:03<9:01:44, 198.20s/trial, best loss: 0.4026482548746486]"
     ]
    },
    {
     "name": "stderr",
     "output_type": "stream",
     "text": [
      "/opt/homebrew/lib/python3.10/site-packages/xgboost/core.py:617: FutureWarning: Pass `evals` as keyword args.\n",
      "  warnings.warn(msg, FutureWarning)\n",
      "\n"
     ]
    },
    {
     "name": "stdout",
     "output_type": "stream",
     "text": [
      "\r",
      " 35%|███████████████████▊                                     | 87/250 [2:16:43<8:27:21, 186.76s/trial, best loss: 0.4026482548746486]"
     ]
    },
    {
     "name": "stderr",
     "output_type": "stream",
     "text": [
      "/opt/homebrew/lib/python3.10/site-packages/xgboost/core.py:617: FutureWarning: Pass `evals` as keyword args.\n",
      "  warnings.warn(msg, FutureWarning)\n",
      "\n"
     ]
    },
    {
     "name": "stdout",
     "output_type": "stream",
     "text": [
      "\r",
      " 35%|████████████████████                                     | 88/250 [2:20:18<8:47:38, 195.42s/trial, best loss: 0.4026482548746486]"
     ]
    },
    {
     "name": "stderr",
     "output_type": "stream",
     "text": [
      "/opt/homebrew/lib/python3.10/site-packages/xgboost/core.py:617: FutureWarning: Pass `evals` as keyword args.\n",
      "  warnings.warn(msg, FutureWarning)\n",
      "\n"
     ]
    },
    {
     "name": "stdout",
     "output_type": "stream",
     "text": [
      "\r",
      " 36%|████████████████████▎                                    | 89/250 [2:23:57<9:03:22, 202.50s/trial, best loss: 0.4026482548746486]"
     ]
    },
    {
     "name": "stderr",
     "output_type": "stream",
     "text": [
      "/opt/homebrew/lib/python3.10/site-packages/xgboost/core.py:617: FutureWarning: Pass `evals` as keyword args.\n",
      "  warnings.warn(msg, FutureWarning)\n",
      "\n"
     ]
    },
    {
     "name": "stdout",
     "output_type": "stream",
     "text": [
      "\r",
      " 36%|████████████████████▌                                    | 90/250 [2:24:33<6:46:42, 152.51s/trial, best loss: 0.4026482548746486]"
     ]
    },
    {
     "name": "stderr",
     "output_type": "stream",
     "text": [
      "/opt/homebrew/lib/python3.10/site-packages/xgboost/core.py:617: FutureWarning: Pass `evals` as keyword args.\n",
      "  warnings.warn(msg, FutureWarning)\n",
      "\n"
     ]
    },
    {
     "name": "stdout",
     "output_type": "stream",
     "text": [
      "\r",
      " 36%|████████████████████▋                                    | 91/250 [2:29:57<9:00:08, 203.83s/trial, best loss: 0.4026482548746486]"
     ]
    },
    {
     "name": "stderr",
     "output_type": "stream",
     "text": [
      "/opt/homebrew/lib/python3.10/site-packages/xgboost/core.py:617: FutureWarning: Pass `evals` as keyword args.\n",
      "  warnings.warn(msg, FutureWarning)\n",
      "\n"
     ]
    },
    {
     "name": "stdout",
     "output_type": "stream",
     "text": [
      "\r",
      " 37%|████████████████████▉                                    | 92/250 [2:30:49<6:57:19, 158.48s/trial, best loss: 0.4026482548746486]"
     ]
    },
    {
     "name": "stderr",
     "output_type": "stream",
     "text": [
      "/opt/homebrew/lib/python3.10/site-packages/xgboost/core.py:617: FutureWarning: Pass `evals` as keyword args.\n",
      "  warnings.warn(msg, FutureWarning)\n",
      "\n"
     ]
    },
    {
     "name": "stdout",
     "output_type": "stream",
     "text": [
      "\r",
      " 37%|█████████████████████▏                                   | 93/250 [2:33:37<7:01:44, 161.17s/trial, best loss: 0.4026482548746486]"
     ]
    },
    {
     "name": "stderr",
     "output_type": "stream",
     "text": [
      "/opt/homebrew/lib/python3.10/site-packages/xgboost/core.py:617: FutureWarning: Pass `evals` as keyword args.\n",
      "  warnings.warn(msg, FutureWarning)\n",
      "\n"
     ]
    },
    {
     "name": "stdout",
     "output_type": "stream",
     "text": [
      "\r",
      " 38%|█████████████████████▍                                   | 94/250 [2:35:29<6:20:58, 146.53s/trial, best loss: 0.4026482548746486]"
     ]
    },
    {
     "name": "stderr",
     "output_type": "stream",
     "text": [
      "/opt/homebrew/lib/python3.10/site-packages/xgboost/core.py:617: FutureWarning: Pass `evals` as keyword args.\n",
      "  warnings.warn(msg, FutureWarning)\n",
      "\n"
     ]
    },
    {
     "name": "stdout",
     "output_type": "stream",
     "text": [
      "\r",
      " 38%|█████████████████████▋                                   | 95/250 [2:40:27<8:16:02, 192.02s/trial, best loss: 0.4026482548746486]"
     ]
    },
    {
     "name": "stderr",
     "output_type": "stream",
     "text": [
      "/opt/homebrew/lib/python3.10/site-packages/xgboost/core.py:617: FutureWarning: Pass `evals` as keyword args.\n",
      "  warnings.warn(msg, FutureWarning)\n",
      "\n"
     ]
    },
    {
     "name": "stdout",
     "output_type": "stream",
     "text": [
      "\r",
      " 38%|█████████████████████▉                                   | 96/250 [2:44:15<8:40:02, 202.61s/trial, best loss: 0.4026482548746486]"
     ]
    },
    {
     "name": "stderr",
     "output_type": "stream",
     "text": [
      "/opt/homebrew/lib/python3.10/site-packages/xgboost/core.py:617: FutureWarning: Pass `evals` as keyword args.\n",
      "  warnings.warn(msg, FutureWarning)\n",
      "\n"
     ]
    },
    {
     "name": "stdout",
     "output_type": "stream",
     "text": [
      "\r",
      " 39%|██████████████████████                                   | 97/250 [2:45:29<6:58:12, 164.00s/trial, best loss: 0.4026482548746486]"
     ]
    },
    {
     "name": "stderr",
     "output_type": "stream",
     "text": [
      "/opt/homebrew/lib/python3.10/site-packages/xgboost/core.py:617: FutureWarning: Pass `evals` as keyword args.\n",
      "  warnings.warn(msg, FutureWarning)\n",
      "\n"
     ]
    },
    {
     "name": "stdout",
     "output_type": "stream",
     "text": [
      "\r",
      " 39%|██████████████████████▎                                  | 98/250 [2:46:09<5:21:50, 127.04s/trial, best loss: 0.4026482548746486]"
     ]
    },
    {
     "name": "stderr",
     "output_type": "stream",
     "text": [
      "/opt/homebrew/lib/python3.10/site-packages/xgboost/core.py:617: FutureWarning: Pass `evals` as keyword args.\n",
      "  warnings.warn(msg, FutureWarning)\n",
      "\n"
     ]
    },
    {
     "name": "stdout",
     "output_type": "stream",
     "text": [
      "\r",
      " 40%|██████████████████████▌                                  | 99/250 [2:47:06<4:26:16, 105.80s/trial, best loss: 0.4026482548746486]"
     ]
    },
    {
     "name": "stderr",
     "output_type": "stream",
     "text": [
      "/opt/homebrew/lib/python3.10/site-packages/xgboost/core.py:617: FutureWarning: Pass `evals` as keyword args.\n",
      "  warnings.warn(msg, FutureWarning)\n",
      "\n"
     ]
    },
    {
     "name": "stdout",
     "output_type": "stream",
     "text": [
      "\r",
      " 40%|██████████████████████▍                                 | 100/250 [2:48:58<4:29:39, 107.86s/trial, best loss: 0.4026482548746486]"
     ]
    },
    {
     "name": "stderr",
     "output_type": "stream",
     "text": [
      "/opt/homebrew/lib/python3.10/site-packages/xgboost/core.py:617: FutureWarning: Pass `evals` as keyword args.\n",
      "  warnings.warn(msg, FutureWarning)\n",
      "\n"
     ]
    },
    {
     "name": "stdout",
     "output_type": "stream",
     "text": [
      "\r",
      " 40%|██████████████████████▌                                 | 101/250 [2:51:45<5:11:39, 125.50s/trial, best loss: 0.4026482548746486]"
     ]
    },
    {
     "name": "stderr",
     "output_type": "stream",
     "text": [
      "/opt/homebrew/lib/python3.10/site-packages/xgboost/core.py:617: FutureWarning: Pass `evals` as keyword args.\n",
      "  warnings.warn(msg, FutureWarning)\n",
      "\n"
     ]
    },
    {
     "name": "stdout",
     "output_type": "stream",
     "text": [
      "\r",
      " 41%|██████████████████████▊                                 | 102/250 [2:52:33<4:12:30, 102.37s/trial, best loss: 0.4026482548746486]"
     ]
    },
    {
     "name": "stderr",
     "output_type": "stream",
     "text": [
      "/opt/homebrew/lib/python3.10/site-packages/xgboost/core.py:617: FutureWarning: Pass `evals` as keyword args.\n",
      "  warnings.warn(msg, FutureWarning)\n",
      "\n"
     ]
    },
    {
     "name": "stdout",
     "output_type": "stream",
     "text": [
      "\r",
      " 41%|███████████████████████▍                                 | 103/250 [2:53:17<3:27:25, 84.66s/trial, best loss: 0.4026482548746486]"
     ]
    },
    {
     "name": "stderr",
     "output_type": "stream",
     "text": [
      "/opt/homebrew/lib/python3.10/site-packages/xgboost/core.py:617: FutureWarning: Pass `evals` as keyword args.\n",
      "  warnings.warn(msg, FutureWarning)\n",
      "\n"
     ]
    },
    {
     "name": "stdout",
     "output_type": "stream",
     "text": [
      "\r",
      " 42%|███████████████████████▋                                 | 104/250 [2:54:06<3:00:02, 73.99s/trial, best loss: 0.4026482548746486]"
     ]
    },
    {
     "name": "stderr",
     "output_type": "stream",
     "text": [
      "/opt/homebrew/lib/python3.10/site-packages/xgboost/core.py:617: FutureWarning: Pass `evals` as keyword args.\n",
      "  warnings.warn(msg, FutureWarning)\n",
      "\n"
     ]
    },
    {
     "name": "stdout",
     "output_type": "stream",
     "text": [
      "\r",
      " 42%|███████████████████████▌                                | 105/250 [2:58:09<5:01:30, 124.76s/trial, best loss: 0.4026482548746486]"
     ]
    },
    {
     "name": "stderr",
     "output_type": "stream",
     "text": [
      "/opt/homebrew/lib/python3.10/site-packages/xgboost/core.py:617: FutureWarning: Pass `evals` as keyword args.\n",
      "  warnings.warn(msg, FutureWarning)\n",
      "\n"
     ]
    },
    {
     "name": "stdout",
     "output_type": "stream",
     "text": [
      "\r",
      " 42%|███████████████████████▋                                | 106/250 [3:01:55<6:12:32, 155.23s/trial, best loss: 0.4026482548746486]"
     ]
    },
    {
     "name": "stderr",
     "output_type": "stream",
     "text": [
      "/opt/homebrew/lib/python3.10/site-packages/xgboost/core.py:617: FutureWarning: Pass `evals` as keyword args.\n",
      "  warnings.warn(msg, FutureWarning)\n",
      "\n"
     ]
    },
    {
     "name": "stdout",
     "output_type": "stream",
     "text": [
      "\r",
      " 43%|███████████████████████▉                                | 107/250 [3:03:15<5:15:40, 132.45s/trial, best loss: 0.4026482548746486]"
     ]
    },
    {
     "name": "stderr",
     "output_type": "stream",
     "text": [
      "/opt/homebrew/lib/python3.10/site-packages/xgboost/core.py:617: FutureWarning: Pass `evals` as keyword args.\n",
      "  warnings.warn(msg, FutureWarning)\n",
      "\n"
     ]
    },
    {
     "name": "stdout",
     "output_type": "stream",
     "text": [
      "\r",
      " 43%|████████████████████████▏                               | 108/250 [3:05:49<5:28:48, 138.94s/trial, best loss: 0.4026482548746486]"
     ]
    },
    {
     "name": "stderr",
     "output_type": "stream",
     "text": [
      "/opt/homebrew/lib/python3.10/site-packages/xgboost/core.py:617: FutureWarning: Pass `evals` as keyword args.\n",
      "  warnings.warn(msg, FutureWarning)\n",
      "\n"
     ]
    },
    {
     "name": "stdout",
     "output_type": "stream",
     "text": [
      "\r",
      " 44%|████████████████████████▍                               | 109/250 [3:10:47<7:18:42, 186.69s/trial, best loss: 0.4026482548746486]"
     ]
    },
    {
     "name": "stderr",
     "output_type": "stream",
     "text": [
      "/opt/homebrew/lib/python3.10/site-packages/xgboost/core.py:617: FutureWarning: Pass `evals` as keyword args.\n",
      "  warnings.warn(msg, FutureWarning)\n",
      "\n"
     ]
    },
    {
     "name": "stdout",
     "output_type": "stream",
     "text": [
      "\r",
      " 44%|████████████████████████▋                               | 110/250 [3:12:40<6:23:54, 164.53s/trial, best loss: 0.4026482548746486]"
     ]
    },
    {
     "name": "stderr",
     "output_type": "stream",
     "text": [
      "/opt/homebrew/lib/python3.10/site-packages/xgboost/core.py:617: FutureWarning: Pass `evals` as keyword args.\n",
      "  warnings.warn(msg, FutureWarning)\n",
      "\n"
     ]
    },
    {
     "name": "stdout",
     "output_type": "stream",
     "text": [
      "\r",
      " 44%|████████████████████████▊                               | 111/250 [3:17:30<7:48:17, 202.14s/trial, best loss: 0.4026482548746486]"
     ]
    },
    {
     "name": "stderr",
     "output_type": "stream",
     "text": [
      "/opt/homebrew/lib/python3.10/site-packages/xgboost/core.py:617: FutureWarning: Pass `evals` as keyword args.\n",
      "  warnings.warn(msg, FutureWarning)\n",
      "\n"
     ]
    },
    {
     "name": "stdout",
     "output_type": "stream",
     "text": [
      "\r",
      " 45%|█████████████████████████                               | 112/250 [3:18:49<6:20:06, 165.26s/trial, best loss: 0.4026482548746486]"
     ]
    },
    {
     "name": "stderr",
     "output_type": "stream",
     "text": [
      "/opt/homebrew/lib/python3.10/site-packages/xgboost/core.py:617: FutureWarning: Pass `evals` as keyword args.\n",
      "  warnings.warn(msg, FutureWarning)\n",
      "\n"
     ]
    },
    {
     "name": "stdout",
     "output_type": "stream",
     "text": [
      "\r",
      " 45%|█████████████████████████▎                              | 113/250 [3:22:32<6:57:18, 182.76s/trial, best loss: 0.4026482548746486]"
     ]
    },
    {
     "name": "stderr",
     "output_type": "stream",
     "text": [
      "/opt/homebrew/lib/python3.10/site-packages/xgboost/core.py:617: FutureWarning: Pass `evals` as keyword args.\n",
      "  warnings.warn(msg, FutureWarning)\n",
      "\n"
     ]
    },
    {
     "name": "stdout",
     "output_type": "stream",
     "text": [
      "\r",
      " 46%|█████████████████████████▌                              | 114/250 [3:24:48<6:22:27, 168.74s/trial, best loss: 0.4026482548746486]"
     ]
    },
    {
     "name": "stderr",
     "output_type": "stream",
     "text": [
      "/opt/homebrew/lib/python3.10/site-packages/xgboost/core.py:617: FutureWarning: Pass `evals` as keyword args.\n",
      "  warnings.warn(msg, FutureWarning)\n",
      "\n"
     ]
    },
    {
     "name": "stdout",
     "output_type": "stream",
     "text": [
      "\r",
      " 46%|█████████████████████████▊                              | 115/250 [3:25:40<5:00:34, 133.59s/trial, best loss: 0.4026482548746486]"
     ]
    },
    {
     "name": "stderr",
     "output_type": "stream",
     "text": [
      "/opt/homebrew/lib/python3.10/site-packages/xgboost/core.py:617: FutureWarning: Pass `evals` as keyword args.\n",
      "  warnings.warn(msg, FutureWarning)\n",
      "\n"
     ]
    },
    {
     "name": "stdout",
     "output_type": "stream",
     "text": [
      "\r",
      " 46%|█████████████████████████▉                              | 116/250 [3:26:44<4:11:24, 112.57s/trial, best loss: 0.4026482548746486]"
     ]
    },
    {
     "name": "stderr",
     "output_type": "stream",
     "text": [
      "/opt/homebrew/lib/python3.10/site-packages/xgboost/core.py:617: FutureWarning: Pass `evals` as keyword args.\n",
      "  warnings.warn(msg, FutureWarning)\n",
      "\n"
     ]
    },
    {
     "name": "stdout",
     "output_type": "stream",
     "text": [
      "\r",
      " 47%|██████████████████████████▏                             | 117/250 [3:28:01<3:45:54, 101.91s/trial, best loss: 0.4026482548746486]"
     ]
    },
    {
     "name": "stderr",
     "output_type": "stream",
     "text": [
      "/opt/homebrew/lib/python3.10/site-packages/xgboost/core.py:617: FutureWarning: Pass `evals` as keyword args.\n",
      "  warnings.warn(msg, FutureWarning)\n",
      "\n"
     ]
    },
    {
     "name": "stdout",
     "output_type": "stream",
     "text": [
      "\r",
      " 47%|██████████████████████████▍                             | 118/250 [3:31:45<5:05:00, 138.64s/trial, best loss: 0.4024269721780537]"
     ]
    },
    {
     "name": "stderr",
     "output_type": "stream",
     "text": [
      "/opt/homebrew/lib/python3.10/site-packages/xgboost/core.py:617: FutureWarning: Pass `evals` as keyword args.\n",
      "  warnings.warn(msg, FutureWarning)\n",
      "\n"
     ]
    },
    {
     "name": "stdout",
     "output_type": "stream",
     "text": [
      "\r",
      " 48%|██████████████████████████▋                             | 119/250 [3:33:46<4:50:58, 133.27s/trial, best loss: 0.4024269721780537]"
     ]
    },
    {
     "name": "stderr",
     "output_type": "stream",
     "text": [
      "/opt/homebrew/lib/python3.10/site-packages/xgboost/core.py:617: FutureWarning: Pass `evals` as keyword args.\n",
      "  warnings.warn(msg, FutureWarning)\n",
      "\n"
     ]
    },
    {
     "name": "stdout",
     "output_type": "stream",
     "text": [
      "\r",
      " 48%|██████████████████████████▉                             | 120/250 [3:36:24<5:05:15, 140.89s/trial, best loss: 0.4024269721780537]"
     ]
    },
    {
     "name": "stderr",
     "output_type": "stream",
     "text": [
      "/opt/homebrew/lib/python3.10/site-packages/xgboost/core.py:617: FutureWarning: Pass `evals` as keyword args.\n",
      "  warnings.warn(msg, FutureWarning)\n",
      "\n"
     ]
    },
    {
     "name": "stdout",
     "output_type": "stream",
     "text": [
      "\r",
      " 48%|███████████████████████████                             | 121/250 [3:38:14<4:42:36, 131.44s/trial, best loss: 0.4024269721780537]"
     ]
    },
    {
     "name": "stderr",
     "output_type": "stream",
     "text": [
      "/opt/homebrew/lib/python3.10/site-packages/xgboost/core.py:617: FutureWarning: Pass `evals` as keyword args.\n",
      "  warnings.warn(msg, FutureWarning)\n",
      "\n"
     ]
    },
    {
     "name": "stdout",
     "output_type": "stream",
     "text": [
      "\r",
      " 49%|███████████████████████████▎                            | 122/250 [3:38:52<3:40:54, 103.55s/trial, best loss: 0.4024269721780537]"
     ]
    },
    {
     "name": "stderr",
     "output_type": "stream",
     "text": [
      "/opt/homebrew/lib/python3.10/site-packages/xgboost/core.py:617: FutureWarning: Pass `evals` as keyword args.\n",
      "  warnings.warn(msg, FutureWarning)\n",
      "\n"
     ]
    },
    {
     "name": "stdout",
     "output_type": "stream",
     "text": [
      "\r",
      " 49%|████████████████████████████                             | 123/250 [3:39:38<3:02:25, 86.18s/trial, best loss: 0.4024269721780537]"
     ]
    },
    {
     "name": "stderr",
     "output_type": "stream",
     "text": [
      "/opt/homebrew/lib/python3.10/site-packages/xgboost/core.py:617: FutureWarning: Pass `evals` as keyword args.\n",
      "  warnings.warn(msg, FutureWarning)\n",
      "\n"
     ]
    },
    {
     "name": "stdout",
     "output_type": "stream",
     "text": [
      "\r",
      " 50%|███████████████████████████▊                            | 124/250 [3:43:30<4:32:56, 129.97s/trial, best loss: 0.4024269721780537]"
     ]
    },
    {
     "name": "stderr",
     "output_type": "stream",
     "text": [
      "/opt/homebrew/lib/python3.10/site-packages/xgboost/core.py:617: FutureWarning: Pass `evals` as keyword args.\n",
      "  warnings.warn(msg, FutureWarning)\n",
      "\n"
     ]
    },
    {
     "name": "stdout",
     "output_type": "stream",
     "text": [
      "\r",
      " 50%|████████████████████████████                            | 125/250 [3:48:34<6:19:43, 182.27s/trial, best loss: 0.4024269721780537]"
     ]
    },
    {
     "name": "stderr",
     "output_type": "stream",
     "text": [
      "/opt/homebrew/lib/python3.10/site-packages/xgboost/core.py:617: FutureWarning: Pass `evals` as keyword args.\n",
      "  warnings.warn(msg, FutureWarning)\n",
      "\n"
     ]
    },
    {
     "name": "stdout",
     "output_type": "stream",
     "text": [
      "\r",
      " 50%|████████████████████████████▏                           | 126/250 [3:53:18<7:19:44, 212.78s/trial, best loss: 0.4024269721780537]"
     ]
    },
    {
     "name": "stderr",
     "output_type": "stream",
     "text": [
      "/opt/homebrew/lib/python3.10/site-packages/xgboost/core.py:617: FutureWarning: Pass `evals` as keyword args.\n",
      "  warnings.warn(msg, FutureWarning)\n",
      "\n"
     ]
    },
    {
     "name": "stdout",
     "output_type": "stream",
     "text": [
      "\r",
      " 51%|████████████████████████████▍                           | 127/250 [3:58:14<8:07:16, 237.69s/trial, best loss: 0.4024269721780537]"
     ]
    },
    {
     "name": "stderr",
     "output_type": "stream",
     "text": [
      "/opt/homebrew/lib/python3.10/site-packages/xgboost/core.py:617: FutureWarning: Pass `evals` as keyword args.\n",
      "  warnings.warn(msg, FutureWarning)\n",
      "\n"
     ]
    },
    {
     "name": "stdout",
     "output_type": "stream",
     "text": [
      "\r",
      " 51%|████████████████████████████▋                           | 128/250 [4:00:58<7:18:15, 215.54s/trial, best loss: 0.4024269721780537]"
     ]
    },
    {
     "name": "stderr",
     "output_type": "stream",
     "text": [
      "/opt/homebrew/lib/python3.10/site-packages/xgboost/core.py:617: FutureWarning: Pass `evals` as keyword args.\n",
      "  warnings.warn(msg, FutureWarning)\n",
      "\n"
     ]
    },
    {
     "name": "stdout",
     "output_type": "stream",
     "text": [
      "\r",
      " 52%|████████████████████████████▉                           | 129/250 [4:02:19<5:53:25, 175.25s/trial, best loss: 0.4024269721780537]"
     ]
    },
    {
     "name": "stderr",
     "output_type": "stream",
     "text": [
      "/opt/homebrew/lib/python3.10/site-packages/xgboost/core.py:617: FutureWarning: Pass `evals` as keyword args.\n",
      "  warnings.warn(msg, FutureWarning)\n",
      "\n"
     ]
    },
    {
     "name": "stdout",
     "output_type": "stream",
     "text": [
      "\r",
      " 52%|█████████████████████████████                           | 130/250 [4:07:38<7:16:39, 218.33s/trial, best loss: 0.4024269721780537]"
     ]
    },
    {
     "name": "stderr",
     "output_type": "stream",
     "text": [
      "/opt/homebrew/lib/python3.10/site-packages/xgboost/core.py:617: FutureWarning: Pass `evals` as keyword args.\n",
      "  warnings.warn(msg, FutureWarning)\n",
      "\n"
     ]
    },
    {
     "name": "stdout",
     "output_type": "stream",
     "text": [
      "\r",
      " 52%|█████████████████████████████▎                          | 131/250 [4:09:48<6:20:36, 191.90s/trial, best loss: 0.4024269721780537]"
     ]
    },
    {
     "name": "stderr",
     "output_type": "stream",
     "text": [
      "/opt/homebrew/lib/python3.10/site-packages/xgboost/core.py:617: FutureWarning: Pass `evals` as keyword args.\n",
      "  warnings.warn(msg, FutureWarning)\n",
      "\n"
     ]
    },
    {
     "name": "stdout",
     "output_type": "stream",
     "text": [
      "\r",
      " 53%|█████████████████████████████▌                          | 132/250 [4:15:04<7:30:35, 229.11s/trial, best loss: 0.4024269721780537]"
     ]
    },
    {
     "name": "stderr",
     "output_type": "stream",
     "text": [
      "/opt/homebrew/lib/python3.10/site-packages/xgboost/core.py:617: FutureWarning: Pass `evals` as keyword args.\n",
      "  warnings.warn(msg, FutureWarning)\n",
      "\n"
     ]
    },
    {
     "name": "stdout",
     "output_type": "stream",
     "text": [
      "\r",
      " 53%|█████████████████████████████▊                          | 133/250 [4:15:20<5:21:58, 165.11s/trial, best loss: 0.4024269721780537]"
     ]
    },
    {
     "name": "stderr",
     "output_type": "stream",
     "text": [
      "/opt/homebrew/lib/python3.10/site-packages/xgboost/core.py:617: FutureWarning: Pass `evals` as keyword args.\n",
      "  warnings.warn(msg, FutureWarning)\n",
      "\n"
     ]
    },
    {
     "name": "stdout",
     "output_type": "stream",
     "text": [
      "\r",
      " 54%|██████████████████████████████                          | 134/250 [4:19:20<6:02:57, 187.74s/trial, best loss: 0.4024269721780537]"
     ]
    },
    {
     "name": "stderr",
     "output_type": "stream",
     "text": [
      "/opt/homebrew/lib/python3.10/site-packages/xgboost/core.py:617: FutureWarning: Pass `evals` as keyword args.\n",
      "  warnings.warn(msg, FutureWarning)\n",
      "\n"
     ]
    },
    {
     "name": "stdout",
     "output_type": "stream",
     "text": [
      "\r",
      " 54%|██████████████████████████████▏                         | 135/250 [4:20:57<5:07:32, 160.46s/trial, best loss: 0.4024269721780537]"
     ]
    },
    {
     "name": "stderr",
     "output_type": "stream",
     "text": [
      "/opt/homebrew/lib/python3.10/site-packages/xgboost/core.py:617: FutureWarning: Pass `evals` as keyword args.\n",
      "  warnings.warn(msg, FutureWarning)\n",
      "\n"
     ]
    },
    {
     "name": "stdout",
     "output_type": "stream",
     "text": [
      "\r",
      " 54%|██████████████████████████████▍                         | 136/250 [4:22:08<4:13:39, 133.50s/trial, best loss: 0.4024269721780537]"
     ]
    },
    {
     "name": "stderr",
     "output_type": "stream",
     "text": [
      "/opt/homebrew/lib/python3.10/site-packages/xgboost/core.py:617: FutureWarning: Pass `evals` as keyword args.\n",
      "  warnings.warn(msg, FutureWarning)\n",
      "\n"
     ]
    },
    {
     "name": "stdout",
     "output_type": "stream",
     "text": [
      "\r",
      " 55%|██████████████████████████████▋                         | 137/250 [4:25:55<5:04:23, 161.62s/trial, best loss: 0.4015902192474974]"
     ]
    },
    {
     "name": "stderr",
     "output_type": "stream",
     "text": [
      "/opt/homebrew/lib/python3.10/site-packages/xgboost/core.py:617: FutureWarning: Pass `evals` as keyword args.\n",
      "  warnings.warn(msg, FutureWarning)\n",
      "\n"
     ]
    },
    {
     "name": "stdout",
     "output_type": "stream",
     "text": [
      "\r",
      " 55%|██████████████████████████████▉                         | 138/250 [4:27:29<4:23:45, 141.30s/trial, best loss: 0.4015902192474974]"
     ]
    },
    {
     "name": "stderr",
     "output_type": "stream",
     "text": [
      "/opt/homebrew/lib/python3.10/site-packages/xgboost/core.py:617: FutureWarning: Pass `evals` as keyword args.\n",
      "  warnings.warn(msg, FutureWarning)\n",
      "\n"
     ]
    },
    {
     "name": "stdout",
     "output_type": "stream",
     "text": [
      "\r",
      " 56%|███████████████████████████████▏                        | 139/250 [4:28:45<3:44:53, 121.57s/trial, best loss: 0.4015902192474974]"
     ]
    },
    {
     "name": "stderr",
     "output_type": "stream",
     "text": [
      "/opt/homebrew/lib/python3.10/site-packages/xgboost/core.py:617: FutureWarning: Pass `evals` as keyword args.\n",
      "  warnings.warn(msg, FutureWarning)\n",
      "\n"
     ]
    },
    {
     "name": "stdout",
     "output_type": "stream",
     "text": [
      "\r",
      " 56%|███████████████████████████████▎                        | 140/250 [4:31:48<4:16:50, 140.09s/trial, best loss: 0.4015902192474974]"
     ]
    },
    {
     "name": "stderr",
     "output_type": "stream",
     "text": [
      "/opt/homebrew/lib/python3.10/site-packages/xgboost/core.py:617: FutureWarning: Pass `evals` as keyword args.\n",
      "  warnings.warn(msg, FutureWarning)\n",
      "\n"
     ]
    },
    {
     "name": "stdout",
     "output_type": "stream",
     "text": [
      "\r",
      " 56%|███████████████████████████████▌                        | 141/250 [4:34:31<4:27:14, 147.11s/trial, best loss: 0.4015902192474974]"
     ]
    },
    {
     "name": "stderr",
     "output_type": "stream",
     "text": [
      "/opt/homebrew/lib/python3.10/site-packages/xgboost/core.py:617: FutureWarning: Pass `evals` as keyword args.\n",
      "  warnings.warn(msg, FutureWarning)\n",
      "\n"
     ]
    },
    {
     "name": "stdout",
     "output_type": "stream",
     "text": [
      "\r",
      " 57%|███████████████████████████████▊                        | 142/250 [4:36:08<3:57:32, 131.96s/trial, best loss: 0.4015902192474974]"
     ]
    },
    {
     "name": "stderr",
     "output_type": "stream",
     "text": [
      "/opt/homebrew/lib/python3.10/site-packages/xgboost/core.py:617: FutureWarning: Pass `evals` as keyword args.\n",
      "  warnings.warn(msg, FutureWarning)\n",
      "\n"
     ]
    },
    {
     "name": "stdout",
     "output_type": "stream",
     "text": [
      "\r",
      " 57%|████████████████████████████████                        | 143/250 [4:36:53<3:09:01, 105.99s/trial, best loss: 0.4015902192474974]"
     ]
    },
    {
     "name": "stderr",
     "output_type": "stream",
     "text": [
      "/opt/homebrew/lib/python3.10/site-packages/xgboost/core.py:617: FutureWarning: Pass `evals` as keyword args.\n",
      "  warnings.warn(msg, FutureWarning)\n",
      "\n"
     ]
    },
    {
     "name": "stdout",
     "output_type": "stream",
     "text": [
      "\r",
      " 58%|████████████████████████████████▎                       | 144/250 [4:40:41<4:11:36, 142.42s/trial, best loss: 0.4015902192474974]"
     ]
    },
    {
     "name": "stderr",
     "output_type": "stream",
     "text": [
      "/opt/homebrew/lib/python3.10/site-packages/xgboost/core.py:617: FutureWarning: Pass `evals` as keyword args.\n",
      "  warnings.warn(msg, FutureWarning)\n",
      "\n"
     ]
    },
    {
     "name": "stdout",
     "output_type": "stream",
     "text": [
      "\r",
      " 58%|████████████████████████████████▍                       | 145/250 [4:41:35<3:22:57, 115.97s/trial, best loss: 0.4015902192474974]"
     ]
    },
    {
     "name": "stderr",
     "output_type": "stream",
     "text": [
      "/opt/homebrew/lib/python3.10/site-packages/xgboost/core.py:617: FutureWarning: Pass `evals` as keyword args.\n",
      "  warnings.warn(msg, FutureWarning)\n",
      "\n"
     ]
    },
    {
     "name": "stdout",
     "output_type": "stream",
     "text": [
      "\r",
      " 58%|████████████████████████████████▋                       | 146/250 [4:46:58<5:08:47, 178.15s/trial, best loss: 0.4015902192474974]"
     ]
    },
    {
     "name": "stderr",
     "output_type": "stream",
     "text": [
      "/opt/homebrew/lib/python3.10/site-packages/xgboost/core.py:617: FutureWarning: Pass `evals` as keyword args.\n",
      "  warnings.warn(msg, FutureWarning)\n",
      "\n"
     ]
    },
    {
     "name": "stdout",
     "output_type": "stream",
     "text": [
      "\r",
      " 59%|████████████████████████████████▉                       | 147/250 [4:49:25<4:49:51, 168.85s/trial, best loss: 0.4015902192474974]"
     ]
    },
    {
     "name": "stderr",
     "output_type": "stream",
     "text": [
      "/opt/homebrew/lib/python3.10/site-packages/xgboost/core.py:617: FutureWarning: Pass `evals` as keyword args.\n",
      "  warnings.warn(msg, FutureWarning)\n",
      "\n"
     ]
    },
    {
     "name": "stdout",
     "output_type": "stream",
     "text": [
      "\r",
      " 59%|█████████████████████████████████▏                      | 148/250 [4:51:54<4:36:45, 162.80s/trial, best loss: 0.4015902192474974]"
     ]
    },
    {
     "name": "stderr",
     "output_type": "stream",
     "text": [
      "/opt/homebrew/lib/python3.10/site-packages/xgboost/core.py:617: FutureWarning: Pass `evals` as keyword args.\n",
      "  warnings.warn(msg, FutureWarning)\n",
      "\n"
     ]
    },
    {
     "name": "stdout",
     "output_type": "stream",
     "text": [
      "\r",
      " 60%|█████████████████████████████████▍                      | 149/250 [4:53:24<3:57:07, 140.86s/trial, best loss: 0.4015902192474974]"
     ]
    },
    {
     "name": "stderr",
     "output_type": "stream",
     "text": [
      "/opt/homebrew/lib/python3.10/site-packages/xgboost/core.py:617: FutureWarning: Pass `evals` as keyword args.\n",
      "  warnings.warn(msg, FutureWarning)\n",
      "\n"
     ]
    },
    {
     "name": "stdout",
     "output_type": "stream",
     "text": [
      "\r",
      " 60%|█████████████████████████████████▌                      | 150/250 [4:57:30<4:47:28, 172.49s/trial, best loss: 0.4015902192474974]"
     ]
    },
    {
     "name": "stderr",
     "output_type": "stream",
     "text": [
      "/opt/homebrew/lib/python3.10/site-packages/xgboost/core.py:617: FutureWarning: Pass `evals` as keyword args.\n",
      "  warnings.warn(msg, FutureWarning)\n",
      "\n"
     ]
    },
    {
     "name": "stdout",
     "output_type": "stream",
     "text": [
      "\r",
      " 60%|█████████████████████████████████▊                      | 151/250 [5:00:06<4:36:17, 167.45s/trial, best loss: 0.4015902192474974]"
     ]
    },
    {
     "name": "stderr",
     "output_type": "stream",
     "text": [
      "/opt/homebrew/lib/python3.10/site-packages/xgboost/core.py:617: FutureWarning: Pass `evals` as keyword args.\n",
      "  warnings.warn(msg, FutureWarning)\n",
      "\n"
     ]
    },
    {
     "name": "stdout",
     "output_type": "stream",
     "text": [
      "\r",
      " 61%|██████████████████████████████████                      | 152/250 [5:01:31<3:53:25, 142.91s/trial, best loss: 0.4015902192474974]"
     ]
    },
    {
     "name": "stderr",
     "output_type": "stream",
     "text": [
      "/opt/homebrew/lib/python3.10/site-packages/xgboost/core.py:617: FutureWarning: Pass `evals` as keyword args.\n",
      "  warnings.warn(msg, FutureWarning)\n",
      "\n"
     ]
    },
    {
     "name": "stdout",
     "output_type": "stream",
     "text": [
      "\r",
      " 61%|██████████████████████████████████▎                     | 153/250 [5:05:44<4:44:00, 175.68s/trial, best loss: 0.4015902192474974]"
     ]
    },
    {
     "name": "stderr",
     "output_type": "stream",
     "text": [
      "/opt/homebrew/lib/python3.10/site-packages/xgboost/core.py:617: FutureWarning: Pass `evals` as keyword args.\n",
      "  warnings.warn(msg, FutureWarning)\n",
      "\n"
     ]
    },
    {
     "name": "stdout",
     "output_type": "stream",
     "text": [
      "\r",
      " 62%|██████████████████████████████████▍                     | 154/250 [5:09:50<5:15:02, 196.91s/trial, best loss: 0.4015902192474974]"
     ]
    },
    {
     "name": "stderr",
     "output_type": "stream",
     "text": [
      "/opt/homebrew/lib/python3.10/site-packages/xgboost/core.py:617: FutureWarning: Pass `evals` as keyword args.\n",
      "  warnings.warn(msg, FutureWarning)\n",
      "\n"
     ]
    },
    {
     "name": "stdout",
     "output_type": "stream",
     "text": [
      "\r",
      " 62%|██████████████████████████████████▋                     | 155/250 [5:12:51<5:04:27, 192.29s/trial, best loss: 0.4015902192474974]"
     ]
    },
    {
     "name": "stderr",
     "output_type": "stream",
     "text": [
      "/opt/homebrew/lib/python3.10/site-packages/xgboost/core.py:617: FutureWarning: Pass `evals` as keyword args.\n",
      "  warnings.warn(msg, FutureWarning)\n",
      "\n"
     ]
    },
    {
     "name": "stdout",
     "output_type": "stream",
     "text": [
      "\r",
      " 62%|██████████████████████████████████▉                     | 156/250 [5:16:50<5:23:05, 206.23s/trial, best loss: 0.4015902192474974]"
     ]
    },
    {
     "name": "stderr",
     "output_type": "stream",
     "text": [
      "/opt/homebrew/lib/python3.10/site-packages/xgboost/core.py:617: FutureWarning: Pass `evals` as keyword args.\n",
      "  warnings.warn(msg, FutureWarning)\n",
      "\n"
     ]
    },
    {
     "name": "stdout",
     "output_type": "stream",
     "text": [
      "\r",
      " 63%|███████████████████████████████████▏                    | 157/250 [5:17:25<3:59:51, 154.74s/trial, best loss: 0.4015902192474974]"
     ]
    },
    {
     "name": "stderr",
     "output_type": "stream",
     "text": [
      "/opt/homebrew/lib/python3.10/site-packages/xgboost/core.py:617: FutureWarning: Pass `evals` as keyword args.\n",
      "  warnings.warn(msg, FutureWarning)\n",
      "\n"
     ]
    },
    {
     "name": "stdout",
     "output_type": "stream",
     "text": [
      "\r",
      " 63%|███████████████████████████████████▍                    | 158/250 [5:18:36<3:18:57, 129.75s/trial, best loss: 0.4015902192474974]"
     ]
    },
    {
     "name": "stderr",
     "output_type": "stream",
     "text": [
      "/opt/homebrew/lib/python3.10/site-packages/xgboost/core.py:617: FutureWarning: Pass `evals` as keyword args.\n",
      "  warnings.warn(msg, FutureWarning)\n",
      "\n"
     ]
    },
    {
     "name": "stdout",
     "output_type": "stream",
     "text": [
      "\r",
      " 64%|███████████████████████████████████▌                    | 159/250 [5:21:08<3:26:49, 136.37s/trial, best loss: 0.4015902192474974]"
     ]
    },
    {
     "name": "stderr",
     "output_type": "stream",
     "text": [
      "/opt/homebrew/lib/python3.10/site-packages/xgboost/core.py:617: FutureWarning: Pass `evals` as keyword args.\n",
      "  warnings.warn(msg, FutureWarning)\n",
      "\n"
     ]
    },
    {
     "name": "stdout",
     "output_type": "stream",
     "text": [
      "\r",
      " 64%|███████████████████████████████████▊                    | 160/250 [5:26:17<4:42:10, 188.12s/trial, best loss: 0.4015902192474974]"
     ]
    },
    {
     "name": "stderr",
     "output_type": "stream",
     "text": [
      "/opt/homebrew/lib/python3.10/site-packages/xgboost/core.py:617: FutureWarning: Pass `evals` as keyword args.\n",
      "  warnings.warn(msg, FutureWarning)\n",
      "\n"
     ]
    },
    {
     "name": "stdout",
     "output_type": "stream",
     "text": [
      "\r",
      " 64%|████████████████████████████████████                    | 161/250 [5:26:47<3:28:54, 140.84s/trial, best loss: 0.4015902192474974]"
     ]
    },
    {
     "name": "stderr",
     "output_type": "stream",
     "text": [
      "/opt/homebrew/lib/python3.10/site-packages/xgboost/core.py:617: FutureWarning: Pass `evals` as keyword args.\n",
      "  warnings.warn(msg, FutureWarning)\n",
      "\n"
     ]
    },
    {
     "name": "stdout",
     "output_type": "stream",
     "text": [
      "\r",
      " 65%|████████████████████████████████████▎                   | 162/250 [5:30:57<4:14:26, 173.48s/trial, best loss: 0.4015902192474974]"
     ]
    },
    {
     "name": "stderr",
     "output_type": "stream",
     "text": [
      "/opt/homebrew/lib/python3.10/site-packages/xgboost/core.py:617: FutureWarning: Pass `evals` as keyword args.\n",
      "  warnings.warn(msg, FutureWarning)\n",
      "\n"
     ]
    },
    {
     "name": "stdout",
     "output_type": "stream",
     "text": [
      "\r",
      " 65%|████████████████████████████████████▌                   | 163/250 [5:33:55<4:13:31, 174.85s/trial, best loss: 0.4015902192474974]"
     ]
    },
    {
     "name": "stderr",
     "output_type": "stream",
     "text": [
      "/opt/homebrew/lib/python3.10/site-packages/xgboost/core.py:617: FutureWarning: Pass `evals` as keyword args.\n",
      "  warnings.warn(msg, FutureWarning)\n",
      "\n"
     ]
    },
    {
     "name": "stdout",
     "output_type": "stream",
     "text": [
      "\r",
      " 66%|████████████████████████████████████▋                   | 164/250 [5:35:18<3:30:56, 147.17s/trial, best loss: 0.4015902192474974]"
     ]
    },
    {
     "name": "stderr",
     "output_type": "stream",
     "text": [
      "/opt/homebrew/lib/python3.10/site-packages/xgboost/core.py:617: FutureWarning: Pass `evals` as keyword args.\n",
      "  warnings.warn(msg, FutureWarning)\n",
      "\n"
     ]
    },
    {
     "name": "stdout",
     "output_type": "stream",
     "text": [
      "\r",
      " 66%|████████████████████████████████████▉                   | 165/250 [5:38:50<3:55:58, 166.57s/trial, best loss: 0.4015902192474974]"
     ]
    },
    {
     "name": "stderr",
     "output_type": "stream",
     "text": [
      "/opt/homebrew/lib/python3.10/site-packages/xgboost/core.py:617: FutureWarning: Pass `evals` as keyword args.\n",
      "  warnings.warn(msg, FutureWarning)\n",
      "\n"
     ]
    },
    {
     "name": "stdout",
     "output_type": "stream",
     "text": [
      "\r",
      " 66%|█████████████████████████████████████▏                  | 166/250 [5:42:47<4:22:52, 187.77s/trial, best loss: 0.4015902192474974]"
     ]
    },
    {
     "name": "stderr",
     "output_type": "stream",
     "text": [
      "/opt/homebrew/lib/python3.10/site-packages/xgboost/core.py:617: FutureWarning: Pass `evals` as keyword args.\n",
      "  warnings.warn(msg, FutureWarning)\n",
      "\n"
     ]
    },
    {
     "name": "stdout",
     "output_type": "stream",
     "text": [
      "\r",
      " 67%|█████████████████████████████████████▍                  | 167/250 [5:45:46<4:16:15, 185.25s/trial, best loss: 0.4015902192474974]"
     ]
    },
    {
     "name": "stderr",
     "output_type": "stream",
     "text": [
      "/opt/homebrew/lib/python3.10/site-packages/xgboost/core.py:617: FutureWarning: Pass `evals` as keyword args.\n",
      "  warnings.warn(msg, FutureWarning)\n",
      "\n"
     ]
    },
    {
     "name": "stdout",
     "output_type": "stream",
     "text": [
      "\r",
      " 67%|█████████████████████████████████████▋                  | 168/250 [5:47:25<3:37:37, 159.24s/trial, best loss: 0.4015902192474974]"
     ]
    },
    {
     "name": "stderr",
     "output_type": "stream",
     "text": [
      "/opt/homebrew/lib/python3.10/site-packages/xgboost/core.py:617: FutureWarning: Pass `evals` as keyword args.\n",
      "  warnings.warn(msg, FutureWarning)\n",
      "\n"
     ]
    },
    {
     "name": "stdout",
     "output_type": "stream",
     "text": [
      "\r",
      " 68%|█████████████████████████████████████▊                  | 169/250 [5:48:27<2:55:50, 130.25s/trial, best loss: 0.4015902192474974]"
     ]
    },
    {
     "name": "stderr",
     "output_type": "stream",
     "text": [
      "/opt/homebrew/lib/python3.10/site-packages/xgboost/core.py:617: FutureWarning: Pass `evals` as keyword args.\n",
      "  warnings.warn(msg, FutureWarning)\n",
      "\n"
     ]
    },
    {
     "name": "stdout",
     "output_type": "stream",
     "text": [
      "\r",
      " 68%|██████████████████████████████████████                  | 170/250 [5:52:23<3:35:51, 161.89s/trial, best loss: 0.4015902192474974]"
     ]
    },
    {
     "name": "stderr",
     "output_type": "stream",
     "text": [
      "/opt/homebrew/lib/python3.10/site-packages/xgboost/core.py:617: FutureWarning: Pass `evals` as keyword args.\n",
      "  warnings.warn(msg, FutureWarning)\n",
      "\n"
     ]
    },
    {
     "name": "stdout",
     "output_type": "stream",
     "text": [
      "\r",
      " 68%|██████████████████████████████████████▎                 | 171/250 [5:54:24<3:16:49, 149.48s/trial, best loss: 0.4015902192474974]"
     ]
    },
    {
     "name": "stderr",
     "output_type": "stream",
     "text": [
      "/opt/homebrew/lib/python3.10/site-packages/xgboost/core.py:617: FutureWarning: Pass `evals` as keyword args.\n",
      "  warnings.warn(msg, FutureWarning)\n",
      "\n"
     ]
    },
    {
     "name": "stdout",
     "output_type": "stream",
     "text": [
      "\r",
      " 69%|██████████████████████████████████████▌                 | 172/250 [5:55:27<2:40:40, 123.60s/trial, best loss: 0.4015902192474974]"
     ]
    },
    {
     "name": "stderr",
     "output_type": "stream",
     "text": [
      "/opt/homebrew/lib/python3.10/site-packages/xgboost/core.py:617: FutureWarning: Pass `evals` as keyword args.\n",
      "  warnings.warn(msg, FutureWarning)\n",
      "\n"
     ]
    },
    {
     "name": "stdout",
     "output_type": "stream",
     "text": [
      "\r",
      " 69%|██████████████████████████████████████▊                 | 173/250 [5:57:32<2:39:19, 124.15s/trial, best loss: 0.4015902192474974]"
     ]
    },
    {
     "name": "stderr",
     "output_type": "stream",
     "text": [
      "/opt/homebrew/lib/python3.10/site-packages/xgboost/core.py:617: FutureWarning: Pass `evals` as keyword args.\n",
      "  warnings.warn(msg, FutureWarning)\n",
      "\n"
     ]
    },
    {
     "name": "stdout",
     "output_type": "stream",
     "text": [
      "\r",
      " 70%|██████████████████████████████████████▉                 | 174/250 [5:59:21<2:31:26, 119.56s/trial, best loss: 0.4015902192474974]"
     ]
    },
    {
     "name": "stderr",
     "output_type": "stream",
     "text": [
      "/opt/homebrew/lib/python3.10/site-packages/xgboost/core.py:617: FutureWarning: Pass `evals` as keyword args.\n",
      "  warnings.warn(msg, FutureWarning)\n",
      "\n"
     ]
    },
    {
     "name": "stdout",
     "output_type": "stream",
     "text": [
      "\r",
      " 70%|███████████████████████████████████████▉                 | 175/250 [5:59:50<1:55:27, 92.36s/trial, best loss: 0.4015902192474974]"
     ]
    },
    {
     "name": "stderr",
     "output_type": "stream",
     "text": [
      "/opt/homebrew/lib/python3.10/site-packages/xgboost/core.py:617: FutureWarning: Pass `evals` as keyword args.\n",
      "  warnings.warn(msg, FutureWarning)\n",
      "\n"
     ]
    },
    {
     "name": "stdout",
     "output_type": "stream",
     "text": [
      "\r",
      " 70%|███████████████████████████████████████▍                | 176/250 [6:19:01<8:25:33, 409.91s/trial, best loss: 0.4015902192474974]"
     ]
    },
    {
     "name": "stderr",
     "output_type": "stream",
     "text": [
      "/opt/homebrew/lib/python3.10/site-packages/xgboost/core.py:617: FutureWarning: Pass `evals` as keyword args.\n",
      "  warnings.warn(msg, FutureWarning)\n",
      "\n"
     ]
    },
    {
     "name": "stdout",
     "output_type": "stream",
     "text": [
      "\r",
      " 71%|██████████████████████████████████████▉                | 177/250 [6:36:33<12:13:03, 602.51s/trial, best loss: 0.4015902192474974]"
     ]
    },
    {
     "name": "stderr",
     "output_type": "stream",
     "text": [
      "/opt/homebrew/lib/python3.10/site-packages/xgboost/core.py:617: FutureWarning: Pass `evals` as keyword args.\n",
      "  warnings.warn(msg, FutureWarning)\n",
      "\n"
     ]
    },
    {
     "name": "stdout",
     "output_type": "stream",
     "text": [
      "\r",
      " 71%|███████████████████████████████████████▏               | 178/250 [6:47:51<12:30:09, 625.13s/trial, best loss: 0.4015902192474974]"
     ]
    },
    {
     "name": "stderr",
     "output_type": "stream",
     "text": [
      "/opt/homebrew/lib/python3.10/site-packages/xgboost/core.py:617: FutureWarning: Pass `evals` as keyword args.\n",
      "  warnings.warn(msg, FutureWarning)\n",
      "\n"
     ]
    },
    {
     "name": "stdout",
     "output_type": "stream",
     "text": [
      "\r",
      " 72%|██████████████████████████████████████▋               | 179/250 [7:20:52<20:21:17, 1032.08s/trial, best loss: 0.4015902192474974]"
     ]
    },
    {
     "name": "stderr",
     "output_type": "stream",
     "text": [
      "/opt/homebrew/lib/python3.10/site-packages/xgboost/core.py:617: FutureWarning: Pass `evals` as keyword args.\n",
      "  warnings.warn(msg, FutureWarning)\n",
      "\n"
     ]
    },
    {
     "name": "stdout",
     "output_type": "stream",
     "text": [
      "\r",
      " 72%|███████████████████████████████████████▌               | 180/250 [7:29:07<16:55:52, 870.75s/trial, best loss: 0.4015902192474974]"
     ]
    },
    {
     "name": "stderr",
     "output_type": "stream",
     "text": [
      "/opt/homebrew/lib/python3.10/site-packages/xgboost/core.py:617: FutureWarning: Pass `evals` as keyword args.\n",
      "  warnings.warn(msg, FutureWarning)\n",
      "\n"
     ]
    },
    {
     "name": "stdout",
     "output_type": "stream",
     "text": [
      "\r",
      " 72%|███████████████████████████████████████               | 181/250 [8:35:53<34:43:16, 1811.54s/trial, best loss: 0.4015902192474974]"
     ]
    },
    {
     "name": "stderr",
     "output_type": "stream",
     "text": [
      "/opt/homebrew/lib/python3.10/site-packages/xgboost/core.py:617: FutureWarning: Pass `evals` as keyword args.\n",
      "  warnings.warn(msg, FutureWarning)\n",
      "\n"
     ]
    },
    {
     "name": "stdout",
     "output_type": "stream",
     "text": [
      "\r",
      " 73%|███████████████████████████████████████▎              | 182/250 [9:10:37<35:45:41, 1893.26s/trial, best loss: 0.4015902192474974]"
     ]
    },
    {
     "name": "stderr",
     "output_type": "stream",
     "text": [
      "/opt/homebrew/lib/python3.10/site-packages/xgboost/core.py:617: FutureWarning: Pass `evals` as keyword args.\n",
      "  warnings.warn(msg, FutureWarning)\n",
      "\n"
     ]
    },
    {
     "name": "stdout",
     "output_type": "stream",
     "text": [
      "\r",
      " 73%|███████████████████████████████████████▌              | 183/250 [9:14:37<26:00:18, 1397.28s/trial, best loss: 0.4015902192474974]"
     ]
    },
    {
     "name": "stderr",
     "output_type": "stream",
     "text": [
      "/opt/homebrew/lib/python3.10/site-packages/xgboost/core.py:617: FutureWarning: Pass `evals` as keyword args.\n",
      "  warnings.warn(msg, FutureWarning)\n",
      "\n"
     ]
    },
    {
     "name": "stdout",
     "output_type": "stream",
     "text": [
      "\r",
      " 74%|████████████████████████████████████████▍              | 184/250 [9:15:48<18:19:18, 999.37s/trial, best loss: 0.4015902192474974]"
     ]
    },
    {
     "name": "stderr",
     "output_type": "stream",
     "text": [
      "/opt/homebrew/lib/python3.10/site-packages/xgboost/core.py:617: FutureWarning: Pass `evals` as keyword args.\n",
      "  warnings.warn(msg, FutureWarning)\n",
      "\n"
     ]
    },
    {
     "name": "stdout",
     "output_type": "stream",
     "text": [
      "\r",
      " 74%|████████████████████████████████████████▋              | 185/250 [9:18:05<13:22:27, 740.72s/trial, best loss: 0.4015902192474974]"
     ]
    },
    {
     "name": "stderr",
     "output_type": "stream",
     "text": [
      "/opt/homebrew/lib/python3.10/site-packages/xgboost/core.py:617: FutureWarning: Pass `evals` as keyword args.\n",
      "  warnings.warn(msg, FutureWarning)\n",
      "\n"
     ]
    },
    {
     "name": "stdout",
     "output_type": "stream",
     "text": [
      "\r",
      " 74%|████████████████████████████████████████▉              | 186/250 [9:36:20<15:03:18, 846.85s/trial, best loss: 0.4015902192474974]"
     ]
    },
    {
     "name": "stderr",
     "output_type": "stream",
     "text": [
      "/opt/homebrew/lib/python3.10/site-packages/xgboost/core.py:617: FutureWarning: Pass `evals` as keyword args.\n",
      "  warnings.warn(msg, FutureWarning)\n",
      "\n"
     ]
    },
    {
     "name": "stdout",
     "output_type": "stream",
     "text": [
      "\r",
      " 75%|█████████████████████████████████████████▏             | 187/250 [9:54:51<16:12:25, 926.13s/trial, best loss: 0.4015902192474974]"
     ]
    },
    {
     "name": "stderr",
     "output_type": "stream",
     "text": [
      "/opt/homebrew/lib/python3.10/site-packages/xgboost/core.py:617: FutureWarning: Pass `evals` as keyword args.\n",
      "  warnings.warn(msg, FutureWarning)\n",
      "\n"
     ]
    },
    {
     "name": "stdout",
     "output_type": "stream",
     "text": [
      "\r",
      " 75%|████████████████████████████████████████▌             | 188/250 [10:11:37<16:21:52, 950.21s/trial, best loss: 0.4015902192474974]"
     ]
    },
    {
     "name": "stderr",
     "output_type": "stream",
     "text": [
      "/opt/homebrew/lib/python3.10/site-packages/xgboost/core.py:617: FutureWarning: Pass `evals` as keyword args.\n",
      "  warnings.warn(msg, FutureWarning)\n",
      "\n"
     ]
    },
    {
     "name": "stdout",
     "output_type": "stream",
     "text": [
      "\r",
      " 76%|████████████████████████████████████████▊             | 189/250 [10:14:05<12:01:19, 709.50s/trial, best loss: 0.4015902192474974]"
     ]
    },
    {
     "name": "stderr",
     "output_type": "stream",
     "text": [
      "/opt/homebrew/lib/python3.10/site-packages/xgboost/core.py:617: FutureWarning: Pass `evals` as keyword args.\n",
      "  warnings.warn(msg, FutureWarning)\n",
      "\n"
     ]
    },
    {
     "name": "stdout",
     "output_type": "stream",
     "text": [
      "\r",
      " 76%|█████████████████████████████████████████▊             | 190/250 [10:17:51<9:24:21, 564.36s/trial, best loss: 0.4015902192474974]"
     ]
    },
    {
     "name": "stderr",
     "output_type": "stream",
     "text": [
      "/opt/homebrew/lib/python3.10/site-packages/xgboost/core.py:617: FutureWarning: Pass `evals` as keyword args.\n",
      "  warnings.warn(msg, FutureWarning)\n",
      "\n"
     ]
    },
    {
     "name": "stdout",
     "output_type": "stream",
     "text": [
      "\r",
      " 76%|██████████████████████████████████████████             | 191/250 [10:19:54<7:04:38, 431.84s/trial, best loss: 0.4015902192474974]"
     ]
    },
    {
     "name": "stderr",
     "output_type": "stream",
     "text": [
      "/opt/homebrew/lib/python3.10/site-packages/xgboost/core.py:617: FutureWarning: Pass `evals` as keyword args.\n",
      "  warnings.warn(msg, FutureWarning)\n",
      "\n"
     ]
    },
    {
     "name": "stdout",
     "output_type": "stream",
     "text": [
      "\r",
      " 77%|█████████████████████████████████████████▍            | 192/250 [10:55:16<15:07:51, 939.16s/trial, best loss: 0.4015902192474974]"
     ]
    },
    {
     "name": "stderr",
     "output_type": "stream",
     "text": [
      "/opt/homebrew/lib/python3.10/site-packages/xgboost/core.py:617: FutureWarning: Pass `evals` as keyword args.\n",
      "  warnings.warn(msg, FutureWarning)\n",
      "\n"
     ]
    },
    {
     "name": "stdout",
     "output_type": "stream",
     "text": [
      "\r",
      " 77%|████████████████████████████████████████▉            | 193/250 [11:14:31<15:53:36, 1003.80s/trial, best loss: 0.4015902192474974]"
     ]
    },
    {
     "name": "stderr",
     "output_type": "stream",
     "text": [
      "/opt/homebrew/lib/python3.10/site-packages/xgboost/core.py:617: FutureWarning: Pass `evals` as keyword args.\n",
      "  warnings.warn(msg, FutureWarning)\n",
      "\n"
     ]
    },
    {
     "name": "stdout",
     "output_type": "stream",
     "text": [
      "\r",
      " 78%|█████████████████████████████████████████▉            | 194/250 [11:15:26<11:11:18, 719.26s/trial, best loss: 0.4015902192474974]"
     ]
    },
    {
     "name": "stderr",
     "output_type": "stream",
     "text": [
      "/opt/homebrew/lib/python3.10/site-packages/xgboost/core.py:617: FutureWarning: Pass `evals` as keyword args.\n",
      "  warnings.warn(msg, FutureWarning)\n",
      "\n"
     ]
    },
    {
     "name": "stdout",
     "output_type": "stream",
     "text": [
      "\r",
      " 78%|██████████████████████████████████████████▉            | 195/250 [11:16:22<7:56:42, 520.04s/trial, best loss: 0.4015902192474974]"
     ]
    },
    {
     "name": "stderr",
     "output_type": "stream",
     "text": [
      "/opt/homebrew/lib/python3.10/site-packages/xgboost/core.py:617: FutureWarning: Pass `evals` as keyword args.\n",
      "  warnings.warn(msg, FutureWarning)\n",
      "\n"
     ]
    },
    {
     "name": "stdout",
     "output_type": "stream",
     "text": [
      "\r",
      " 78%|███████████████████████████████████████████            | 196/250 [11:16:37<5:31:45, 368.61s/trial, best loss: 0.4015902192474974]"
     ]
    },
    {
     "name": "stderr",
     "output_type": "stream",
     "text": [
      "/opt/homebrew/lib/python3.10/site-packages/xgboost/core.py:617: FutureWarning: Pass `evals` as keyword args.\n",
      "  warnings.warn(msg, FutureWarning)\n",
      "\n"
     ]
    },
    {
     "name": "stdout",
     "output_type": "stream",
     "text": [
      "\r",
      " 79%|███████████████████████████████████████████▎           | 197/250 [11:17:01<3:54:25, 265.39s/trial, best loss: 0.4015902192474974]"
     ]
    },
    {
     "name": "stderr",
     "output_type": "stream",
     "text": [
      "/opt/homebrew/lib/python3.10/site-packages/xgboost/core.py:617: FutureWarning: Pass `evals` as keyword args.\n",
      "  warnings.warn(msg, FutureWarning)\n",
      "\n"
     ]
    },
    {
     "name": "stdout",
     "output_type": "stream",
     "text": [
      "\r",
      " 79%|██████████████████████████████████████████▊           | 198/250 [11:20:34<3:36:13, 249.50s/trial, best loss: 0.40131929261004456]"
     ]
    },
    {
     "name": "stderr",
     "output_type": "stream",
     "text": [
      "/opt/homebrew/lib/python3.10/site-packages/xgboost/core.py:617: FutureWarning: Pass `evals` as keyword args.\n",
      "  warnings.warn(msg, FutureWarning)\n",
      "\n"
     ]
    },
    {
     "name": "stdout",
     "output_type": "stream",
     "text": [
      "\r",
      " 80%|██████████████████████████████████████████▉           | 199/250 [11:21:21<2:40:33, 188.90s/trial, best loss: 0.40131929261004456]"
     ]
    },
    {
     "name": "stderr",
     "output_type": "stream",
     "text": [
      "/opt/homebrew/lib/python3.10/site-packages/xgboost/core.py:617: FutureWarning: Pass `evals` as keyword args.\n",
      "  warnings.warn(msg, FutureWarning)\n",
      "\n"
     ]
    },
    {
     "name": "stdout",
     "output_type": "stream",
     "text": [
      "\r",
      " 80%|███████████████████████████████████████████▏          | 200/250 [11:48:46<8:41:17, 625.54s/trial, best loss: 0.40131929261004456]"
     ]
    },
    {
     "name": "stderr",
     "output_type": "stream",
     "text": [
      "/opt/homebrew/lib/python3.10/site-packages/xgboost/core.py:617: FutureWarning: Pass `evals` as keyword args.\n",
      "  warnings.warn(msg, FutureWarning)\n",
      "\n"
     ]
    },
    {
     "name": "stdout",
     "output_type": "stream",
     "text": [
      "\r",
      " 80%|███████████████████████████████████████████▍          | 201/250 [11:59:10<8:30:38, 625.28s/trial, best loss: 0.40131929261004456]"
     ]
    },
    {
     "name": "stderr",
     "output_type": "stream",
     "text": [
      "/opt/homebrew/lib/python3.10/site-packages/xgboost/core.py:617: FutureWarning: Pass `evals` as keyword args.\n",
      "  warnings.warn(msg, FutureWarning)\n",
      "\n"
     ]
    },
    {
     "name": "stdout",
     "output_type": "stream",
     "text": [
      "\r",
      " 81%|███████████████████████████████████████████▋          | 202/250 [12:02:54<6:43:55, 504.91s/trial, best loss: 0.40131929261004456]"
     ]
    },
    {
     "name": "stderr",
     "output_type": "stream",
     "text": [
      "/opt/homebrew/lib/python3.10/site-packages/xgboost/core.py:617: FutureWarning: Pass `evals` as keyword args.\n",
      "  warnings.warn(msg, FutureWarning)\n",
      "\n"
     ]
    },
    {
     "name": "stdout",
     "output_type": "stream",
     "text": [
      "\r",
      " 81%|███████████████████████████████████████████▊          | 203/250 [12:03:56<4:51:23, 371.99s/trial, best loss: 0.40131929261004456]"
     ]
    },
    {
     "name": "stderr",
     "output_type": "stream",
     "text": [
      "/opt/homebrew/lib/python3.10/site-packages/xgboost/core.py:617: FutureWarning: Pass `evals` as keyword args.\n",
      "  warnings.warn(msg, FutureWarning)\n",
      "\n"
     ]
    },
    {
     "name": "stdout",
     "output_type": "stream",
     "text": [
      "\r",
      " 82%|████████████████████████████████████████████          | 204/250 [12:04:29<3:27:06, 270.15s/trial, best loss: 0.40131929261004456]"
     ]
    },
    {
     "name": "stderr",
     "output_type": "stream",
     "text": [
      "/opt/homebrew/lib/python3.10/site-packages/xgboost/core.py:617: FutureWarning: Pass `evals` as keyword args.\n",
      "  warnings.warn(msg, FutureWarning)\n",
      "\n"
     ]
    },
    {
     "name": "stdout",
     "output_type": "stream",
     "text": [
      "\r",
      " 82%|████████████████████████████████████████████▎         | 205/250 [12:06:33<2:49:47, 226.39s/trial, best loss: 0.40131929261004456]"
     ]
    },
    {
     "name": "stderr",
     "output_type": "stream",
     "text": [
      "/opt/homebrew/lib/python3.10/site-packages/xgboost/core.py:617: FutureWarning: Pass `evals` as keyword args.\n",
      "  warnings.warn(msg, FutureWarning)\n",
      "\n"
     ]
    },
    {
     "name": "stdout",
     "output_type": "stream",
     "text": [
      "\r",
      " 82%|████████████████████████████████████████████▍         | 206/250 [12:09:36<2:36:25, 213.32s/trial, best loss: 0.40131929261004456]"
     ]
    },
    {
     "name": "stderr",
     "output_type": "stream",
     "text": [
      "/opt/homebrew/lib/python3.10/site-packages/xgboost/core.py:617: FutureWarning: Pass `evals` as keyword args.\n",
      "  warnings.warn(msg, FutureWarning)\n",
      "\n"
     ]
    },
    {
     "name": "stdout",
     "output_type": "stream",
     "text": [
      "\r",
      " 83%|████████████████████████████████████████████▋         | 207/250 [12:11:22<2:09:46, 181.07s/trial, best loss: 0.40131929261004456]"
     ]
    },
    {
     "name": "stderr",
     "output_type": "stream",
     "text": [
      "/opt/homebrew/lib/python3.10/site-packages/xgboost/core.py:617: FutureWarning: Pass `evals` as keyword args.\n",
      "  warnings.warn(msg, FutureWarning)\n",
      "\n"
     ]
    },
    {
     "name": "stdout",
     "output_type": "stream",
     "text": [
      "\r",
      " 83%|████████████████████████████████████████████▉         | 208/250 [12:13:33<1:56:15, 166.09s/trial, best loss: 0.40131929261004456]"
     ]
    },
    {
     "name": "stderr",
     "output_type": "stream",
     "text": [
      "/opt/homebrew/lib/python3.10/site-packages/xgboost/core.py:617: FutureWarning: Pass `evals` as keyword args.\n",
      "  warnings.warn(msg, FutureWarning)\n",
      "\n"
     ]
    },
    {
     "name": "stdout",
     "output_type": "stream",
     "text": [
      "\r",
      " 84%|█████████████████████████████████████████████▏        | 209/250 [12:14:46<1:34:20, 138.06s/trial, best loss: 0.40131929261004456]"
     ]
    },
    {
     "name": "stderr",
     "output_type": "stream",
     "text": [
      "/opt/homebrew/lib/python3.10/site-packages/xgboost/core.py:617: FutureWarning: Pass `evals` as keyword args.\n",
      "  warnings.warn(msg, FutureWarning)\n",
      "\n"
     ]
    },
    {
     "name": "stdout",
     "output_type": "stream",
     "text": [
      "\r",
      " 84%|█████████████████████████████████████████████▎        | 210/250 [12:18:23<1:47:54, 161.87s/trial, best loss: 0.40131929261004456]"
     ]
    },
    {
     "name": "stderr",
     "output_type": "stream",
     "text": [
      "/opt/homebrew/lib/python3.10/site-packages/xgboost/core.py:617: FutureWarning: Pass `evals` as keyword args.\n",
      "  warnings.warn(msg, FutureWarning)\n",
      "\n"
     ]
    },
    {
     "name": "stdout",
     "output_type": "stream",
     "text": [
      "\r",
      " 84%|█████████████████████████████████████████████▌        | 211/250 [12:23:08<2:09:14, 198.83s/trial, best loss: 0.40131929261004456]"
     ]
    },
    {
     "name": "stderr",
     "output_type": "stream",
     "text": [
      "/opt/homebrew/lib/python3.10/site-packages/xgboost/core.py:617: FutureWarning: Pass `evals` as keyword args.\n",
      "  warnings.warn(msg, FutureWarning)\n",
      "\n"
     ]
    },
    {
     "name": "stdout",
     "output_type": "stream",
     "text": [
      "\r",
      " 85%|█████████████████████████████████████████████▊        | 212/250 [12:26:02<2:01:06, 191.23s/trial, best loss: 0.40131929261004456]"
     ]
    },
    {
     "name": "stderr",
     "output_type": "stream",
     "text": [
      "/opt/homebrew/lib/python3.10/site-packages/xgboost/core.py:617: FutureWarning: Pass `evals` as keyword args.\n",
      "  warnings.warn(msg, FutureWarning)\n",
      "\n"
     ]
    },
    {
     "name": "stdout",
     "output_type": "stream",
     "text": [
      "\r",
      " 85%|██████████████████████████████████████████████        | 213/250 [12:27:53<1:43:06, 167.20s/trial, best loss: 0.40131929261004456]"
     ]
    },
    {
     "name": "stderr",
     "output_type": "stream",
     "text": [
      "/opt/homebrew/lib/python3.10/site-packages/xgboost/core.py:617: FutureWarning: Pass `evals` as keyword args.\n",
      "  warnings.warn(msg, FutureWarning)\n",
      "\n"
     ]
    },
    {
     "name": "stdout",
     "output_type": "stream",
     "text": [
      "\r",
      " 86%|██████████████████████████████████████████████▏       | 214/250 [12:30:15<1:35:46, 159.63s/trial, best loss: 0.40131929261004456]"
     ]
    },
    {
     "name": "stderr",
     "output_type": "stream",
     "text": [
      "/opt/homebrew/lib/python3.10/site-packages/xgboost/core.py:617: FutureWarning: Pass `evals` as keyword args.\n",
      "  warnings.warn(msg, FutureWarning)\n",
      "\n"
     ]
    },
    {
     "name": "stdout",
     "output_type": "stream",
     "text": [
      "\r",
      " 86%|██████████████████████████████████████████████▍       | 215/250 [12:32:54<1:33:01, 159.47s/trial, best loss: 0.40131929261004456]"
     ]
    },
    {
     "name": "stderr",
     "output_type": "stream",
     "text": [
      "/opt/homebrew/lib/python3.10/site-packages/xgboost/core.py:617: FutureWarning: Pass `evals` as keyword args.\n",
      "  warnings.warn(msg, FutureWarning)\n",
      "\n"
     ]
    },
    {
     "name": "stdout",
     "output_type": "stream",
     "text": [
      "\r",
      " 86%|██████████████████████████████████████████████▋       | 216/250 [12:33:08<1:05:42, 115.95s/trial, best loss: 0.40131929261004456]"
     ]
    },
    {
     "name": "stderr",
     "output_type": "stream",
     "text": [
      "/opt/homebrew/lib/python3.10/site-packages/xgboost/core.py:617: FutureWarning: Pass `evals` as keyword args.\n",
      "  warnings.warn(msg, FutureWarning)\n",
      "\n"
     ]
    },
    {
     "name": "stdout",
     "output_type": "stream",
     "text": [
      "\r",
      " 87%|██████████████████████████████████████████████▊       | 217/250 [12:35:48<1:10:58, 129.04s/trial, best loss: 0.40131929261004456]"
     ]
    },
    {
     "name": "stderr",
     "output_type": "stream",
     "text": [
      "/opt/homebrew/lib/python3.10/site-packages/xgboost/core.py:617: FutureWarning: Pass `evals` as keyword args.\n",
      "  warnings.warn(msg, FutureWarning)\n",
      "\n"
     ]
    },
    {
     "name": "stdout",
     "output_type": "stream",
     "text": [
      "\r",
      " 87%|███████████████████████████████████████████████       | 218/250 [12:39:34<1:24:26, 158.32s/trial, best loss: 0.40131929261004456]"
     ]
    },
    {
     "name": "stderr",
     "output_type": "stream",
     "text": [
      "/opt/homebrew/lib/python3.10/site-packages/xgboost/core.py:617: FutureWarning: Pass `evals` as keyword args.\n",
      "  warnings.warn(msg, FutureWarning)\n",
      "\n"
     ]
    },
    {
     "name": "stdout",
     "output_type": "stream",
     "text": [
      "\r",
      " 88%|███████████████████████████████████████████████▎      | 219/250 [12:41:27<1:14:40, 144.54s/trial, best loss: 0.40131929261004456]"
     ]
    },
    {
     "name": "stderr",
     "output_type": "stream",
     "text": [
      "/opt/homebrew/lib/python3.10/site-packages/xgboost/core.py:617: FutureWarning: Pass `evals` as keyword args.\n",
      "  warnings.warn(msg, FutureWarning)\n",
      "\n"
     ]
    },
    {
     "name": "stdout",
     "output_type": "stream",
     "text": [
      "\r",
      " 88%|███████████████████████████████████████████████▌      | 220/250 [12:42:52<1:03:22, 126.76s/trial, best loss: 0.40131929261004456]"
     ]
    },
    {
     "name": "stderr",
     "output_type": "stream",
     "text": [
      "/opt/homebrew/lib/python3.10/site-packages/xgboost/core.py:617: FutureWarning: Pass `evals` as keyword args.\n",
      "  warnings.warn(msg, FutureWarning)\n",
      "\n"
     ]
    },
    {
     "name": "stdout",
     "output_type": "stream",
     "text": [
      "\r",
      " 88%|███████████████████████████████████████████████▋      | 221/250 [12:45:50<1:08:38, 142.03s/trial, best loss: 0.40131929261004456]"
     ]
    },
    {
     "name": "stderr",
     "output_type": "stream",
     "text": [
      "/opt/homebrew/lib/python3.10/site-packages/xgboost/core.py:617: FutureWarning: Pass `evals` as keyword args.\n",
      "  warnings.warn(msg, FutureWarning)\n",
      "\n"
     ]
    },
    {
     "name": "stdout",
     "output_type": "stream",
     "text": [
      "\r",
      " 89%|█████████████████████████████████████████████████▋      | 222/250 [12:46:07<48:51, 104.71s/trial, best loss: 0.40131929261004456]"
     ]
    },
    {
     "name": "stderr",
     "output_type": "stream",
     "text": [
      "/opt/homebrew/lib/python3.10/site-packages/xgboost/core.py:617: FutureWarning: Pass `evals` as keyword args.\n",
      "  warnings.warn(msg, FutureWarning)\n",
      "\n"
     ]
    },
    {
     "name": "stdout",
     "output_type": "stream",
     "text": [
      "\r",
      " 89%|██████████████████████████████████████████████████▊      | 223/250 [12:46:31<36:13, 80.50s/trial, best loss: 0.40131929261004456]"
     ]
    },
    {
     "name": "stderr",
     "output_type": "stream",
     "text": [
      "/opt/homebrew/lib/python3.10/site-packages/xgboost/core.py:617: FutureWarning: Pass `evals` as keyword args.\n",
      "  warnings.warn(msg, FutureWarning)\n",
      "\n"
     ]
    },
    {
     "name": "stdout",
     "output_type": "stream",
     "text": [
      "\r",
      " 90%|███████████████████████████████████████████████████      | 224/250 [12:46:36<25:00, 57.70s/trial, best loss: 0.40131929261004456]"
     ]
    },
    {
     "name": "stderr",
     "output_type": "stream",
     "text": [
      "/opt/homebrew/lib/python3.10/site-packages/xgboost/core.py:617: FutureWarning: Pass `evals` as keyword args.\n",
      "  warnings.warn(msg, FutureWarning)\n",
      "\n"
     ]
    },
    {
     "name": "stdout",
     "output_type": "stream",
     "text": [
      "\r",
      " 90%|███████████████████████████████████████████████████▎     | 225/250 [12:49:00<34:49, 83.56s/trial, best loss: 0.40131929261004456]"
     ]
    },
    {
     "name": "stderr",
     "output_type": "stream",
     "text": [
      "/opt/homebrew/lib/python3.10/site-packages/xgboost/core.py:617: FutureWarning: Pass `evals` as keyword args.\n",
      "  warnings.warn(msg, FutureWarning)\n",
      "\n"
     ]
    },
    {
     "name": "stdout",
     "output_type": "stream",
     "text": [
      "\r",
      " 90%|███████████████████████████████████████████████████▌     | 226/250 [12:49:28<26:46, 66.94s/trial, best loss: 0.40131929261004456]"
     ]
    },
    {
     "name": "stderr",
     "output_type": "stream",
     "text": [
      "/opt/homebrew/lib/python3.10/site-packages/xgboost/core.py:617: FutureWarning: Pass `evals` as keyword args.\n",
      "  warnings.warn(msg, FutureWarning)\n",
      "\n"
     ]
    },
    {
     "name": "stdout",
     "output_type": "stream",
     "text": [
      "\r",
      " 91%|███████████████████████████████████████████████████▊     | 227/250 [12:51:20<30:54, 80.63s/trial, best loss: 0.40131929261004456]"
     ]
    },
    {
     "name": "stderr",
     "output_type": "stream",
     "text": [
      "/opt/homebrew/lib/python3.10/site-packages/xgboost/core.py:617: FutureWarning: Pass `evals` as keyword args.\n",
      "  warnings.warn(msg, FutureWarning)\n",
      "\n"
     ]
    },
    {
     "name": "stdout",
     "output_type": "stream",
     "text": [
      "\r",
      " 91%|███████████████████████████████████████████████████▉     | 228/250 [12:51:41<22:58, 62.65s/trial, best loss: 0.40131929261004456]"
     ]
    },
    {
     "name": "stderr",
     "output_type": "stream",
     "text": [
      "/opt/homebrew/lib/python3.10/site-packages/xgboost/core.py:617: FutureWarning: Pass `evals` as keyword args.\n",
      "  warnings.warn(msg, FutureWarning)\n",
      "\n"
     ]
    },
    {
     "name": "stdout",
     "output_type": "stream",
     "text": [
      "\r",
      " 92%|████████████████████████████████████████████████████▏    | 229/250 [12:52:49<22:26, 64.10s/trial, best loss: 0.40131929261004456]"
     ]
    },
    {
     "name": "stderr",
     "output_type": "stream",
     "text": [
      "/opt/homebrew/lib/python3.10/site-packages/xgboost/core.py:617: FutureWarning: Pass `evals` as keyword args.\n",
      "  warnings.warn(msg, FutureWarning)\n",
      "\n"
     ]
    },
    {
     "name": "stdout",
     "output_type": "stream",
     "text": [
      "\r",
      " 92%|████████████████████████████████████████████████████▍    | 230/250 [12:55:15<29:35, 88.80s/trial, best loss: 0.40131929261004456]"
     ]
    },
    {
     "name": "stderr",
     "output_type": "stream",
     "text": [
      "/opt/homebrew/lib/python3.10/site-packages/xgboost/core.py:617: FutureWarning: Pass `evals` as keyword args.\n",
      "  warnings.warn(msg, FutureWarning)\n",
      "\n"
     ]
    },
    {
     "name": "stdout",
     "output_type": "stream",
     "text": [
      "\r",
      " 92%|████████████████████████████████████████████████████▋    | 231/250 [12:57:11<30:43, 97.03s/trial, best loss: 0.40131929261004456]"
     ]
    },
    {
     "name": "stderr",
     "output_type": "stream",
     "text": [
      "/opt/homebrew/lib/python3.10/site-packages/xgboost/core.py:617: FutureWarning: Pass `evals` as keyword args.\n",
      "  warnings.warn(msg, FutureWarning)\n",
      "\n"
     ]
    },
    {
     "name": "stdout",
     "output_type": "stream",
     "text": [
      "\r",
      " 93%|████████████████████████████████████████████████████▉    | 232/250 [12:57:53<24:08, 80.49s/trial, best loss: 0.40131929261004456]"
     ]
    },
    {
     "name": "stderr",
     "output_type": "stream",
     "text": [
      "/opt/homebrew/lib/python3.10/site-packages/xgboost/core.py:617: FutureWarning: Pass `evals` as keyword args.\n",
      "  warnings.warn(msg, FutureWarning)\n",
      "\n"
     ]
    },
    {
     "name": "stdout",
     "output_type": "stream",
     "text": [
      "\r",
      " 93%|█████████████████████████████████████████████████████    | 233/250 [12:58:14<17:46, 62.72s/trial, best loss: 0.40131929261004456]"
     ]
    },
    {
     "name": "stderr",
     "output_type": "stream",
     "text": [
      "/opt/homebrew/lib/python3.10/site-packages/xgboost/core.py:617: FutureWarning: Pass `evals` as keyword args.\n",
      "  warnings.warn(msg, FutureWarning)\n",
      "\n"
     ]
    },
    {
     "name": "stdout",
     "output_type": "stream",
     "text": [
      "\r",
      " 94%|█████████████████████████████████████████████████████▎   | 234/250 [12:59:00<15:22, 57.63s/trial, best loss: 0.40131929261004456]"
     ]
    },
    {
     "name": "stderr",
     "output_type": "stream",
     "text": [
      "/opt/homebrew/lib/python3.10/site-packages/xgboost/core.py:617: FutureWarning: Pass `evals` as keyword args.\n",
      "  warnings.warn(msg, FutureWarning)\n",
      "\n"
     ]
    },
    {
     "name": "stdout",
     "output_type": "stream",
     "text": [
      "\r",
      " 94%|█████████████████████████████████████████████████████▌   | 235/250 [13:00:29<16:46, 67.12s/trial, best loss: 0.40131929261004456]"
     ]
    },
    {
     "name": "stderr",
     "output_type": "stream",
     "text": [
      "/opt/homebrew/lib/python3.10/site-packages/xgboost/core.py:617: FutureWarning: Pass `evals` as keyword args.\n",
      "  warnings.warn(msg, FutureWarning)\n",
      "\n"
     ]
    },
    {
     "name": "stdout",
     "output_type": "stream",
     "text": [
      "\r",
      " 94%|█████████████████████████████████████████████████████▊   | 236/250 [13:02:58<21:20, 91.45s/trial, best loss: 0.40131929261004456]"
     ]
    },
    {
     "name": "stderr",
     "output_type": "stream",
     "text": [
      "/opt/homebrew/lib/python3.10/site-packages/xgboost/core.py:617: FutureWarning: Pass `evals` as keyword args.\n",
      "  warnings.warn(msg, FutureWarning)\n",
      "\n"
     ]
    },
    {
     "name": "stdout",
     "output_type": "stream",
     "text": [
      "\r",
      " 95%|█████████████████████████████████████████████████████   | 237/250 [13:04:59<21:43, 100.31s/trial, best loss: 0.40131929261004456]"
     ]
    },
    {
     "name": "stderr",
     "output_type": "stream",
     "text": [
      "/opt/homebrew/lib/python3.10/site-packages/xgboost/core.py:617: FutureWarning: Pass `evals` as keyword args.\n",
      "  warnings.warn(msg, FutureWarning)\n",
      "\n"
     ]
    },
    {
     "name": "stdout",
     "output_type": "stream",
     "text": [
      "\r",
      " 95%|██████████████████████████████████████████████████████▎  | 238/250 [13:06:30<19:30, 97.57s/trial, best loss: 0.40131929261004456]"
     ]
    },
    {
     "name": "stderr",
     "output_type": "stream",
     "text": [
      "/opt/homebrew/lib/python3.10/site-packages/xgboost/core.py:617: FutureWarning: Pass `evals` as keyword args.\n",
      "  warnings.warn(msg, FutureWarning)\n",
      "\n"
     ]
    },
    {
     "name": "stdout",
     "output_type": "stream",
     "text": [
      "\r",
      " 96%|██████████████████████████████████████████████████████▍  | 239/250 [13:07:10<14:44, 80.45s/trial, best loss: 0.40131929261004456]"
     ]
    },
    {
     "name": "stderr",
     "output_type": "stream",
     "text": [
      "/opt/homebrew/lib/python3.10/site-packages/xgboost/core.py:617: FutureWarning: Pass `evals` as keyword args.\n",
      "  warnings.warn(msg, FutureWarning)\n",
      "\n"
     ]
    },
    {
     "name": "stdout",
     "output_type": "stream",
     "text": [
      "\r",
      " 96%|██████████████████████████████████████████████████████▋  | 240/250 [13:08:13<12:30, 75.03s/trial, best loss: 0.40131929261004456]"
     ]
    },
    {
     "name": "stderr",
     "output_type": "stream",
     "text": [
      "/opt/homebrew/lib/python3.10/site-packages/xgboost/core.py:617: FutureWarning: Pass `evals` as keyword args.\n",
      "  warnings.warn(msg, FutureWarning)\n",
      "\n"
     ]
    },
    {
     "name": "stdout",
     "output_type": "stream",
     "text": [
      "\r",
      " 96%|██████████████████████████████████████████████████████▉  | 241/250 [13:10:46<14:46, 98.55s/trial, best loss: 0.40131929261004456]"
     ]
    },
    {
     "name": "stderr",
     "output_type": "stream",
     "text": [
      "/opt/homebrew/lib/python3.10/site-packages/xgboost/core.py:617: FutureWarning: Pass `evals` as keyword args.\n",
      "  warnings.warn(msg, FutureWarning)\n",
      "\n"
     ]
    },
    {
     "name": "stdout",
     "output_type": "stream",
     "text": [
      "\r",
      " 97%|███████████████████████████████████████████████████████▏ | 242/250 [13:12:15<12:46, 95.77s/trial, best loss: 0.40131929261004456]"
     ]
    },
    {
     "name": "stderr",
     "output_type": "stream",
     "text": [
      "/opt/homebrew/lib/python3.10/site-packages/xgboost/core.py:617: FutureWarning: Pass `evals` as keyword args.\n",
      "  warnings.warn(msg, FutureWarning)\n",
      "\n"
     ]
    },
    {
     "name": "stdout",
     "output_type": "stream",
     "text": [
      "\r",
      " 97%|██████████████████████████████████████████████████████▍ | 243/250 [13:14:11<11:52, 101.81s/trial, best loss: 0.40131929261004456]"
     ]
    },
    {
     "name": "stderr",
     "output_type": "stream",
     "text": [
      "/opt/homebrew/lib/python3.10/site-packages/xgboost/core.py:617: FutureWarning: Pass `evals` as keyword args.\n",
      "  warnings.warn(msg, FutureWarning)\n",
      "\n"
     ]
    },
    {
     "name": "stdout",
     "output_type": "stream",
     "text": [
      "\r",
      " 98%|██████████████████████████████████████████████████████▋ | 244/250 [13:16:09<10:40, 106.67s/trial, best loss: 0.40131929261004456]"
     ]
    },
    {
     "name": "stderr",
     "output_type": "stream",
     "text": [
      "/opt/homebrew/lib/python3.10/site-packages/xgboost/core.py:617: FutureWarning: Pass `evals` as keyword args.\n",
      "  warnings.warn(msg, FutureWarning)\n",
      "\n"
     ]
    },
    {
     "name": "stdout",
     "output_type": "stream",
     "text": [
      "\r",
      " 98%|██████████████████████████████████████████████████████▉ | 245/250 [13:17:38<08:26, 101.36s/trial, best loss: 0.40131929261004456]"
     ]
    },
    {
     "name": "stderr",
     "output_type": "stream",
     "text": [
      "/opt/homebrew/lib/python3.10/site-packages/xgboost/core.py:617: FutureWarning: Pass `evals` as keyword args.\n",
      "  warnings.warn(msg, FutureWarning)\n",
      "\n"
     ]
    },
    {
     "name": "stdout",
     "output_type": "stream",
     "text": [
      "\r",
      " 98%|████████████████████████████████████████████████████████ | 246/250 [13:18:11<05:23, 80.86s/trial, best loss: 0.40131929261004456]"
     ]
    },
    {
     "name": "stderr",
     "output_type": "stream",
     "text": [
      "/opt/homebrew/lib/python3.10/site-packages/xgboost/core.py:617: FutureWarning: Pass `evals` as keyword args.\n",
      "  warnings.warn(msg, FutureWarning)\n",
      "\n"
     ]
    },
    {
     "name": "stdout",
     "output_type": "stream",
     "text": [
      "\r",
      " 99%|████████████████████████████████████████████████████████▎| 247/250 [13:18:18<02:55, 58.66s/trial, best loss: 0.40131929261004456]"
     ]
    },
    {
     "name": "stderr",
     "output_type": "stream",
     "text": [
      "/opt/homebrew/lib/python3.10/site-packages/xgboost/core.py:617: FutureWarning: Pass `evals` as keyword args.\n",
      "  warnings.warn(msg, FutureWarning)\n",
      "\n"
     ]
    },
    {
     "name": "stdout",
     "output_type": "stream",
     "text": [
      "\r",
      " 99%|████████████████████████████████████████████████████████▌| 248/250 [13:18:39<01:34, 47.32s/trial, best loss: 0.40131929261004456]"
     ]
    },
    {
     "name": "stderr",
     "output_type": "stream",
     "text": [
      "/opt/homebrew/lib/python3.10/site-packages/xgboost/core.py:617: FutureWarning: Pass `evals` as keyword args.\n",
      "  warnings.warn(msg, FutureWarning)\n",
      "\n"
     ]
    },
    {
     "name": "stdout",
     "output_type": "stream",
     "text": [
      "\r",
      "100%|████████████████████████████████████████████████████████▊| 249/250 [13:19:20<00:45, 45.46s/trial, best loss: 0.40131929261004456]"
     ]
    },
    {
     "name": "stderr",
     "output_type": "stream",
     "text": [
      "/opt/homebrew/lib/python3.10/site-packages/xgboost/core.py:617: FutureWarning: Pass `evals` as keyword args.\n",
      "  warnings.warn(msg, FutureWarning)\n",
      "\n"
     ]
    },
    {
     "name": "stdout",
     "output_type": "stream",
     "text": [
      "100%|████████████████████████████████████████████████████████| 250/250 [13:19:58<00:00, 191.99s/trial, best loss: 0.40131929261004456]\n",
      "{'colsample_bytree': 0.8507163619553273, 'eta': 0.09041903083032421, 'gamma': 1.788247151343299, 'max_depth': 5, 'min_child_weight': 4.989822074413174, 'subsample': 0.6952159209607586}\n",
      "350\n"
     ]
    }
   ],
   "source": [
    "# Run optimiser with tpe\n",
    "%time\n",
    "trials = Trials()\n",
    "\n",
    "hopt = fmin(fn = score,\n",
    "            space = param_space, \n",
    "            algo = tpe.suggest, \n",
    "            max_evals = 250, ## 100\n",
    "            trials = trials, \n",
    "           )\n",
    "\n",
    "params_best = hopt\n",
    "params_best['max_depth'] = int(hopt['max_depth'])\n",
    "n_rounds_best = int(hopt['n_round'])\n",
    "del params_best['n_round']\n",
    "print(params_best)\n",
    "print(n_rounds_best)"
   ]
  },
  {
   "cell_type": "code",
   "execution_count": 19,
   "id": "c1644f9b",
   "metadata": {},
   "outputs": [
    {
     "name": "stdout",
     "output_type": "stream",
     "text": [
      "{'colsample_bytree': 0.8507163619553273, 'eta': 0.09041903083032421, 'gamma': 1.788247151343299, 'max_depth': 5, 'min_child_weight': 4.989822074413174, 'subsample': 0.6952159209607586}\n",
      "350\n"
     ]
    }
   ],
   "source": [
    "print(params_best)\n",
    "print(n_rounds_best)"
   ]
  },
  {
   "cell_type": "code",
   "execution_count": null,
   "id": "27e2ef52",
   "metadata": {},
   "outputs": [],
   "source": []
  }
 ],
 "metadata": {
  "kernelspec": {
   "display_name": "Python 3 (ipykernel)",
   "language": "python",
   "name": "python3"
  },
  "language_info": {
   "codemirror_mode": {
    "name": "ipython",
    "version": 3
   },
   "file_extension": ".py",
   "mimetype": "text/x-python",
   "name": "python",
   "nbconvert_exporter": "python",
   "pygments_lexer": "ipython3",
   "version": "3.10.12"
  }
 },
 "nbformat": 4,
 "nbformat_minor": 5
}
